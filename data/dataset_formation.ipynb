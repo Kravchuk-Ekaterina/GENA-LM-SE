{
  "cells": [
    {
      "cell_type": "markdown",
      "metadata": {
        "id": "06tPqDAjERlh"
      },
      "source": [
        "#datasets for gena lm"
      ]
    },
    {
      "cell_type": "code",
      "source": [
        "def intersect(data1, data2):\n",
        "  data = pd.concat([data1, data2])\n",
        "  names = []\n",
        "  starts = []\n",
        "  ends = []\n",
        "  for row in data.iterrows():\n",
        "    names.append(row[1][3])\n",
        "    starts.append(row[1][1])\n",
        "    ends.append(row[1][2])\n",
        "    intersections = []\n",
        "  for i in range(1, len(names)):\n",
        "    if ends[i-1]>starts[i]:\n",
        "      intersections.append(choice([names[i-1], names[i]]))\n",
        "  return intersections"
      ],
      "metadata": {
        "id": "GgI3Lm1ICvfi"
      },
      "execution_count": 1,
      "outputs": []
    },
    {
      "cell_type": "markdown",
      "metadata": {
        "id": "dna8N8S-ospS"
      },
      "source": [
        "## Imports"
      ]
    },
    {
      "cell_type": "code",
      "execution_count": 2,
      "metadata": {
        "colab": {
          "base_uri": "https://localhost:8080/"
        },
        "id": "nGVu6GTRXuWf",
        "outputId": "2ebf6c74-4e6c-4d19-c37f-f3d966141ea4"
      },
      "outputs": [
        {
          "output_type": "stream",
          "name": "stdout",
          "text": [
            "Mounted at /content/drive\n"
          ]
        }
      ],
      "source": [
        "from google.colab import drive\n",
        "drive.mount('/content/drive')"
      ]
    },
    {
      "cell_type": "code",
      "execution_count": 3,
      "metadata": {
        "colab": {
          "base_uri": "https://localhost:8080/"
        },
        "id": "g_et-vJ3swTo",
        "outputId": "6b1d4948-0404-449f-ec37-c13253cbe336"
      },
      "outputs": [
        {
          "output_type": "stream",
          "name": "stdout",
          "text": [
            "Collecting pybedtools\n",
            "  Downloading pybedtools-0.11.0.tar.gz (12.5 MB)\n",
            "\u001b[?25l     \u001b[90m━━━━━━━━━━━━━━━━━━━━━━━━━━━━━━━━━━━━━━━━\u001b[0m \u001b[32m0.0/12.5 MB\u001b[0m \u001b[31m?\u001b[0m eta \u001b[36m-:--:--\u001b[0m\r\u001b[2K     \u001b[91m━━━━━━\u001b[0m\u001b[90m╺\u001b[0m\u001b[90m━━━━━━━━━━━━━━━━━━━━━━━━━━━━━━━━━\u001b[0m \u001b[32m2.0/12.5 MB\u001b[0m \u001b[31m62.6 MB/s\u001b[0m eta \u001b[36m0:00:01\u001b[0m\r\u001b[2K     \u001b[91m━━━━━━━━━━━━━━━━━━\u001b[0m\u001b[91m╸\u001b[0m\u001b[90m━━━━━━━━━━━━━━━━━━━━━\u001b[0m \u001b[32m5.9/12.5 MB\u001b[0m \u001b[31m90.5 MB/s\u001b[0m eta \u001b[36m0:00:01\u001b[0m\r\u001b[2K     \u001b[91m━━━━━━━━━━━━━━━━━━━━━━━━━━━━━━━━━━\u001b[0m\u001b[91m╸\u001b[0m\u001b[90m━━━━━\u001b[0m \u001b[32m11.0/12.5 MB\u001b[0m \u001b[31m113.1 MB/s\u001b[0m eta \u001b[36m0:00:01\u001b[0m\r\u001b[2K     \u001b[91m━━━━━━━━━━━━━━━━━━━━━━━━━━━━━━━━━━━━━━━\u001b[0m\u001b[91m╸\u001b[0m \u001b[32m12.5/12.5 MB\u001b[0m \u001b[31m126.3 MB/s\u001b[0m eta \u001b[36m0:00:01\u001b[0m\r\u001b[2K     \u001b[90m━━━━━━━━━━━━━━━━━━━━━━━━━━━━━━━━━━━━━━━━\u001b[0m \u001b[32m12.5/12.5 MB\u001b[0m \u001b[31m75.3 MB/s\u001b[0m eta \u001b[36m0:00:00\u001b[0m\n",
            "\u001b[?25h  Preparing metadata (setup.py) ... \u001b[?25l\u001b[?25hdone\n",
            "Collecting pysam (from pybedtools)\n",
            "  Downloading pysam-0.22.1-cp311-cp311-manylinux_2_28_x86_64.whl.metadata (1.5 kB)\n",
            "Requirement already satisfied: numpy in /usr/local/lib/python3.11/dist-packages (from pybedtools) (1.26.4)\n",
            "Downloading pysam-0.22.1-cp311-cp311-manylinux_2_28_x86_64.whl (25.1 MB)\n",
            "\u001b[2K   \u001b[90m━━━━━━━━━━━━━━━━━━━━━━━━━━━━━━━━━━━━━━━━\u001b[0m \u001b[32m25.1/25.1 MB\u001b[0m \u001b[31m36.7 MB/s\u001b[0m eta \u001b[36m0:00:00\u001b[0m\n",
            "\u001b[?25hBuilding wheels for collected packages: pybedtools\n",
            "  Building wheel for pybedtools (setup.py) ... \u001b[?25l\u001b[?25hdone\n",
            "  Created wheel for pybedtools: filename=pybedtools-0.11.0-cp311-cp311-linux_x86_64.whl size=14028666 sha256=12c2114b8d3181b605ebd36e3c69554691352475ed5fc4d83f7a95ae384f5586\n",
            "  Stored in directory: /root/.cache/pip/wheels/29/a9/64/b72ced6183351e9fb889c0fc86eda39fab286a4b8838443314\n",
            "Successfully built pybedtools\n",
            "Installing collected packages: pysam, pybedtools\n",
            "Successfully installed pybedtools-0.11.0 pysam-0.22.1\n",
            "Collecting fuc\n",
            "  Downloading fuc-0.38.0-py3-none-any.whl.metadata (16 kB)\n",
            "Collecting biopython (from fuc)\n",
            "  Downloading biopython-1.85-cp311-cp311-manylinux_2_17_x86_64.manylinux2014_x86_64.whl.metadata (13 kB)\n",
            "Requirement already satisfied: lxml in /usr/local/lib/python3.11/dist-packages (from fuc) (5.3.0)\n",
            "Requirement already satisfied: matplotlib in /usr/local/lib/python3.11/dist-packages (from fuc) (3.10.0)\n",
            "Requirement already satisfied: matplotlib-venn in /usr/local/lib/python3.11/dist-packages (from fuc) (1.1.1)\n",
            "Requirement already satisfied: numpy in /usr/local/lib/python3.11/dist-packages (from fuc) (1.26.4)\n",
            "Requirement already satisfied: pandas in /usr/local/lib/python3.11/dist-packages (from fuc) (2.2.2)\n",
            "Collecting pyranges (from fuc)\n",
            "  Downloading pyranges-0.1.2-py3-none-any.whl.metadata (3.6 kB)\n",
            "Requirement already satisfied: pysam in /usr/local/lib/python3.11/dist-packages (from fuc) (0.22.1)\n",
            "Requirement already satisfied: scipy in /usr/local/lib/python3.11/dist-packages (from fuc) (1.13.1)\n",
            "Requirement already satisfied: seaborn in /usr/local/lib/python3.11/dist-packages (from fuc) (0.13.2)\n",
            "Requirement already satisfied: statsmodels in /usr/local/lib/python3.11/dist-packages (from fuc) (0.14.4)\n",
            "Requirement already satisfied: contourpy>=1.0.1 in /usr/local/lib/python3.11/dist-packages (from matplotlib->fuc) (1.3.1)\n",
            "Requirement already satisfied: cycler>=0.10 in /usr/local/lib/python3.11/dist-packages (from matplotlib->fuc) (0.12.1)\n",
            "Requirement already satisfied: fonttools>=4.22.0 in /usr/local/lib/python3.11/dist-packages (from matplotlib->fuc) (4.55.4)\n",
            "Requirement already satisfied: kiwisolver>=1.3.1 in /usr/local/lib/python3.11/dist-packages (from matplotlib->fuc) (1.4.8)\n",
            "Requirement already satisfied: packaging>=20.0 in /usr/local/lib/python3.11/dist-packages (from matplotlib->fuc) (24.2)\n",
            "Requirement already satisfied: pillow>=8 in /usr/local/lib/python3.11/dist-packages (from matplotlib->fuc) (11.1.0)\n",
            "Requirement already satisfied: pyparsing>=2.3.1 in /usr/local/lib/python3.11/dist-packages (from matplotlib->fuc) (3.2.1)\n",
            "Requirement already satisfied: python-dateutil>=2.7 in /usr/local/lib/python3.11/dist-packages (from matplotlib->fuc) (2.8.2)\n",
            "Requirement already satisfied: pytz>=2020.1 in /usr/local/lib/python3.11/dist-packages (from pandas->fuc) (2024.2)\n",
            "Requirement already satisfied: tzdata>=2022.7 in /usr/local/lib/python3.11/dist-packages (from pandas->fuc) (2025.1)\n",
            "Collecting ncls>=0.0.63 (from pyranges->fuc)\n",
            "  Downloading ncls-0.0.68-cp311-cp311-manylinux_2_17_x86_64.manylinux2014_x86_64.whl.metadata (4.6 kB)\n",
            "Requirement already satisfied: tabulate in /usr/local/lib/python3.11/dist-packages (from pyranges->fuc) (0.9.0)\n",
            "Collecting sorted-nearest>=0.0.33 (from pyranges->fuc)\n",
            "  Downloading sorted_nearest-0.0.39-cp311-cp311-manylinux_2_17_x86_64.manylinux2014_x86_64.whl.metadata (964 bytes)\n",
            "Requirement already satisfied: natsort in /usr/local/lib/python3.11/dist-packages (from pyranges->fuc) (8.4.0)\n",
            "Requirement already satisfied: patsy>=0.5.6 in /usr/local/lib/python3.11/dist-packages (from statsmodels->fuc) (1.0.1)\n",
            "Requirement already satisfied: six>=1.5 in /usr/local/lib/python3.11/dist-packages (from python-dateutil>=2.7->matplotlib->fuc) (1.17.0)\n",
            "Downloading fuc-0.38.0-py3-none-any.whl (154 kB)\n",
            "\u001b[2K   \u001b[90m━━━━━━━━━━━━━━━━━━━━━━━━━━━━━━━━━━━━━━━━\u001b[0m \u001b[32m154.7/154.7 kB\u001b[0m \u001b[31m13.5 MB/s\u001b[0m eta \u001b[36m0:00:00\u001b[0m\n",
            "\u001b[?25hDownloading biopython-1.85-cp311-cp311-manylinux_2_17_x86_64.manylinux2014_x86_64.whl (3.3 MB)\n",
            "\u001b[2K   \u001b[90m━━━━━━━━━━━━━━━━━━━━━━━━━━━━━━━━━━━━━━━━\u001b[0m \u001b[32m3.3/3.3 MB\u001b[0m \u001b[31m74.5 MB/s\u001b[0m eta \u001b[36m0:00:00\u001b[0m\n",
            "\u001b[?25hDownloading pyranges-0.1.2-py3-none-any.whl (1.5 MB)\n",
            "\u001b[2K   \u001b[90m━━━━━━━━━━━━━━━━━━━━━━━━━━━━━━━━━━━━━━━━\u001b[0m \u001b[32m1.5/1.5 MB\u001b[0m \u001b[31m72.3 MB/s\u001b[0m eta \u001b[36m0:00:00\u001b[0m\n",
            "\u001b[?25hDownloading ncls-0.0.68-cp311-cp311-manylinux_2_17_x86_64.manylinux2014_x86_64.whl (2.5 MB)\n",
            "\u001b[2K   \u001b[90m━━━━━━━━━━━━━━━━━━━━━━━━━━━━━━━━━━━━━━━━\u001b[0m \u001b[32m2.5/2.5 MB\u001b[0m \u001b[31m90.5 MB/s\u001b[0m eta \u001b[36m0:00:00\u001b[0m\n",
            "\u001b[?25hDownloading sorted_nearest-0.0.39-cp311-cp311-manylinux_2_17_x86_64.manylinux2014_x86_64.whl (6.2 MB)\n",
            "\u001b[2K   \u001b[90m━━━━━━━━━━━━━━━━━━━━━━━━━━━━━━━━━━━━━━━━\u001b[0m \u001b[32m6.2/6.2 MB\u001b[0m \u001b[31m102.1 MB/s\u001b[0m eta \u001b[36m0:00:00\u001b[0m\n",
            "\u001b[?25hInstalling collected packages: sorted-nearest, ncls, biopython, pyranges, fuc\n",
            "Successfully installed biopython-1.85 fuc-0.38.0 ncls-0.0.68 pyranges-0.1.2 sorted-nearest-0.0.39\n",
            "Requirement already satisfied: transformers in /usr/local/lib/python3.11/dist-packages (4.47.1)\n",
            "Requirement already satisfied: filelock in /usr/local/lib/python3.11/dist-packages (from transformers) (3.17.0)\n",
            "Requirement already satisfied: huggingface-hub<1.0,>=0.24.0 in /usr/local/lib/python3.11/dist-packages (from transformers) (0.27.1)\n",
            "Requirement already satisfied: numpy>=1.17 in /usr/local/lib/python3.11/dist-packages (from transformers) (1.26.4)\n",
            "Requirement already satisfied: packaging>=20.0 in /usr/local/lib/python3.11/dist-packages (from transformers) (24.2)\n",
            "Requirement already satisfied: pyyaml>=5.1 in /usr/local/lib/python3.11/dist-packages (from transformers) (6.0.2)\n",
            "Requirement already satisfied: regex!=2019.12.17 in /usr/local/lib/python3.11/dist-packages (from transformers) (2024.11.6)\n",
            "Requirement already satisfied: requests in /usr/local/lib/python3.11/dist-packages (from transformers) (2.32.3)\n",
            "Requirement already satisfied: tokenizers<0.22,>=0.21 in /usr/local/lib/python3.11/dist-packages (from transformers) (0.21.0)\n",
            "Requirement already satisfied: safetensors>=0.4.1 in /usr/local/lib/python3.11/dist-packages (from transformers) (0.5.2)\n",
            "Requirement already satisfied: tqdm>=4.27 in /usr/local/lib/python3.11/dist-packages (from transformers) (4.67.1)\n",
            "Requirement already satisfied: fsspec>=2023.5.0 in /usr/local/lib/python3.11/dist-packages (from huggingface-hub<1.0,>=0.24.0->transformers) (2024.10.0)\n",
            "Requirement already satisfied: typing-extensions>=3.7.4.3 in /usr/local/lib/python3.11/dist-packages (from huggingface-hub<1.0,>=0.24.0->transformers) (4.12.2)\n",
            "Requirement already satisfied: charset-normalizer<4,>=2 in /usr/local/lib/python3.11/dist-packages (from requests->transformers) (3.4.1)\n",
            "Requirement already satisfied: idna<4,>=2.5 in /usr/local/lib/python3.11/dist-packages (from requests->transformers) (3.10)\n",
            "Requirement already satisfied: urllib3<3,>=1.21.1 in /usr/local/lib/python3.11/dist-packages (from requests->transformers) (2.3.0)\n",
            "Requirement already satisfied: certifi>=2017.4.17 in /usr/local/lib/python3.11/dist-packages (from requests->transformers) (2024.12.14)\n"
          ]
        }
      ],
      "source": [
        "!pip install pybedtools\n",
        "!pip install fuc\n",
        "!pip install transformers"
      ]
    },
    {
      "cell_type": "code",
      "execution_count": 4,
      "metadata": {
        "id": "MMV7GZOeowYl"
      },
      "outputs": [],
      "source": [
        "from random import choice\n",
        "import random\n",
        "import pandas as pd\n",
        "import pybedtools as bedtools\n",
        "import os\n",
        "import Bio\n",
        "from Bio import SeqIO\n",
        "import numpy as np\n",
        "import matplotlib.pyplot as plt\n",
        "from matplotlib.ticker import PercentFormatter"
      ]
    },
    {
      "cell_type": "code",
      "execution_count": 5,
      "metadata": {
        "id": "G8Mykzs5vLjD",
        "colab": {
          "base_uri": "https://localhost:8080/",
          "referenced_widgets": [
            "98a2212919e844f686e2e403efafb14c",
            "4e695f2ab8d0431f83667412bc0c2c90",
            "d957361346964d7eaac834cb96458a67",
            "8382fc401bd94607bd575c0c739b51b0",
            "f505cebed78f4ac2be326a2bb74839b6",
            "9d91e290480a488b84ad8aa2d96101f6",
            "26b3435bce4942ed98e314ffbd638fa3",
            "08c1e05dfbb3456eb73894dcf779ed14",
            "e3b5fc699475446eb1e192051dcfe5a2",
            "06f03cc3e1a445faaa60a8ea1a81bc35",
            "f9f0677fada4476b9b66e19e63fec5d5",
            "0f3a60077ff546849721c1eb33e010e1",
            "98e594a1539b46be8b06b25fb3f492a9",
            "be54a1d8d7054e6fb58e4268844981f4",
            "32aa91564bed4defa18ee1f296925803",
            "7b19cdc6d3f14e49904a2fed71e03b75",
            "59b07939988d4431bce3a4184a7c8f97",
            "6f57271022544db38a97ee1b8376de3e",
            "966f066908bd4b7d9d14a6e864773646",
            "4a1f4c6495cc4b4f8040c9d6e45fd394",
            "a5976c5e85a044939a8efc537b4cd47f",
            "1ba6418b517c4aef91e0ceff14deab07",
            "47969090d03b481681d3684c15cd7120",
            "f9be223b5aae431abd60703ec9e15369",
            "66491e93affb41bdb18aa982bc29e775",
            "a95e8dabc24142008070d99299df4426",
            "6837a77df74d4e8b929a1aa294199a72",
            "fc85e2f3373e4d01af9e63be48defb48",
            "e161c66683f44958a13e00160fd371a3",
            "3438e2da15194393ade88e0cacdde381",
            "4fff7f7a186d4c1daaa7aaefb5b6e5ce",
            "f554248050f9427a9d91b98a22618169",
            "d0820122f8be476d805f630e6e6ebeb1"
          ],
          "height": 217
        },
        "outputId": "0f5c46e0-e88f-486a-d062-8f8f24deeb6f"
      },
      "outputs": [
        {
          "output_type": "stream",
          "name": "stderr",
          "text": [
            "/usr/local/lib/python3.11/dist-packages/huggingface_hub/utils/_auth.py:94: UserWarning: \n",
            "The secret `HF_TOKEN` does not exist in your Colab secrets.\n",
            "To authenticate with the Hugging Face Hub, create a token in your settings tab (https://huggingface.co/settings/tokens), set it as secret in your Google Colab and restart your session.\n",
            "You will be able to reuse this secret in all of your notebooks.\n",
            "Please note that authentication is recommended but still optional to access public models or datasets.\n",
            "  warnings.warn(\n"
          ]
        },
        {
          "output_type": "display_data",
          "data": {
            "text/plain": [
              "tokenizer_config.json:   0%|          | 0.00/46.0 [00:00<?, ?B/s]"
            ],
            "application/vnd.jupyter.widget-view+json": {
              "version_major": 2,
              "version_minor": 0,
              "model_id": "98a2212919e844f686e2e403efafb14c"
            }
          },
          "metadata": {}
        },
        {
          "output_type": "display_data",
          "data": {
            "text/plain": [
              "tokenizer.json:   0%|          | 0.00/1.48M [00:00<?, ?B/s]"
            ],
            "application/vnd.jupyter.widget-view+json": {
              "version_major": 2,
              "version_minor": 0,
              "model_id": "0f3a60077ff546849721c1eb33e010e1"
            }
          },
          "metadata": {}
        },
        {
          "output_type": "display_data",
          "data": {
            "text/plain": [
              "special_tokens_map.json:   0%|          | 0.00/112 [00:00<?, ?B/s]"
            ],
            "application/vnd.jupyter.widget-view+json": {
              "version_major": 2,
              "version_minor": 0,
              "model_id": "47969090d03b481681d3684c15cd7120"
            }
          },
          "metadata": {}
        }
      ],
      "source": [
        "from transformers import AutoTokenizer, BigBirdForSequenceClassification, AutoModelForSequenceClassification\n",
        "\n",
        "tokenizer = AutoTokenizer.from_pretrained('AIRI-Institute/gena-lm-bigbird-base-t2t')"
      ]
    },
    {
      "cell_type": "code",
      "execution_count": 6,
      "metadata": {
        "id": "XDZ5FRQUpSE7"
      },
      "outputs": [],
      "source": [
        "chrom_lengths = {'chr1':249250621, 'chr2':243199373, 'chr3':198022430, 'chr4':191154276,\n",
        "                 'chr5':180915260, 'chr6':171115067, 'chr7':159138663, 'chr8':146364022,\n",
        "                 'chr9':\t141213431, 'chr10':135534747, 'chr11':135006516, 'chr12':133851895,\n",
        "                 'chr13':115169878, 'chr14': \t107349540, 'chr15':\t102531392, 'chr16':\t90354753,\n",
        "                 'chr17':\t81195210, 'chr18':78077248, 'chr19':59128983, 'chr20':63025520,\n",
        "                 'chr21':48129895, 'chr22':\t51304566, 'chrX':155270560, 'chrY':\t59373566}"
      ]
    },
    {
      "cell_type": "markdown",
      "metadata": {
        "id": "Vn_wcheAGW46"
      },
      "source": [
        "## MM1S"
      ]
    },
    {
      "cell_type": "markdown",
      "metadata": {
        "id": "sW9-iXyHGW46"
      },
      "source": [
        "### SE"
      ]
    },
    {
      "cell_type": "markdown",
      "metadata": {
        "id": "BmnH9WpUGW46"
      },
      "source": [
        "14.07.2023 14:12 Msk the data for MM1S was downloaded from SEdb (2023-07-14* files) и из dbSuper (MM1S.bed)"
      ]
    },
    {
      "cell_type": "markdown",
      "metadata": {
        "id": "xIvjEKf3GW46"
      },
      "source": [
        "Datasets intersection:"
      ]
    },
    {
      "cell_type": "code",
      "execution_count": null,
      "metadata": {
        "id": "-hbgjO-pGW47"
      },
      "outputs": [],
      "source": [
        "data = pd.read_csv('/content/drive/MyDrive/neural_networks/data/MM1S/2023-07-14_11_12_26_se_result.bed', sep='\\t', comment='t', header=None)\n",
        "header = ['chrom', 'chromStart', 'chromEnd', 'name']\n",
        "data.columns = header"
      ]
    },
    {
      "cell_type": "code",
      "execution_count": null,
      "metadata": {
        "id": "4A-j-EPIGW47"
      },
      "outputs": [],
      "source": [
        "data2 = pd.read_csv('/content/drive/MyDrive/neural_networks/data/MM1S/MM1S.bed', sep = '\\t')"
      ]
    },
    {
      "cell_type": "code",
      "source": [
        "header2 = ['chrom', 'chromStart', 'chromEnd', 'name', 'score']\n",
        "data2.columns = header2\n",
        "del data2['score']"
      ],
      "metadata": {
        "id": "nTuo7qrgGW47"
      },
      "execution_count": null,
      "outputs": []
    },
    {
      "cell_type": "code",
      "execution_count": null,
      "metadata": {
        "id": "YfjneXU9GW47"
      },
      "outputs": [],
      "source": [
        "data = pd.concat([data, data2])\n",
        "data = data.sort_values(by = ['chrom', 'chromStart'])\n",
        "names = []\n",
        "starts = []\n",
        "ends = []\n",
        "\n",
        "for row in data.iterrows():\n",
        "      names.append(row[1][3])\n",
        "      starts.append(row[1][1])\n",
        "      ends.append(row[1][2])\n"
      ]
    },
    {
      "cell_type": "code",
      "source": [
        "intersections = []\n",
        "for i in range(1, 1557):\n",
        "      if ends[i-1]>starts[i]:\n",
        "        intersections.append(choice([names[i-1], names[i]]))\n",
        "\n",
        "intersected_data = data[data['name'].isin(intersections)]\n",
        "data = pd.concat([data, intersected_data]).drop_duplicates(keep=False)"
      ],
      "metadata": {
        "id": "jUWnwB3tHBO9"
      },
      "execution_count": null,
      "outputs": []
    },
    {
      "cell_type": "markdown",
      "metadata": {
        "id": "widILvg-GW47"
      },
      "source": [
        "Sorting by length"
      ]
    },
    {
      "cell_type": "code",
      "execution_count": null,
      "metadata": {
        "id": "GoxBJeEIGW47"
      },
      "outputs": [],
      "source": [
        "data['length'] = data['chromEnd'] - data['chromStart']"
      ]
    },
    {
      "cell_type": "code",
      "execution_count": null,
      "metadata": {
        "id": "xqF3r51gGW47"
      },
      "outputs": [],
      "source": [
        "data = data[data['length']>=2500]"
      ]
    },
    {
      "cell_type": "code",
      "execution_count": null,
      "metadata": {
        "id": "bXbQt9LwGW48"
      },
      "outputs": [],
      "source": [
        "for i in chrom_lengths.keys():\n",
        "  strange_data = data[data['chrom']==i]\n",
        "  strange_data = strange_data[strange_data['chromEnd']>chrom_lengths[i]]\n",
        "  data = pd.concat([data, strange_data]).drop_duplicates(keep=False)"
      ]
    },
    {
      "cell_type": "code",
      "execution_count": null,
      "metadata": {
        "id": "VGrloNRJGW48"
      },
      "outputs": [],
      "source": [
        "data = data[data['chrom'].isin(chrom_lengths.keys())]"
      ]
    },
    {
      "cell_type": "code",
      "execution_count": null,
      "metadata": {
        "id": "umzS7r98GW48"
      },
      "outputs": [],
      "source": [
        "data['chromStart'] = data['chromStart'].astype(int)\n",
        "data['chromEnd'] = data['chromEnd'].astype(int)"
      ]
    },
    {
      "cell_type": "markdown",
      "metadata": {
        "id": "aPR_Yy4nGW48"
      },
      "source": [
        "Saving the data"
      ]
    },
    {
      "cell_type": "code",
      "execution_count": null,
      "metadata": {
        "id": "xnkRHTFFGW48"
      },
      "outputs": [],
      "source": [
        "bed_data = bedtools.BedTool.from_dataframe(data)"
      ]
    },
    {
      "cell_type": "code",
      "execution_count": null,
      "metadata": {
        "id": "j8yHOpGkGW48"
      },
      "outputs": [],
      "source": [
        "bed_data.saveas('/content/drive/MyDrive/neural_networks/data/MM1S/SE_data.bed')"
      ]
    },
    {
      "cell_type": "markdown",
      "metadata": {
        "id": "lVdAhulWGW48"
      },
      "source": [
        "We use bed2fasta https://meme-suite.org/meme/tools/bed2fasta to extract sequences using the coordinates in bed files"
      ]
    },
    {
      "cell_type": "markdown",
      "metadata": {
        "id": "mdF9Xn5uGW48"
      },
      "source": [
        "### TE"
      ]
    },
    {
      "cell_type": "markdown",
      "metadata": {
        "id": "uduIl31hGW49"
      },
      "source": [
        "Downloaded data from EnhancerAtlas 2.0 14.07.2023 14:20 for MM1S"
      ]
    },
    {
      "cell_type": "code",
      "execution_count": null,
      "metadata": {
        "id": "H8Yy_35XGW49"
      },
      "outputs": [],
      "source": [
        "TE_data = pd.read_csv('/content/drive/MyDrive/neural_networks/data/MM1S/MM1S.enhancers.bed', sep = '\\t', header = None)"
      ]
    },
    {
      "cell_type": "code",
      "source": [
        "TE_data"
      ],
      "metadata": {
        "colab": {
          "base_uri": "https://localhost:8080/",
          "height": 597
        },
        "outputId": "bee8d821-58a7-41fb-aa72-48d775c5fe1b",
        "id": "CNpP08-gGW49"
      },
      "execution_count": null,
      "outputs": [
        {
          "output_type": "execute_result",
          "data": {
            "text/plain": [
              "         0          1          2             3   4  5          6          7   \\\n",
              "0      chr1     779222     779432  EH38E2776541   0  .     779222     779432   \n",
              "1      chr1     943991     944207  EH38E2776683   0  .     943991     944207   \n",
              "2      chr1     944391     944733  EH38E1310285   0  .     944391     944733   \n",
              "3      chr1     966648     966798  EH38E1310308   0  .     966648     966798   \n",
              "4      chr1     966827     967177  EH38E2776722   0  .     966827     967177   \n",
              "...     ...        ...        ...           ...  .. ..        ...        ...   \n",
              "61609  chrX  155216708  155217019  EH38E3949941   0  .  155216708  155217019   \n",
              "61610  chrX  155231220  155231552  EH38E2774625   0  .  155231220  155231552   \n",
              "61611  chrX  155334642  155334992  EH38E2774647   0  .  155334642  155334992   \n",
              "61612  chrX  155847098  155847361  EH38E2774702   0  .  155847098  155847361   \n",
              "61613  chrX  155876806  155877053  EH38E3950005   0  .  155876806  155877053   \n",
              "\n",
              "              8                9                             10  \n",
              "0      255,167,0             pELS  All-data/Full-classification  \n",
              "1      255,205,0             dELS  All-data/Full-classification  \n",
              "2      255,205,0             dELS  All-data/Full-classification  \n",
              "3      255,167,0             pELS  All-data/Full-classification  \n",
              "4      255,167,0             pELS  All-data/Full-classification  \n",
              "...          ...              ...                           ...  \n",
              "61609  255,167,0  pELS,CTCF-bound  All-data/Full-classification  \n",
              "61610  255,205,0             dELS  All-data/Full-classification  \n",
              "61611  255,167,0             pELS  All-data/Full-classification  \n",
              "61612  255,205,0             dELS  All-data/Full-classification  \n",
              "61613  255,167,0             pELS  All-data/Full-classification  \n",
              "\n",
              "[61614 rows x 11 columns]"
            ],
            "text/html": [
              "\n",
              "  <div id=\"df-77950712-0d85-45b7-b8c5-f3662795854c\" class=\"colab-df-container\">\n",
              "    <div>\n",
              "<style scoped>\n",
              "    .dataframe tbody tr th:only-of-type {\n",
              "        vertical-align: middle;\n",
              "    }\n",
              "\n",
              "    .dataframe tbody tr th {\n",
              "        vertical-align: top;\n",
              "    }\n",
              "\n",
              "    .dataframe thead th {\n",
              "        text-align: right;\n",
              "    }\n",
              "</style>\n",
              "<table border=\"1\" class=\"dataframe\">\n",
              "  <thead>\n",
              "    <tr style=\"text-align: right;\">\n",
              "      <th></th>\n",
              "      <th>0</th>\n",
              "      <th>1</th>\n",
              "      <th>2</th>\n",
              "      <th>3</th>\n",
              "      <th>4</th>\n",
              "      <th>5</th>\n",
              "      <th>6</th>\n",
              "      <th>7</th>\n",
              "      <th>8</th>\n",
              "      <th>9</th>\n",
              "      <th>10</th>\n",
              "    </tr>\n",
              "  </thead>\n",
              "  <tbody>\n",
              "    <tr>\n",
              "      <th>0</th>\n",
              "      <td>chr1</td>\n",
              "      <td>779222</td>\n",
              "      <td>779432</td>\n",
              "      <td>EH38E2776541</td>\n",
              "      <td>0</td>\n",
              "      <td>.</td>\n",
              "      <td>779222</td>\n",
              "      <td>779432</td>\n",
              "      <td>255,167,0</td>\n",
              "      <td>pELS</td>\n",
              "      <td>All-data/Full-classification</td>\n",
              "    </tr>\n",
              "    <tr>\n",
              "      <th>1</th>\n",
              "      <td>chr1</td>\n",
              "      <td>943991</td>\n",
              "      <td>944207</td>\n",
              "      <td>EH38E2776683</td>\n",
              "      <td>0</td>\n",
              "      <td>.</td>\n",
              "      <td>943991</td>\n",
              "      <td>944207</td>\n",
              "      <td>255,205,0</td>\n",
              "      <td>dELS</td>\n",
              "      <td>All-data/Full-classification</td>\n",
              "    </tr>\n",
              "    <tr>\n",
              "      <th>2</th>\n",
              "      <td>chr1</td>\n",
              "      <td>944391</td>\n",
              "      <td>944733</td>\n",
              "      <td>EH38E1310285</td>\n",
              "      <td>0</td>\n",
              "      <td>.</td>\n",
              "      <td>944391</td>\n",
              "      <td>944733</td>\n",
              "      <td>255,205,0</td>\n",
              "      <td>dELS</td>\n",
              "      <td>All-data/Full-classification</td>\n",
              "    </tr>\n",
              "    <tr>\n",
              "      <th>3</th>\n",
              "      <td>chr1</td>\n",
              "      <td>966648</td>\n",
              "      <td>966798</td>\n",
              "      <td>EH38E1310308</td>\n",
              "      <td>0</td>\n",
              "      <td>.</td>\n",
              "      <td>966648</td>\n",
              "      <td>966798</td>\n",
              "      <td>255,167,0</td>\n",
              "      <td>pELS</td>\n",
              "      <td>All-data/Full-classification</td>\n",
              "    </tr>\n",
              "    <tr>\n",
              "      <th>4</th>\n",
              "      <td>chr1</td>\n",
              "      <td>966827</td>\n",
              "      <td>967177</td>\n",
              "      <td>EH38E2776722</td>\n",
              "      <td>0</td>\n",
              "      <td>.</td>\n",
              "      <td>966827</td>\n",
              "      <td>967177</td>\n",
              "      <td>255,167,0</td>\n",
              "      <td>pELS</td>\n",
              "      <td>All-data/Full-classification</td>\n",
              "    </tr>\n",
              "    <tr>\n",
              "      <th>...</th>\n",
              "      <td>...</td>\n",
              "      <td>...</td>\n",
              "      <td>...</td>\n",
              "      <td>...</td>\n",
              "      <td>...</td>\n",
              "      <td>...</td>\n",
              "      <td>...</td>\n",
              "      <td>...</td>\n",
              "      <td>...</td>\n",
              "      <td>...</td>\n",
              "      <td>...</td>\n",
              "    </tr>\n",
              "    <tr>\n",
              "      <th>61609</th>\n",
              "      <td>chrX</td>\n",
              "      <td>155216708</td>\n",
              "      <td>155217019</td>\n",
              "      <td>EH38E3949941</td>\n",
              "      <td>0</td>\n",
              "      <td>.</td>\n",
              "      <td>155216708</td>\n",
              "      <td>155217019</td>\n",
              "      <td>255,167,0</td>\n",
              "      <td>pELS,CTCF-bound</td>\n",
              "      <td>All-data/Full-classification</td>\n",
              "    </tr>\n",
              "    <tr>\n",
              "      <th>61610</th>\n",
              "      <td>chrX</td>\n",
              "      <td>155231220</td>\n",
              "      <td>155231552</td>\n",
              "      <td>EH38E2774625</td>\n",
              "      <td>0</td>\n",
              "      <td>.</td>\n",
              "      <td>155231220</td>\n",
              "      <td>155231552</td>\n",
              "      <td>255,205,0</td>\n",
              "      <td>dELS</td>\n",
              "      <td>All-data/Full-classification</td>\n",
              "    </tr>\n",
              "    <tr>\n",
              "      <th>61611</th>\n",
              "      <td>chrX</td>\n",
              "      <td>155334642</td>\n",
              "      <td>155334992</td>\n",
              "      <td>EH38E2774647</td>\n",
              "      <td>0</td>\n",
              "      <td>.</td>\n",
              "      <td>155334642</td>\n",
              "      <td>155334992</td>\n",
              "      <td>255,167,0</td>\n",
              "      <td>pELS</td>\n",
              "      <td>All-data/Full-classification</td>\n",
              "    </tr>\n",
              "    <tr>\n",
              "      <th>61612</th>\n",
              "      <td>chrX</td>\n",
              "      <td>155847098</td>\n",
              "      <td>155847361</td>\n",
              "      <td>EH38E2774702</td>\n",
              "      <td>0</td>\n",
              "      <td>.</td>\n",
              "      <td>155847098</td>\n",
              "      <td>155847361</td>\n",
              "      <td>255,205,0</td>\n",
              "      <td>dELS</td>\n",
              "      <td>All-data/Full-classification</td>\n",
              "    </tr>\n",
              "    <tr>\n",
              "      <th>61613</th>\n",
              "      <td>chrX</td>\n",
              "      <td>155876806</td>\n",
              "      <td>155877053</td>\n",
              "      <td>EH38E3950005</td>\n",
              "      <td>0</td>\n",
              "      <td>.</td>\n",
              "      <td>155876806</td>\n",
              "      <td>155877053</td>\n",
              "      <td>255,167,0</td>\n",
              "      <td>pELS</td>\n",
              "      <td>All-data/Full-classification</td>\n",
              "    </tr>\n",
              "  </tbody>\n",
              "</table>\n",
              "<p>61614 rows × 11 columns</p>\n",
              "</div>\n",
              "    <div class=\"colab-df-buttons\">\n",
              "\n",
              "  <div class=\"colab-df-container\">\n",
              "    <button class=\"colab-df-convert\" onclick=\"convertToInteractive('df-77950712-0d85-45b7-b8c5-f3662795854c')\"\n",
              "            title=\"Convert this dataframe to an interactive table.\"\n",
              "            style=\"display:none;\">\n",
              "\n",
              "  <svg xmlns=\"http://www.w3.org/2000/svg\" height=\"24px\" viewBox=\"0 -960 960 960\">\n",
              "    <path d=\"M120-120v-720h720v720H120Zm60-500h600v-160H180v160Zm220 220h160v-160H400v160Zm0 220h160v-160H400v160ZM180-400h160v-160H180v160Zm440 0h160v-160H620v160ZM180-180h160v-160H180v160Zm440 0h160v-160H620v160Z\"/>\n",
              "  </svg>\n",
              "    </button>\n",
              "\n",
              "  <style>\n",
              "    .colab-df-container {\n",
              "      display:flex;\n",
              "      gap: 12px;\n",
              "    }\n",
              "\n",
              "    .colab-df-convert {\n",
              "      background-color: #E8F0FE;\n",
              "      border: none;\n",
              "      border-radius: 50%;\n",
              "      cursor: pointer;\n",
              "      display: none;\n",
              "      fill: #1967D2;\n",
              "      height: 32px;\n",
              "      padding: 0 0 0 0;\n",
              "      width: 32px;\n",
              "    }\n",
              "\n",
              "    .colab-df-convert:hover {\n",
              "      background-color: #E2EBFA;\n",
              "      box-shadow: 0px 1px 2px rgba(60, 64, 67, 0.3), 0px 1px 3px 1px rgba(60, 64, 67, 0.15);\n",
              "      fill: #174EA6;\n",
              "    }\n",
              "\n",
              "    .colab-df-buttons div {\n",
              "      margin-bottom: 4px;\n",
              "    }\n",
              "\n",
              "    [theme=dark] .colab-df-convert {\n",
              "      background-color: #3B4455;\n",
              "      fill: #D2E3FC;\n",
              "    }\n",
              "\n",
              "    [theme=dark] .colab-df-convert:hover {\n",
              "      background-color: #434B5C;\n",
              "      box-shadow: 0px 1px 3px 1px rgba(0, 0, 0, 0.15);\n",
              "      filter: drop-shadow(0px 1px 2px rgba(0, 0, 0, 0.3));\n",
              "      fill: #FFFFFF;\n",
              "    }\n",
              "  </style>\n",
              "\n",
              "    <script>\n",
              "      const buttonEl =\n",
              "        document.querySelector('#df-77950712-0d85-45b7-b8c5-f3662795854c button.colab-df-convert');\n",
              "      buttonEl.style.display =\n",
              "        google.colab.kernel.accessAllowed ? 'block' : 'none';\n",
              "\n",
              "      async function convertToInteractive(key) {\n",
              "        const element = document.querySelector('#df-77950712-0d85-45b7-b8c5-f3662795854c');\n",
              "        const dataTable =\n",
              "          await google.colab.kernel.invokeFunction('convertToInteractive',\n",
              "                                                    [key], {});\n",
              "        if (!dataTable) return;\n",
              "\n",
              "        const docLinkHtml = 'Like what you see? Visit the ' +\n",
              "          '<a target=\"_blank\" href=https://colab.research.google.com/notebooks/data_table.ipynb>data table notebook</a>'\n",
              "          + ' to learn more about interactive tables.';\n",
              "        element.innerHTML = '';\n",
              "        dataTable['output_type'] = 'display_data';\n",
              "        await google.colab.output.renderOutput(dataTable, element);\n",
              "        const docLink = document.createElement('div');\n",
              "        docLink.innerHTML = docLinkHtml;\n",
              "        element.appendChild(docLink);\n",
              "      }\n",
              "    </script>\n",
              "  </div>\n",
              "\n",
              "\n",
              "<div id=\"df-9b357378-1ee3-4614-b519-f478c08fe226\">\n",
              "  <button class=\"colab-df-quickchart\" onclick=\"quickchart('df-9b357378-1ee3-4614-b519-f478c08fe226')\"\n",
              "            title=\"Suggest charts\"\n",
              "            style=\"display:none;\">\n",
              "\n",
              "<svg xmlns=\"http://www.w3.org/2000/svg\" height=\"24px\"viewBox=\"0 0 24 24\"\n",
              "     width=\"24px\">\n",
              "    <g>\n",
              "        <path d=\"M19 3H5c-1.1 0-2 .9-2 2v14c0 1.1.9 2 2 2h14c1.1 0 2-.9 2-2V5c0-1.1-.9-2-2-2zM9 17H7v-7h2v7zm4 0h-2V7h2v10zm4 0h-2v-4h2v4z\"/>\n",
              "    </g>\n",
              "</svg>\n",
              "  </button>\n",
              "\n",
              "<style>\n",
              "  .colab-df-quickchart {\n",
              "      --bg-color: #E8F0FE;\n",
              "      --fill-color: #1967D2;\n",
              "      --hover-bg-color: #E2EBFA;\n",
              "      --hover-fill-color: #174EA6;\n",
              "      --disabled-fill-color: #AAA;\n",
              "      --disabled-bg-color: #DDD;\n",
              "  }\n",
              "\n",
              "  [theme=dark] .colab-df-quickchart {\n",
              "      --bg-color: #3B4455;\n",
              "      --fill-color: #D2E3FC;\n",
              "      --hover-bg-color: #434B5C;\n",
              "      --hover-fill-color: #FFFFFF;\n",
              "      --disabled-bg-color: #3B4455;\n",
              "      --disabled-fill-color: #666;\n",
              "  }\n",
              "\n",
              "  .colab-df-quickchart {\n",
              "    background-color: var(--bg-color);\n",
              "    border: none;\n",
              "    border-radius: 50%;\n",
              "    cursor: pointer;\n",
              "    display: none;\n",
              "    fill: var(--fill-color);\n",
              "    height: 32px;\n",
              "    padding: 0;\n",
              "    width: 32px;\n",
              "  }\n",
              "\n",
              "  .colab-df-quickchart:hover {\n",
              "    background-color: var(--hover-bg-color);\n",
              "    box-shadow: 0 1px 2px rgba(60, 64, 67, 0.3), 0 1px 3px 1px rgba(60, 64, 67, 0.15);\n",
              "    fill: var(--button-hover-fill-color);\n",
              "  }\n",
              "\n",
              "  .colab-df-quickchart-complete:disabled,\n",
              "  .colab-df-quickchart-complete:disabled:hover {\n",
              "    background-color: var(--disabled-bg-color);\n",
              "    fill: var(--disabled-fill-color);\n",
              "    box-shadow: none;\n",
              "  }\n",
              "\n",
              "  .colab-df-spinner {\n",
              "    border: 2px solid var(--fill-color);\n",
              "    border-color: transparent;\n",
              "    border-bottom-color: var(--fill-color);\n",
              "    animation:\n",
              "      spin 1s steps(1) infinite;\n",
              "  }\n",
              "\n",
              "  @keyframes spin {\n",
              "    0% {\n",
              "      border-color: transparent;\n",
              "      border-bottom-color: var(--fill-color);\n",
              "      border-left-color: var(--fill-color);\n",
              "    }\n",
              "    20% {\n",
              "      border-color: transparent;\n",
              "      border-left-color: var(--fill-color);\n",
              "      border-top-color: var(--fill-color);\n",
              "    }\n",
              "    30% {\n",
              "      border-color: transparent;\n",
              "      border-left-color: var(--fill-color);\n",
              "      border-top-color: var(--fill-color);\n",
              "      border-right-color: var(--fill-color);\n",
              "    }\n",
              "    40% {\n",
              "      border-color: transparent;\n",
              "      border-right-color: var(--fill-color);\n",
              "      border-top-color: var(--fill-color);\n",
              "    }\n",
              "    60% {\n",
              "      border-color: transparent;\n",
              "      border-right-color: var(--fill-color);\n",
              "    }\n",
              "    80% {\n",
              "      border-color: transparent;\n",
              "      border-right-color: var(--fill-color);\n",
              "      border-bottom-color: var(--fill-color);\n",
              "    }\n",
              "    90% {\n",
              "      border-color: transparent;\n",
              "      border-bottom-color: var(--fill-color);\n",
              "    }\n",
              "  }\n",
              "</style>\n",
              "\n",
              "  <script>\n",
              "    async function quickchart(key) {\n",
              "      const quickchartButtonEl =\n",
              "        document.querySelector('#' + key + ' button');\n",
              "      quickchartButtonEl.disabled = true;  // To prevent multiple clicks.\n",
              "      quickchartButtonEl.classList.add('colab-df-spinner');\n",
              "      try {\n",
              "        const charts = await google.colab.kernel.invokeFunction(\n",
              "            'suggestCharts', [key], {});\n",
              "      } catch (error) {\n",
              "        console.error('Error during call to suggestCharts:', error);\n",
              "      }\n",
              "      quickchartButtonEl.classList.remove('colab-df-spinner');\n",
              "      quickchartButtonEl.classList.add('colab-df-quickchart-complete');\n",
              "    }\n",
              "    (() => {\n",
              "      let quickchartButtonEl =\n",
              "        document.querySelector('#df-9b357378-1ee3-4614-b519-f478c08fe226 button');\n",
              "      quickchartButtonEl.style.display =\n",
              "        google.colab.kernel.accessAllowed ? 'block' : 'none';\n",
              "    })();\n",
              "  </script>\n",
              "</div>\n",
              "\n",
              "  <div id=\"id_1460a0ac-ce60-4277-8941-89f2c271407e\">\n",
              "    <style>\n",
              "      .colab-df-generate {\n",
              "        background-color: #E8F0FE;\n",
              "        border: none;\n",
              "        border-radius: 50%;\n",
              "        cursor: pointer;\n",
              "        display: none;\n",
              "        fill: #1967D2;\n",
              "        height: 32px;\n",
              "        padding: 0 0 0 0;\n",
              "        width: 32px;\n",
              "      }\n",
              "\n",
              "      .colab-df-generate:hover {\n",
              "        background-color: #E2EBFA;\n",
              "        box-shadow: 0px 1px 2px rgba(60, 64, 67, 0.3), 0px 1px 3px 1px rgba(60, 64, 67, 0.15);\n",
              "        fill: #174EA6;\n",
              "      }\n",
              "\n",
              "      [theme=dark] .colab-df-generate {\n",
              "        background-color: #3B4455;\n",
              "        fill: #D2E3FC;\n",
              "      }\n",
              "\n",
              "      [theme=dark] .colab-df-generate:hover {\n",
              "        background-color: #434B5C;\n",
              "        box-shadow: 0px 1px 3px 1px rgba(0, 0, 0, 0.15);\n",
              "        filter: drop-shadow(0px 1px 2px rgba(0, 0, 0, 0.3));\n",
              "        fill: #FFFFFF;\n",
              "      }\n",
              "    </style>\n",
              "    <button class=\"colab-df-generate\" onclick=\"generateWithVariable('TE_data')\"\n",
              "            title=\"Generate code using this dataframe.\"\n",
              "            style=\"display:none;\">\n",
              "\n",
              "  <svg xmlns=\"http://www.w3.org/2000/svg\" height=\"24px\"viewBox=\"0 0 24 24\"\n",
              "       width=\"24px\">\n",
              "    <path d=\"M7,19H8.4L18.45,9,17,7.55,7,17.6ZM5,21V16.75L18.45,3.32a2,2,0,0,1,2.83,0l1.4,1.43a1.91,1.91,0,0,1,.58,1.4,1.91,1.91,0,0,1-.58,1.4L9.25,21ZM18.45,9,17,7.55Zm-12,3A5.31,5.31,0,0,0,4.9,8.1,5.31,5.31,0,0,0,1,6.5,5.31,5.31,0,0,0,4.9,4.9,5.31,5.31,0,0,0,6.5,1,5.31,5.31,0,0,0,8.1,4.9,5.31,5.31,0,0,0,12,6.5,5.46,5.46,0,0,0,6.5,12Z\"/>\n",
              "  </svg>\n",
              "    </button>\n",
              "    <script>\n",
              "      (() => {\n",
              "      const buttonEl =\n",
              "        document.querySelector('#id_1460a0ac-ce60-4277-8941-89f2c271407e button.colab-df-generate');\n",
              "      buttonEl.style.display =\n",
              "        google.colab.kernel.accessAllowed ? 'block' : 'none';\n",
              "\n",
              "      buttonEl.onclick = () => {\n",
              "        google.colab.notebook.generateWithVariable('TE_data');\n",
              "      }\n",
              "      })();\n",
              "    </script>\n",
              "  </div>\n",
              "\n",
              "    </div>\n",
              "  </div>\n"
            ]
          },
          "metadata": {},
          "execution_count": 79
        }
      ]
    },
    {
      "cell_type": "code",
      "execution_count": null,
      "metadata": {
        "id": "WAS9n5MUGW49"
      },
      "outputs": [],
      "source": [
        "TE_data['length'] = TE_data[2]-TE_data[1]"
      ]
    },
    {
      "cell_type": "code",
      "execution_count": null,
      "metadata": {
        "colab": {
          "base_uri": "https://localhost:8080/",
          "height": 430
        },
        "outputId": "8492853b-e39a-4e52-f047-44c90a16cee3",
        "id": "e2mU2OkmGW49"
      },
      "outputs": [
        {
          "output_type": "display_data",
          "data": {
            "text/plain": [
              "<Figure size 640x480 with 1 Axes>"
            ],
            "image/png": "[encoded data removed]"
          },
          "metadata": {}
        }
      ],
      "source": [
        "SE_len = []\n",
        "for i in data['length']:\n",
        "  if i>25000:\n",
        "    SE_len.append(25000)\n",
        "  else:\n",
        "    SE_len.append(i)\n",
        "SE_len = np.array(SE_len)\n",
        "\n",
        "bins = np.linspace(0, 25000, 50)\n",
        "plt.hist(SE_len, bins)\n",
        "plt.show()"
      ]
    },
    {
      "cell_type": "code",
      "execution_count": null,
      "metadata": {
        "colab": {
          "base_uri": "https://localhost:8080/",
          "height": 430
        },
        "outputId": "6ca5a45f-64b9-4cc0-bc15-84db122fdc3f",
        "id": "_9LMoeT0GW49"
      },
      "outputs": [
        {
          "output_type": "display_data",
          "data": {
            "text/plain": [
              "<Figure size 640x480 with 1 Axes>"
            ],
            "image/png": "[encoded data removed]"
          },
          "metadata": {}
        }
      ],
      "source": [
        "TE_len = []\n",
        "for i in TE_data['length']:\n",
        "  TE_len.append(i)\n",
        "TE_len = np.array(TE_len)\n",
        "\n",
        "bins = np.linspace(0, 10000, 50)\n",
        "plt.hist(TE_len, bins)\n",
        "plt.show()"
      ]
    },
    {
      "cell_type": "code",
      "execution_count": null,
      "metadata": {
        "id": "5MUrQgIRGW49"
      },
      "outputs": [],
      "source": [
        "n = 0\n",
        "for i in SE_len:\n",
        "  n+=1"
      ]
    },
    {
      "cell_type": "code",
      "source": [
        "n"
      ],
      "metadata": {
        "colab": {
          "base_uri": "https://localhost:8080/"
        },
        "id": "3xNgSp5pIBOy",
        "outputId": "3d6164f9-286a-4867-b931-692e34671194"
      },
      "execution_count": null,
      "outputs": [
        {
          "output_type": "execute_result",
          "data": {
            "text/plain": [
              "61614"
            ]
          },
          "metadata": {},
          "execution_count": 91
        }
      ]
    },
    {
      "cell_type": "code",
      "execution_count": null,
      "metadata": {
        "id": "WcATsfewGW4-"
      },
      "outputs": [],
      "source": [
        "n = 0\n",
        "for i in TE_len:\n",
        "  n+=1"
      ]
    },
    {
      "cell_type": "code",
      "execution_count": null,
      "metadata": {
        "id": "pBGLMfAXGW4-"
      },
      "outputs": [],
      "source": [
        "fl = []\n",
        "for i in data['length']:\n",
        "  if i > 25000:\n",
        "    fl.append(25000)\n",
        "  else:\n",
        "    fl.append(i)\n",
        "data['fixed_length'] = fl"
      ]
    },
    {
      "cell_type": "code",
      "execution_count": null,
      "metadata": {
        "id": "BgJqoXwvGW4-"
      },
      "outputs": [],
      "source": [
        "TE_data = TE_data.sort_values(by = 'length')"
      ]
    },
    {
      "cell_type": "code",
      "execution_count": null,
      "metadata": {
        "id": "d4SDWHCAGW4-"
      },
      "outputs": [],
      "source": [
        "TE_data_copy = TE_data.copy()\n",
        "starts=[]\n",
        "ends = []\n",
        "n_l = []\n",
        "chroms = []\n",
        "for i in range(int(min(data.length)), 25050, 50):\n",
        "  ndata = data[data.fixed_length > i-50]\n",
        "  ndata = ndata[ndata.fixed_length <= i]\n",
        "  bin = ndata.shape[0]\n",
        "  TE_bin = int(bin*(61614/263))\n",
        "  TEs = TE_data_copy[0:TE_bin]\n",
        "  TE_data_copy = TE_data_copy[TE_bin:]\n",
        "  for index, row in TEs.iterrows():\n",
        "    len = row['length']\n",
        "    new_len = random.randint(i-50, i)\n",
        "    n_l.append(new_len)\n",
        "    delta = new_len - len\n",
        "    new_start = random.randint(row[2]-delta, row[2])\n",
        "    new_end = new_start + new_len\n",
        "    starts.append(new_start)\n",
        "    ends.append(new_end)\n",
        "    chroms.append(row[0])"
      ]
    },
    {
      "cell_type": "code",
      "execution_count": null,
      "metadata": {
        "id": "TyJziUWHGW4-"
      },
      "outputs": [],
      "source": [
        "TEs = {'chrom':chroms, 'chromStart':starts, 'chromEnd':ends, 'length':n_l}\n",
        "TE_data = pd.DataFrame.from_dict(TEs)"
      ]
    },
    {
      "cell_type": "code",
      "execution_count": null,
      "metadata": {
        "id": "3iLcXCGoGW4-"
      },
      "outputs": [],
      "source": [
        "TE_data = TE_data.sample(frac=1)"
      ]
    },
    {
      "cell_type": "code",
      "execution_count": null,
      "metadata": {
        "colab": {
          "base_uri": "https://localhost:8080/",
          "height": 430
        },
        "outputId": "49e160c6-2f6c-4291-fb56-7c24e7d7ad45",
        "id": "eKgxKeYxGW4-"
      },
      "outputs": [
        {
          "output_type": "display_data",
          "data": {
            "text/plain": [
              "<Figure size 640x480 with 1 Axes>"
            ],
            "image/png": "[encoded data removed]"
          },
          "metadata": {}
        }
      ],
      "source": [
        "TE_len = []\n",
        "for i in TE_data['length']:\n",
        "  TE_len.append(i)\n",
        "TE_len = np.array(TE_len)\n",
        "\n",
        "bins = np.linspace(0, 25000, 50)\n",
        "plt.hist(TE_len, bins)\n",
        "plt.show()"
      ]
    },
    {
      "cell_type": "code",
      "execution_count": null,
      "metadata": {
        "id": "RlW_RKXyGW4_"
      },
      "outputs": [],
      "source": [
        "data = TE_data.sort_values(by = ['chrom', 'chromStart'])\n",
        "\n",
        "data['name'] = data['chromStart']\n",
        "names = []\n",
        "starts = []\n",
        "ends = []\n",
        "for row in data.iterrows():\n",
        "  names.append(row[1][1])\n",
        "  starts.append(row[1][1])\n",
        "  ends.append(row[1][2])\n",
        "\n",
        "intersections = []\n",
        "for i in range(1, data.shape[0]):\n",
        "  if ends[i-1]>starts[i]:\n",
        "    intersections.append(choice([names[i-1], names[i]]))\n",
        "\n",
        "intersected_data = data[data['name'].isin(intersections)]\n",
        "data = pd.concat([data, intersected_data]).drop_duplicates(keep=False)"
      ]
    },
    {
      "cell_type": "code",
      "execution_count": null,
      "metadata": {
        "id": "s4ReWSF3GW4_"
      },
      "outputs": [],
      "source": [
        "for i in chrom_lengths.keys():\n",
        "  strange_data = data[data['chrom']==i]\n",
        "  strange_data = strange_data[strange_data['chromEnd']>chrom_lengths[i]]\n",
        "  data = pd.concat([data, strange_data]).drop_duplicates(keep=False)"
      ]
    },
    {
      "cell_type": "code",
      "execution_count": null,
      "metadata": {
        "id": "1wh9sEdrGW4_"
      },
      "outputs": [],
      "source": [
        "data = data[data['chrom'].isin(chrom_lengths.keys())]"
      ]
    },
    {
      "cell_type": "code",
      "execution_count": null,
      "metadata": {
        "id": "ymK9_ZFqGW4_"
      },
      "outputs": [],
      "source": [
        "bed_data = bedtools.BedTool.from_dataframe(data)"
      ]
    },
    {
      "cell_type": "code",
      "execution_count": null,
      "metadata": {
        "colab": {
          "base_uri": "https://localhost:8080/"
        },
        "outputId": "c264739d-a2d1-4f8f-91b7-8a8a9bedf70e",
        "id": "9lRz7ZBuGW4_"
      },
      "outputs": [
        {
          "output_type": "execute_result",
          "data": {
            "text/plain": [
              "<BedTool(/content/drive/MyDrive/neural_networks/data/TE_data.bed)>"
            ]
          },
          "metadata": {},
          "execution_count": 105
        }
      ],
      "source": [
        "bed_data.saveas('/content/drive/MyDrive/neural_networks/data/TE_data.bed')"
      ]
    },
    {
      "cell_type": "markdown",
      "metadata": {
        "id": "rJ3VESTRGW4_"
      },
      "source": [
        "### Creating a dataset for GENA-LM"
      ]
    },
    {
      "cell_type": "code",
      "execution_count": null,
      "metadata": {
        "colab": {
          "base_uri": "https://localhost:8080/"
        },
        "outputId": "e4869060-c914-449d-906c-cbecfa5c09c0",
        "id": "lpQDuetJGW4_"
      },
      "outputs": [
        {
          "output_type": "stream",
          "name": "stdout",
          "text": [
            "872\n"
          ]
        }
      ],
      "source": [
        "path = '/content/drive/MyDrive/neural_networks/data/MM1S/SE_data.fasta'\n",
        "\n",
        "count = 0\n",
        "sequences = [] # Here we are setting up an array to save our sequences for the next step\n",
        "for seq_record in SeqIO.parse(path, \"fasta\"):\n",
        "    sequences.append(seq_record.seq.upper())\n",
        "    count = count + 1\n",
        "positive_seqs = []\n",
        "for sequence in sequences:\n",
        "  if 'N' not in sequence:\n",
        "    if len(sequence) > 25000:\n",
        "      positive_seqs.append(str(sequence[:25000]))\n",
        "    else:\n",
        "      positive_seqs.append(str(sequence))\n",
        "print(count)"
      ]
    },
    {
      "cell_type": "code",
      "execution_count": null,
      "metadata": {
        "colab": {
          "base_uri": "https://localhost:8080/"
        },
        "outputId": "e6050c28-bf85-4fe5-b8b1-2c41e39ca22a",
        "id": "mMMbHSbOGW5A"
      },
      "outputs": [
        {
          "output_type": "stream",
          "name": "stdout",
          "text": [
            "12957\n"
          ]
        }
      ],
      "source": [
        "path = '/content/drive/MyDrive/neural_networks/data/MM1S/TE.fasta'\n",
        "\n",
        "count = 0\n",
        "sequences = [] # Here we are setting up an array to save our sequences for the next step\n",
        "for seq_record in SeqIO.parse(path, \"fasta\"):\n",
        "    sequences.append(seq_record.seq.upper())\n",
        "    count = count + 1\n",
        "negative_seqs = []\n",
        "for sequence in sequences:\n",
        "  if 'N' not in sequence:\n",
        "    if len(sequence) > 25000:\n",
        "      negative_seqs.append(str(sequence[:25000]))\n",
        "    else:\n",
        "      negative_seqs.append(str(sequence))\n",
        "print(count)"
      ]
    },
    {
      "cell_type": "code",
      "execution_count": null,
      "metadata": {
        "colab": {
          "base_uri": "https://localhost:8080/"
        },
        "outputId": "cfb12fda-252c-4c3a-cad1-30fb43d0a8c5",
        "id": "6s_EWUFJGW5A"
      },
      "outputs": [
        {
          "output_type": "execute_result",
          "data": {
            "text/plain": [
              "13825"
            ]
          },
          "metadata": {},
          "execution_count": 41
        }
      ],
      "source": [
        "l = len(positive_seqs)\n",
        "all_seqs = positive_seqs.copy()\n",
        "all_seqs.extend(negative_seqs)\n",
        "len(all_seqs)"
      ]
    },
    {
      "cell_type": "code",
      "execution_count": null,
      "metadata": {
        "id": "AyWtJPd2GW5A"
      },
      "outputs": [],
      "source": [
        "labels = []\n",
        "for i in range(len(all_seqs)):\n",
        "  if i < l:\n",
        "    labels.append(1)\n",
        "  else:\n",
        "    labels.append(0)"
      ]
    },
    {
      "cell_type": "code",
      "execution_count": null,
      "metadata": {
        "id": "9r4K6bAWGW5A"
      },
      "outputs": [],
      "source": [
        "data_dict = {'sequence' : all_seqs, 'SE_presence' : labels}\n",
        "\n",
        "df = pd.DataFrame.from_dict(data_dict)\n",
        "df = df.sample(frac=1, random_state=42).reset_index(drop=True)\n",
        "data = df"
      ]
    },
    {
      "cell_type": "markdown",
      "metadata": {
        "id": "eD_U2vm8GW5A"
      },
      "source": [
        "### tokenization"
      ]
    },
    {
      "cell_type": "code",
      "source": [
        "data = pd.read_csv('/content/drive/MyDrive/neural_networks/data/MM1S/MM1S.csv')"
      ],
      "metadata": {
        "id": "cK6LqbxSRbQQ"
      },
      "execution_count": 7,
      "outputs": []
    },
    {
      "cell_type": "code",
      "execution_count": 8,
      "metadata": {
        "id": "u8GQzTjiGW5A"
      },
      "outputs": [],
      "source": [
        "mm1s_tl = data.copy()\n",
        "tokens = []\n",
        "for i in mm1s_tl['sequence']:\n",
        "  tokens.append(len(tokenizer.tokenize(i)))\n",
        "tokens = np.array(tokens)\n",
        "\n",
        "mm1s_tl['tl'] = tokens\n",
        "\n",
        "mm1s_tl_SE = mm1s_tl[mm1s_tl.SE_presence == 1]\n",
        "mm1s_tl_TE = mm1s_tl[mm1s_tl.SE_presence == 0]"
      ]
    },
    {
      "cell_type": "code",
      "execution_count": 10,
      "metadata": {
        "colab": {
          "base_uri": "https://localhost:8080/",
          "height": 499
        },
        "outputId": "4ec1d015-96e1-42c9-cade-5748acf22094",
        "id": "v2r7Sb0OGW5A"
      },
      "outputs": [
        {
          "output_type": "stream",
          "name": "stderr",
          "text": [
            "<ipython-input-10-e00e0625b1f1>:2: UserWarning: Boolean Series key will be reindexed to match DataFrame index.\n",
            "  for i in mm1s_tl[mm1s_tl['SE_presence']==1][mm1s_tl.tl>=500]['tl']:\n",
            "<ipython-input-10-e00e0625b1f1>:7: UserWarning: Boolean Series key will be reindexed to match DataFrame index.\n",
            "  for i in mm1s_tl[mm1s_tl['SE_presence']==0][mm1s_tl.tl>=500]['tl']:\n"
          ]
        },
        {
          "output_type": "display_data",
          "data": {
            "text/plain": [
              "<Figure size 640x480 with 1 Axes>"
            ],
            "image/png": "[encoded data removed]"
          },
          "metadata": {}
        }
      ],
      "source": [
        "SE_tokens = []\n",
        "for i in mm1s_tl[mm1s_tl['SE_presence']==1][mm1s_tl.tl>=500]['tl']:\n",
        "  SE_tokens.append(i)\n",
        "SE_tokens = np.array(SE_tokens)\n",
        "\n",
        "TE_tokens = []\n",
        "for i in mm1s_tl[mm1s_tl['SE_presence']==0][mm1s_tl.tl>=500]['tl']:\n",
        "  TE_tokens.append(i)\n",
        "TE_tokens = np.array(TE_tokens)\n",
        "\n",
        "bins = np.linspace(500, 4200, 50)\n",
        "plt.hist([TE_tokens, SE_tokens], bins, label=['TE', 'SE'])\n",
        "plt.legend(loc='upper left')\n",
        "plt.show()"
      ]
    },
    {
      "cell_type": "code",
      "execution_count": 11,
      "metadata": {
        "id": "ogbC0unQGW5B"
      },
      "outputs": [],
      "source": [
        "mm1s_tl_SE = mm1s_tl_SE[mm1s_tl_SE.tl>=500]"
      ]
    },
    {
      "cell_type": "code",
      "execution_count": 12,
      "metadata": {
        "colab": {
          "base_uri": "https://localhost:8080/"
        },
        "outputId": "992f9f21-90d5-48c3-d3c8-056dd4863f97",
        "id": "sYH88ghoGW5B"
      },
      "outputs": [
        {
          "output_type": "execute_result",
          "data": {
            "text/plain": [
              "4098"
            ]
          },
          "metadata": {},
          "execution_count": 12
        }
      ],
      "source": [
        "np.max(mm1s_tl_SE.tl)"
      ]
    },
    {
      "cell_type": "code",
      "execution_count": 13,
      "metadata": {
        "id": "ChIUdlq9GW5B"
      },
      "outputs": [],
      "source": [
        "TE_data = mm1s_tl[:0]"
      ]
    },
    {
      "cell_type": "code",
      "execution_count": 15,
      "metadata": {
        "colab": {
          "base_uri": "https://localhost:8080/"
        },
        "outputId": "6befcbe8-213f-4e28-f4cf-fcb42da232f0",
        "id": "Z4IsaN3iGW5B"
      },
      "outputs": [
        {
          "output_type": "stream",
          "name": "stderr",
          "text": [
            "<ipython-input-15-7733e45a5b44>:2: UserWarning: Boolean Series key will be reindexed to match DataFrame index.\n",
            "  bin = len(mm1s_tl_SE[mm1s_tl_SE.tl > i-50][mm1s_tl_SE.tl <= i])\n",
            "<ipython-input-15-7733e45a5b44>:3: UserWarning: Boolean Series key will be reindexed to match DataFrame index.\n",
            "  TEs = mm1s_tl_TE[mm1s_tl_TE.tl > i-50][mm1s_tl_TE.tl <= i][:bin]\n",
            "<ipython-input-15-7733e45a5b44>:2: UserWarning: Boolean Series key will be reindexed to match DataFrame index.\n",
            "  bin = len(mm1s_tl_SE[mm1s_tl_SE.tl > i-50][mm1s_tl_SE.tl <= i])\n",
            "<ipython-input-15-7733e45a5b44>:3: UserWarning: Boolean Series key will be reindexed to match DataFrame index.\n",
            "  TEs = mm1s_tl_TE[mm1s_tl_TE.tl > i-50][mm1s_tl_TE.tl <= i][:bin]\n",
            "<ipython-input-15-7733e45a5b44>:2: UserWarning: Boolean Series key will be reindexed to match DataFrame index.\n",
            "  bin = len(mm1s_tl_SE[mm1s_tl_SE.tl > i-50][mm1s_tl_SE.tl <= i])\n",
            "<ipython-input-15-7733e45a5b44>:3: UserWarning: Boolean Series key will be reindexed to match DataFrame index.\n",
            "  TEs = mm1s_tl_TE[mm1s_tl_TE.tl > i-50][mm1s_tl_TE.tl <= i][:bin]\n",
            "<ipython-input-15-7733e45a5b44>:2: UserWarning: Boolean Series key will be reindexed to match DataFrame index.\n",
            "  bin = len(mm1s_tl_SE[mm1s_tl_SE.tl > i-50][mm1s_tl_SE.tl <= i])\n",
            "<ipython-input-15-7733e45a5b44>:3: UserWarning: Boolean Series key will be reindexed to match DataFrame index.\n",
            "  TEs = mm1s_tl_TE[mm1s_tl_TE.tl > i-50][mm1s_tl_TE.tl <= i][:bin]\n",
            "<ipython-input-15-7733e45a5b44>:2: UserWarning: Boolean Series key will be reindexed to match DataFrame index.\n",
            "  bin = len(mm1s_tl_SE[mm1s_tl_SE.tl > i-50][mm1s_tl_SE.tl <= i])\n",
            "<ipython-input-15-7733e45a5b44>:3: UserWarning: Boolean Series key will be reindexed to match DataFrame index.\n",
            "  TEs = mm1s_tl_TE[mm1s_tl_TE.tl > i-50][mm1s_tl_TE.tl <= i][:bin]\n",
            "<ipython-input-15-7733e45a5b44>:2: UserWarning: Boolean Series key will be reindexed to match DataFrame index.\n",
            "  bin = len(mm1s_tl_SE[mm1s_tl_SE.tl > i-50][mm1s_tl_SE.tl <= i])\n",
            "<ipython-input-15-7733e45a5b44>:3: UserWarning: Boolean Series key will be reindexed to match DataFrame index.\n",
            "  TEs = mm1s_tl_TE[mm1s_tl_TE.tl > i-50][mm1s_tl_TE.tl <= i][:bin]\n",
            "<ipython-input-15-7733e45a5b44>:2: UserWarning: Boolean Series key will be reindexed to match DataFrame index.\n",
            "  bin = len(mm1s_tl_SE[mm1s_tl_SE.tl > i-50][mm1s_tl_SE.tl <= i])\n",
            "<ipython-input-15-7733e45a5b44>:3: UserWarning: Boolean Series key will be reindexed to match DataFrame index.\n",
            "  TEs = mm1s_tl_TE[mm1s_tl_TE.tl > i-50][mm1s_tl_TE.tl <= i][:bin]\n",
            "<ipython-input-15-7733e45a5b44>:2: UserWarning: Boolean Series key will be reindexed to match DataFrame index.\n",
            "  bin = len(mm1s_tl_SE[mm1s_tl_SE.tl > i-50][mm1s_tl_SE.tl <= i])\n",
            "<ipython-input-15-7733e45a5b44>:3: UserWarning: Boolean Series key will be reindexed to match DataFrame index.\n",
            "  TEs = mm1s_tl_TE[mm1s_tl_TE.tl > i-50][mm1s_tl_TE.tl <= i][:bin]\n",
            "<ipython-input-15-7733e45a5b44>:2: UserWarning: Boolean Series key will be reindexed to match DataFrame index.\n",
            "  bin = len(mm1s_tl_SE[mm1s_tl_SE.tl > i-50][mm1s_tl_SE.tl <= i])\n",
            "<ipython-input-15-7733e45a5b44>:3: UserWarning: Boolean Series key will be reindexed to match DataFrame index.\n",
            "  TEs = mm1s_tl_TE[mm1s_tl_TE.tl > i-50][mm1s_tl_TE.tl <= i][:bin]\n",
            "<ipython-input-15-7733e45a5b44>:2: UserWarning: Boolean Series key will be reindexed to match DataFrame index.\n",
            "  bin = len(mm1s_tl_SE[mm1s_tl_SE.tl > i-50][mm1s_tl_SE.tl <= i])\n",
            "<ipython-input-15-7733e45a5b44>:3: UserWarning: Boolean Series key will be reindexed to match DataFrame index.\n",
            "  TEs = mm1s_tl_TE[mm1s_tl_TE.tl > i-50][mm1s_tl_TE.tl <= i][:bin]\n",
            "<ipython-input-15-7733e45a5b44>:2: UserWarning: Boolean Series key will be reindexed to match DataFrame index.\n",
            "  bin = len(mm1s_tl_SE[mm1s_tl_SE.tl > i-50][mm1s_tl_SE.tl <= i])\n",
            "<ipython-input-15-7733e45a5b44>:3: UserWarning: Boolean Series key will be reindexed to match DataFrame index.\n",
            "  TEs = mm1s_tl_TE[mm1s_tl_TE.tl > i-50][mm1s_tl_TE.tl <= i][:bin]\n",
            "<ipython-input-15-7733e45a5b44>:2: UserWarning: Boolean Series key will be reindexed to match DataFrame index.\n",
            "  bin = len(mm1s_tl_SE[mm1s_tl_SE.tl > i-50][mm1s_tl_SE.tl <= i])\n",
            "<ipython-input-15-7733e45a5b44>:3: UserWarning: Boolean Series key will be reindexed to match DataFrame index.\n",
            "  TEs = mm1s_tl_TE[mm1s_tl_TE.tl > i-50][mm1s_tl_TE.tl <= i][:bin]\n",
            "<ipython-input-15-7733e45a5b44>:2: UserWarning: Boolean Series key will be reindexed to match DataFrame index.\n",
            "  bin = len(mm1s_tl_SE[mm1s_tl_SE.tl > i-50][mm1s_tl_SE.tl <= i])\n",
            "<ipython-input-15-7733e45a5b44>:3: UserWarning: Boolean Series key will be reindexed to match DataFrame index.\n",
            "  TEs = mm1s_tl_TE[mm1s_tl_TE.tl > i-50][mm1s_tl_TE.tl <= i][:bin]\n",
            "<ipython-input-15-7733e45a5b44>:2: UserWarning: Boolean Series key will be reindexed to match DataFrame index.\n",
            "  bin = len(mm1s_tl_SE[mm1s_tl_SE.tl > i-50][mm1s_tl_SE.tl <= i])\n",
            "<ipython-input-15-7733e45a5b44>:3: UserWarning: Boolean Series key will be reindexed to match DataFrame index.\n",
            "  TEs = mm1s_tl_TE[mm1s_tl_TE.tl > i-50][mm1s_tl_TE.tl <= i][:bin]\n",
            "<ipython-input-15-7733e45a5b44>:2: UserWarning: Boolean Series key will be reindexed to match DataFrame index.\n",
            "  bin = len(mm1s_tl_SE[mm1s_tl_SE.tl > i-50][mm1s_tl_SE.tl <= i])\n",
            "<ipython-input-15-7733e45a5b44>:3: UserWarning: Boolean Series key will be reindexed to match DataFrame index.\n",
            "  TEs = mm1s_tl_TE[mm1s_tl_TE.tl > i-50][mm1s_tl_TE.tl <= i][:bin]\n",
            "<ipython-input-15-7733e45a5b44>:2: UserWarning: Boolean Series key will be reindexed to match DataFrame index.\n",
            "  bin = len(mm1s_tl_SE[mm1s_tl_SE.tl > i-50][mm1s_tl_SE.tl <= i])\n",
            "<ipython-input-15-7733e45a5b44>:3: UserWarning: Boolean Series key will be reindexed to match DataFrame index.\n",
            "  TEs = mm1s_tl_TE[mm1s_tl_TE.tl > i-50][mm1s_tl_TE.tl <= i][:bin]\n",
            "<ipython-input-15-7733e45a5b44>:2: UserWarning: Boolean Series key will be reindexed to match DataFrame index.\n",
            "  bin = len(mm1s_tl_SE[mm1s_tl_SE.tl > i-50][mm1s_tl_SE.tl <= i])\n",
            "<ipython-input-15-7733e45a5b44>:3: UserWarning: Boolean Series key will be reindexed to match DataFrame index.\n",
            "  TEs = mm1s_tl_TE[mm1s_tl_TE.tl > i-50][mm1s_tl_TE.tl <= i][:bin]\n",
            "<ipython-input-15-7733e45a5b44>:2: UserWarning: Boolean Series key will be reindexed to match DataFrame index.\n",
            "  bin = len(mm1s_tl_SE[mm1s_tl_SE.tl > i-50][mm1s_tl_SE.tl <= i])\n",
            "<ipython-input-15-7733e45a5b44>:3: UserWarning: Boolean Series key will be reindexed to match DataFrame index.\n",
            "  TEs = mm1s_tl_TE[mm1s_tl_TE.tl > i-50][mm1s_tl_TE.tl <= i][:bin]\n",
            "<ipython-input-15-7733e45a5b44>:2: UserWarning: Boolean Series key will be reindexed to match DataFrame index.\n",
            "  bin = len(mm1s_tl_SE[mm1s_tl_SE.tl > i-50][mm1s_tl_SE.tl <= i])\n",
            "<ipython-input-15-7733e45a5b44>:3: UserWarning: Boolean Series key will be reindexed to match DataFrame index.\n",
            "  TEs = mm1s_tl_TE[mm1s_tl_TE.tl > i-50][mm1s_tl_TE.tl <= i][:bin]\n",
            "<ipython-input-15-7733e45a5b44>:2: UserWarning: Boolean Series key will be reindexed to match DataFrame index.\n",
            "  bin = len(mm1s_tl_SE[mm1s_tl_SE.tl > i-50][mm1s_tl_SE.tl <= i])\n",
            "<ipython-input-15-7733e45a5b44>:3: UserWarning: Boolean Series key will be reindexed to match DataFrame index.\n",
            "  TEs = mm1s_tl_TE[mm1s_tl_TE.tl > i-50][mm1s_tl_TE.tl <= i][:bin]\n",
            "<ipython-input-15-7733e45a5b44>:2: UserWarning: Boolean Series key will be reindexed to match DataFrame index.\n",
            "  bin = len(mm1s_tl_SE[mm1s_tl_SE.tl > i-50][mm1s_tl_SE.tl <= i])\n",
            "<ipython-input-15-7733e45a5b44>:3: UserWarning: Boolean Series key will be reindexed to match DataFrame index.\n",
            "  TEs = mm1s_tl_TE[mm1s_tl_TE.tl > i-50][mm1s_tl_TE.tl <= i][:bin]\n",
            "<ipython-input-15-7733e45a5b44>:2: UserWarning: Boolean Series key will be reindexed to match DataFrame index.\n",
            "  bin = len(mm1s_tl_SE[mm1s_tl_SE.tl > i-50][mm1s_tl_SE.tl <= i])\n",
            "<ipython-input-15-7733e45a5b44>:3: UserWarning: Boolean Series key will be reindexed to match DataFrame index.\n",
            "  TEs = mm1s_tl_TE[mm1s_tl_TE.tl > i-50][mm1s_tl_TE.tl <= i][:bin]\n",
            "<ipython-input-15-7733e45a5b44>:2: UserWarning: Boolean Series key will be reindexed to match DataFrame index.\n",
            "  bin = len(mm1s_tl_SE[mm1s_tl_SE.tl > i-50][mm1s_tl_SE.tl <= i])\n",
            "<ipython-input-15-7733e45a5b44>:3: UserWarning: Boolean Series key will be reindexed to match DataFrame index.\n",
            "  TEs = mm1s_tl_TE[mm1s_tl_TE.tl > i-50][mm1s_tl_TE.tl <= i][:bin]\n",
            "<ipython-input-15-7733e45a5b44>:2: UserWarning: Boolean Series key will be reindexed to match DataFrame index.\n",
            "  bin = len(mm1s_tl_SE[mm1s_tl_SE.tl > i-50][mm1s_tl_SE.tl <= i])\n",
            "<ipython-input-15-7733e45a5b44>:3: UserWarning: Boolean Series key will be reindexed to match DataFrame index.\n",
            "  TEs = mm1s_tl_TE[mm1s_tl_TE.tl > i-50][mm1s_tl_TE.tl <= i][:bin]\n",
            "<ipython-input-15-7733e45a5b44>:2: UserWarning: Boolean Series key will be reindexed to match DataFrame index.\n",
            "  bin = len(mm1s_tl_SE[mm1s_tl_SE.tl > i-50][mm1s_tl_SE.tl <= i])\n",
            "<ipython-input-15-7733e45a5b44>:3: UserWarning: Boolean Series key will be reindexed to match DataFrame index.\n",
            "  TEs = mm1s_tl_TE[mm1s_tl_TE.tl > i-50][mm1s_tl_TE.tl <= i][:bin]\n",
            "<ipython-input-15-7733e45a5b44>:2: UserWarning: Boolean Series key will be reindexed to match DataFrame index.\n",
            "  bin = len(mm1s_tl_SE[mm1s_tl_SE.tl > i-50][mm1s_tl_SE.tl <= i])\n",
            "<ipython-input-15-7733e45a5b44>:3: UserWarning: Boolean Series key will be reindexed to match DataFrame index.\n",
            "  TEs = mm1s_tl_TE[mm1s_tl_TE.tl > i-50][mm1s_tl_TE.tl <= i][:bin]\n",
            "<ipython-input-15-7733e45a5b44>:2: UserWarning: Boolean Series key will be reindexed to match DataFrame index.\n",
            "  bin = len(mm1s_tl_SE[mm1s_tl_SE.tl > i-50][mm1s_tl_SE.tl <= i])\n",
            "<ipython-input-15-7733e45a5b44>:3: UserWarning: Boolean Series key will be reindexed to match DataFrame index.\n",
            "  TEs = mm1s_tl_TE[mm1s_tl_TE.tl > i-50][mm1s_tl_TE.tl <= i][:bin]\n",
            "<ipython-input-15-7733e45a5b44>:2: UserWarning: Boolean Series key will be reindexed to match DataFrame index.\n",
            "  bin = len(mm1s_tl_SE[mm1s_tl_SE.tl > i-50][mm1s_tl_SE.tl <= i])\n",
            "<ipython-input-15-7733e45a5b44>:3: UserWarning: Boolean Series key will be reindexed to match DataFrame index.\n",
            "  TEs = mm1s_tl_TE[mm1s_tl_TE.tl > i-50][mm1s_tl_TE.tl <= i][:bin]\n",
            "<ipython-input-15-7733e45a5b44>:2: UserWarning: Boolean Series key will be reindexed to match DataFrame index.\n",
            "  bin = len(mm1s_tl_SE[mm1s_tl_SE.tl > i-50][mm1s_tl_SE.tl <= i])\n",
            "<ipython-input-15-7733e45a5b44>:3: UserWarning: Boolean Series key will be reindexed to match DataFrame index.\n",
            "  TEs = mm1s_tl_TE[mm1s_tl_TE.tl > i-50][mm1s_tl_TE.tl <= i][:bin]\n",
            "<ipython-input-15-7733e45a5b44>:2: UserWarning: Boolean Series key will be reindexed to match DataFrame index.\n",
            "  bin = len(mm1s_tl_SE[mm1s_tl_SE.tl > i-50][mm1s_tl_SE.tl <= i])\n",
            "<ipython-input-15-7733e45a5b44>:3: UserWarning: Boolean Series key will be reindexed to match DataFrame index.\n",
            "  TEs = mm1s_tl_TE[mm1s_tl_TE.tl > i-50][mm1s_tl_TE.tl <= i][:bin]\n",
            "<ipython-input-15-7733e45a5b44>:2: UserWarning: Boolean Series key will be reindexed to match DataFrame index.\n",
            "  bin = len(mm1s_tl_SE[mm1s_tl_SE.tl > i-50][mm1s_tl_SE.tl <= i])\n",
            "<ipython-input-15-7733e45a5b44>:3: UserWarning: Boolean Series key will be reindexed to match DataFrame index.\n",
            "  TEs = mm1s_tl_TE[mm1s_tl_TE.tl > i-50][mm1s_tl_TE.tl <= i][:bin]\n",
            "<ipython-input-15-7733e45a5b44>:2: UserWarning: Boolean Series key will be reindexed to match DataFrame index.\n",
            "  bin = len(mm1s_tl_SE[mm1s_tl_SE.tl > i-50][mm1s_tl_SE.tl <= i])\n",
            "<ipython-input-15-7733e45a5b44>:3: UserWarning: Boolean Series key will be reindexed to match DataFrame index.\n",
            "  TEs = mm1s_tl_TE[mm1s_tl_TE.tl > i-50][mm1s_tl_TE.tl <= i][:bin]\n",
            "<ipython-input-15-7733e45a5b44>:2: UserWarning: Boolean Series key will be reindexed to match DataFrame index.\n",
            "  bin = len(mm1s_tl_SE[mm1s_tl_SE.tl > i-50][mm1s_tl_SE.tl <= i])\n",
            "<ipython-input-15-7733e45a5b44>:3: UserWarning: Boolean Series key will be reindexed to match DataFrame index.\n",
            "  TEs = mm1s_tl_TE[mm1s_tl_TE.tl > i-50][mm1s_tl_TE.tl <= i][:bin]\n",
            "<ipython-input-15-7733e45a5b44>:2: UserWarning: Boolean Series key will be reindexed to match DataFrame index.\n",
            "  bin = len(mm1s_tl_SE[mm1s_tl_SE.tl > i-50][mm1s_tl_SE.tl <= i])\n",
            "<ipython-input-15-7733e45a5b44>:3: UserWarning: Boolean Series key will be reindexed to match DataFrame index.\n",
            "  TEs = mm1s_tl_TE[mm1s_tl_TE.tl > i-50][mm1s_tl_TE.tl <= i][:bin]\n",
            "<ipython-input-15-7733e45a5b44>:2: UserWarning: Boolean Series key will be reindexed to match DataFrame index.\n",
            "  bin = len(mm1s_tl_SE[mm1s_tl_SE.tl > i-50][mm1s_tl_SE.tl <= i])\n",
            "<ipython-input-15-7733e45a5b44>:3: UserWarning: Boolean Series key will be reindexed to match DataFrame index.\n",
            "  TEs = mm1s_tl_TE[mm1s_tl_TE.tl > i-50][mm1s_tl_TE.tl <= i][:bin]\n",
            "<ipython-input-15-7733e45a5b44>:2: UserWarning: Boolean Series key will be reindexed to match DataFrame index.\n",
            "  bin = len(mm1s_tl_SE[mm1s_tl_SE.tl > i-50][mm1s_tl_SE.tl <= i])\n",
            "<ipython-input-15-7733e45a5b44>:3: UserWarning: Boolean Series key will be reindexed to match DataFrame index.\n",
            "  TEs = mm1s_tl_TE[mm1s_tl_TE.tl > i-50][mm1s_tl_TE.tl <= i][:bin]\n",
            "<ipython-input-15-7733e45a5b44>:2: UserWarning: Boolean Series key will be reindexed to match DataFrame index.\n",
            "  bin = len(mm1s_tl_SE[mm1s_tl_SE.tl > i-50][mm1s_tl_SE.tl <= i])\n",
            "<ipython-input-15-7733e45a5b44>:3: UserWarning: Boolean Series key will be reindexed to match DataFrame index.\n",
            "  TEs = mm1s_tl_TE[mm1s_tl_TE.tl > i-50][mm1s_tl_TE.tl <= i][:bin]\n",
            "<ipython-input-15-7733e45a5b44>:2: UserWarning: Boolean Series key will be reindexed to match DataFrame index.\n",
            "  bin = len(mm1s_tl_SE[mm1s_tl_SE.tl > i-50][mm1s_tl_SE.tl <= i])\n",
            "<ipython-input-15-7733e45a5b44>:3: UserWarning: Boolean Series key will be reindexed to match DataFrame index.\n",
            "  TEs = mm1s_tl_TE[mm1s_tl_TE.tl > i-50][mm1s_tl_TE.tl <= i][:bin]\n",
            "<ipython-input-15-7733e45a5b44>:2: UserWarning: Boolean Series key will be reindexed to match DataFrame index.\n",
            "  bin = len(mm1s_tl_SE[mm1s_tl_SE.tl > i-50][mm1s_tl_SE.tl <= i])\n",
            "<ipython-input-15-7733e45a5b44>:3: UserWarning: Boolean Series key will be reindexed to match DataFrame index.\n",
            "  TEs = mm1s_tl_TE[mm1s_tl_TE.tl > i-50][mm1s_tl_TE.tl <= i][:bin]\n",
            "<ipython-input-15-7733e45a5b44>:2: UserWarning: Boolean Series key will be reindexed to match DataFrame index.\n",
            "  bin = len(mm1s_tl_SE[mm1s_tl_SE.tl > i-50][mm1s_tl_SE.tl <= i])\n",
            "<ipython-input-15-7733e45a5b44>:3: UserWarning: Boolean Series key will be reindexed to match DataFrame index.\n",
            "  TEs = mm1s_tl_TE[mm1s_tl_TE.tl > i-50][mm1s_tl_TE.tl <= i][:bin]\n",
            "<ipython-input-15-7733e45a5b44>:2: UserWarning: Boolean Series key will be reindexed to match DataFrame index.\n",
            "  bin = len(mm1s_tl_SE[mm1s_tl_SE.tl > i-50][mm1s_tl_SE.tl <= i])\n",
            "<ipython-input-15-7733e45a5b44>:3: UserWarning: Boolean Series key will be reindexed to match DataFrame index.\n",
            "  TEs = mm1s_tl_TE[mm1s_tl_TE.tl > i-50][mm1s_tl_TE.tl <= i][:bin]\n",
            "<ipython-input-15-7733e45a5b44>:2: UserWarning: Boolean Series key will be reindexed to match DataFrame index.\n",
            "  bin = len(mm1s_tl_SE[mm1s_tl_SE.tl > i-50][mm1s_tl_SE.tl <= i])\n",
            "<ipython-input-15-7733e45a5b44>:3: UserWarning: Boolean Series key will be reindexed to match DataFrame index.\n",
            "  TEs = mm1s_tl_TE[mm1s_tl_TE.tl > i-50][mm1s_tl_TE.tl <= i][:bin]\n",
            "<ipython-input-15-7733e45a5b44>:2: UserWarning: Boolean Series key will be reindexed to match DataFrame index.\n",
            "  bin = len(mm1s_tl_SE[mm1s_tl_SE.tl > i-50][mm1s_tl_SE.tl <= i])\n",
            "<ipython-input-15-7733e45a5b44>:3: UserWarning: Boolean Series key will be reindexed to match DataFrame index.\n",
            "  TEs = mm1s_tl_TE[mm1s_tl_TE.tl > i-50][mm1s_tl_TE.tl <= i][:bin]\n",
            "<ipython-input-15-7733e45a5b44>:2: UserWarning: Boolean Series key will be reindexed to match DataFrame index.\n",
            "  bin = len(mm1s_tl_SE[mm1s_tl_SE.tl > i-50][mm1s_tl_SE.tl <= i])\n",
            "<ipython-input-15-7733e45a5b44>:3: UserWarning: Boolean Series key will be reindexed to match DataFrame index.\n",
            "  TEs = mm1s_tl_TE[mm1s_tl_TE.tl > i-50][mm1s_tl_TE.tl <= i][:bin]\n",
            "<ipython-input-15-7733e45a5b44>:2: UserWarning: Boolean Series key will be reindexed to match DataFrame index.\n",
            "  bin = len(mm1s_tl_SE[mm1s_tl_SE.tl > i-50][mm1s_tl_SE.tl <= i])\n",
            "<ipython-input-15-7733e45a5b44>:3: UserWarning: Boolean Series key will be reindexed to match DataFrame index.\n",
            "  TEs = mm1s_tl_TE[mm1s_tl_TE.tl > i-50][mm1s_tl_TE.tl <= i][:bin]\n",
            "<ipython-input-15-7733e45a5b44>:2: UserWarning: Boolean Series key will be reindexed to match DataFrame index.\n",
            "  bin = len(mm1s_tl_SE[mm1s_tl_SE.tl > i-50][mm1s_tl_SE.tl <= i])\n",
            "<ipython-input-15-7733e45a5b44>:3: UserWarning: Boolean Series key will be reindexed to match DataFrame index.\n",
            "  TEs = mm1s_tl_TE[mm1s_tl_TE.tl > i-50][mm1s_tl_TE.tl <= i][:bin]\n",
            "<ipython-input-15-7733e45a5b44>:2: UserWarning: Boolean Series key will be reindexed to match DataFrame index.\n",
            "  bin = len(mm1s_tl_SE[mm1s_tl_SE.tl > i-50][mm1s_tl_SE.tl <= i])\n",
            "<ipython-input-15-7733e45a5b44>:3: UserWarning: Boolean Series key will be reindexed to match DataFrame index.\n",
            "  TEs = mm1s_tl_TE[mm1s_tl_TE.tl > i-50][mm1s_tl_TE.tl <= i][:bin]\n",
            "<ipython-input-15-7733e45a5b44>:2: UserWarning: Boolean Series key will be reindexed to match DataFrame index.\n",
            "  bin = len(mm1s_tl_SE[mm1s_tl_SE.tl > i-50][mm1s_tl_SE.tl <= i])\n",
            "<ipython-input-15-7733e45a5b44>:3: UserWarning: Boolean Series key will be reindexed to match DataFrame index.\n",
            "  TEs = mm1s_tl_TE[mm1s_tl_TE.tl > i-50][mm1s_tl_TE.tl <= i][:bin]\n",
            "<ipython-input-15-7733e45a5b44>:2: UserWarning: Boolean Series key will be reindexed to match DataFrame index.\n",
            "  bin = len(mm1s_tl_SE[mm1s_tl_SE.tl > i-50][mm1s_tl_SE.tl <= i])\n",
            "<ipython-input-15-7733e45a5b44>:3: UserWarning: Boolean Series key will be reindexed to match DataFrame index.\n",
            "  TEs = mm1s_tl_TE[mm1s_tl_TE.tl > i-50][mm1s_tl_TE.tl <= i][:bin]\n",
            "<ipython-input-15-7733e45a5b44>:2: UserWarning: Boolean Series key will be reindexed to match DataFrame index.\n",
            "  bin = len(mm1s_tl_SE[mm1s_tl_SE.tl > i-50][mm1s_tl_SE.tl <= i])\n",
            "<ipython-input-15-7733e45a5b44>:3: UserWarning: Boolean Series key will be reindexed to match DataFrame index.\n",
            "  TEs = mm1s_tl_TE[mm1s_tl_TE.tl > i-50][mm1s_tl_TE.tl <= i][:bin]\n",
            "<ipython-input-15-7733e45a5b44>:2: UserWarning: Boolean Series key will be reindexed to match DataFrame index.\n",
            "  bin = len(mm1s_tl_SE[mm1s_tl_SE.tl > i-50][mm1s_tl_SE.tl <= i])\n",
            "<ipython-input-15-7733e45a5b44>:3: UserWarning: Boolean Series key will be reindexed to match DataFrame index.\n",
            "  TEs = mm1s_tl_TE[mm1s_tl_TE.tl > i-50][mm1s_tl_TE.tl <= i][:bin]\n",
            "<ipython-input-15-7733e45a5b44>:2: UserWarning: Boolean Series key will be reindexed to match DataFrame index.\n",
            "  bin = len(mm1s_tl_SE[mm1s_tl_SE.tl > i-50][mm1s_tl_SE.tl <= i])\n",
            "<ipython-input-15-7733e45a5b44>:3: UserWarning: Boolean Series key will be reindexed to match DataFrame index.\n",
            "  TEs = mm1s_tl_TE[mm1s_tl_TE.tl > i-50][mm1s_tl_TE.tl <= i][:bin]\n",
            "<ipython-input-15-7733e45a5b44>:2: UserWarning: Boolean Series key will be reindexed to match DataFrame index.\n",
            "  bin = len(mm1s_tl_SE[mm1s_tl_SE.tl > i-50][mm1s_tl_SE.tl <= i])\n",
            "<ipython-input-15-7733e45a5b44>:3: UserWarning: Boolean Series key will be reindexed to match DataFrame index.\n",
            "  TEs = mm1s_tl_TE[mm1s_tl_TE.tl > i-50][mm1s_tl_TE.tl <= i][:bin]\n",
            "<ipython-input-15-7733e45a5b44>:2: UserWarning: Boolean Series key will be reindexed to match DataFrame index.\n",
            "  bin = len(mm1s_tl_SE[mm1s_tl_SE.tl > i-50][mm1s_tl_SE.tl <= i])\n",
            "<ipython-input-15-7733e45a5b44>:3: UserWarning: Boolean Series key will be reindexed to match DataFrame index.\n",
            "  TEs = mm1s_tl_TE[mm1s_tl_TE.tl > i-50][mm1s_tl_TE.tl <= i][:bin]\n",
            "<ipython-input-15-7733e45a5b44>:2: UserWarning: Boolean Series key will be reindexed to match DataFrame index.\n",
            "  bin = len(mm1s_tl_SE[mm1s_tl_SE.tl > i-50][mm1s_tl_SE.tl <= i])\n",
            "<ipython-input-15-7733e45a5b44>:3: UserWarning: Boolean Series key will be reindexed to match DataFrame index.\n",
            "  TEs = mm1s_tl_TE[mm1s_tl_TE.tl > i-50][mm1s_tl_TE.tl <= i][:bin]\n",
            "<ipython-input-15-7733e45a5b44>:2: UserWarning: Boolean Series key will be reindexed to match DataFrame index.\n",
            "  bin = len(mm1s_tl_SE[mm1s_tl_SE.tl > i-50][mm1s_tl_SE.tl <= i])\n",
            "<ipython-input-15-7733e45a5b44>:3: UserWarning: Boolean Series key will be reindexed to match DataFrame index.\n",
            "  TEs = mm1s_tl_TE[mm1s_tl_TE.tl > i-50][mm1s_tl_TE.tl <= i][:bin]\n",
            "<ipython-input-15-7733e45a5b44>:2: UserWarning: Boolean Series key will be reindexed to match DataFrame index.\n",
            "  bin = len(mm1s_tl_SE[mm1s_tl_SE.tl > i-50][mm1s_tl_SE.tl <= i])\n",
            "<ipython-input-15-7733e45a5b44>:3: UserWarning: Boolean Series key will be reindexed to match DataFrame index.\n",
            "  TEs = mm1s_tl_TE[mm1s_tl_TE.tl > i-50][mm1s_tl_TE.tl <= i][:bin]\n",
            "<ipython-input-15-7733e45a5b44>:2: UserWarning: Boolean Series key will be reindexed to match DataFrame index.\n",
            "  bin = len(mm1s_tl_SE[mm1s_tl_SE.tl > i-50][mm1s_tl_SE.tl <= i])\n",
            "<ipython-input-15-7733e45a5b44>:3: UserWarning: Boolean Series key will be reindexed to match DataFrame index.\n",
            "  TEs = mm1s_tl_TE[mm1s_tl_TE.tl > i-50][mm1s_tl_TE.tl <= i][:bin]\n",
            "<ipython-input-15-7733e45a5b44>:2: UserWarning: Boolean Series key will be reindexed to match DataFrame index.\n",
            "  bin = len(mm1s_tl_SE[mm1s_tl_SE.tl > i-50][mm1s_tl_SE.tl <= i])\n",
            "<ipython-input-15-7733e45a5b44>:3: UserWarning: Boolean Series key will be reindexed to match DataFrame index.\n",
            "  TEs = mm1s_tl_TE[mm1s_tl_TE.tl > i-50][mm1s_tl_TE.tl <= i][:bin]\n",
            "<ipython-input-15-7733e45a5b44>:2: UserWarning: Boolean Series key will be reindexed to match DataFrame index.\n",
            "  bin = len(mm1s_tl_SE[mm1s_tl_SE.tl > i-50][mm1s_tl_SE.tl <= i])\n",
            "<ipython-input-15-7733e45a5b44>:3: UserWarning: Boolean Series key will be reindexed to match DataFrame index.\n",
            "  TEs = mm1s_tl_TE[mm1s_tl_TE.tl > i-50][mm1s_tl_TE.tl <= i][:bin]\n",
            "<ipython-input-15-7733e45a5b44>:2: UserWarning: Boolean Series key will be reindexed to match DataFrame index.\n",
            "  bin = len(mm1s_tl_SE[mm1s_tl_SE.tl > i-50][mm1s_tl_SE.tl <= i])\n",
            "<ipython-input-15-7733e45a5b44>:3: UserWarning: Boolean Series key will be reindexed to match DataFrame index.\n",
            "  TEs = mm1s_tl_TE[mm1s_tl_TE.tl > i-50][mm1s_tl_TE.tl <= i][:bin]\n",
            "<ipython-input-15-7733e45a5b44>:2: UserWarning: Boolean Series key will be reindexed to match DataFrame index.\n",
            "  bin = len(mm1s_tl_SE[mm1s_tl_SE.tl > i-50][mm1s_tl_SE.tl <= i])\n",
            "<ipython-input-15-7733e45a5b44>:3: UserWarning: Boolean Series key will be reindexed to match DataFrame index.\n",
            "  TEs = mm1s_tl_TE[mm1s_tl_TE.tl > i-50][mm1s_tl_TE.tl <= i][:bin]\n",
            "<ipython-input-15-7733e45a5b44>:2: UserWarning: Boolean Series key will be reindexed to match DataFrame index.\n",
            "  bin = len(mm1s_tl_SE[mm1s_tl_SE.tl > i-50][mm1s_tl_SE.tl <= i])\n",
            "<ipython-input-15-7733e45a5b44>:3: UserWarning: Boolean Series key will be reindexed to match DataFrame index.\n",
            "  TEs = mm1s_tl_TE[mm1s_tl_TE.tl > i-50][mm1s_tl_TE.tl <= i][:bin]\n",
            "<ipython-input-15-7733e45a5b44>:2: UserWarning: Boolean Series key will be reindexed to match DataFrame index.\n",
            "  bin = len(mm1s_tl_SE[mm1s_tl_SE.tl > i-50][mm1s_tl_SE.tl <= i])\n",
            "<ipython-input-15-7733e45a5b44>:3: UserWarning: Boolean Series key will be reindexed to match DataFrame index.\n",
            "  TEs = mm1s_tl_TE[mm1s_tl_TE.tl > i-50][mm1s_tl_TE.tl <= i][:bin]\n",
            "<ipython-input-15-7733e45a5b44>:2: UserWarning: Boolean Series key will be reindexed to match DataFrame index.\n",
            "  bin = len(mm1s_tl_SE[mm1s_tl_SE.tl > i-50][mm1s_tl_SE.tl <= i])\n",
            "<ipython-input-15-7733e45a5b44>:3: UserWarning: Boolean Series key will be reindexed to match DataFrame index.\n",
            "  TEs = mm1s_tl_TE[mm1s_tl_TE.tl > i-50][mm1s_tl_TE.tl <= i][:bin]\n",
            "<ipython-input-15-7733e45a5b44>:2: UserWarning: Boolean Series key will be reindexed to match DataFrame index.\n",
            "  bin = len(mm1s_tl_SE[mm1s_tl_SE.tl > i-50][mm1s_tl_SE.tl <= i])\n",
            "<ipython-input-15-7733e45a5b44>:3: UserWarning: Boolean Series key will be reindexed to match DataFrame index.\n",
            "  TEs = mm1s_tl_TE[mm1s_tl_TE.tl > i-50][mm1s_tl_TE.tl <= i][:bin]\n",
            "<ipython-input-15-7733e45a5b44>:2: UserWarning: Boolean Series key will be reindexed to match DataFrame index.\n",
            "  bin = len(mm1s_tl_SE[mm1s_tl_SE.tl > i-50][mm1s_tl_SE.tl <= i])\n",
            "<ipython-input-15-7733e45a5b44>:3: UserWarning: Boolean Series key will be reindexed to match DataFrame index.\n",
            "  TEs = mm1s_tl_TE[mm1s_tl_TE.tl > i-50][mm1s_tl_TE.tl <= i][:bin]\n",
            "<ipython-input-15-7733e45a5b44>:2: UserWarning: Boolean Series key will be reindexed to match DataFrame index.\n",
            "  bin = len(mm1s_tl_SE[mm1s_tl_SE.tl > i-50][mm1s_tl_SE.tl <= i])\n",
            "<ipython-input-15-7733e45a5b44>:3: UserWarning: Boolean Series key will be reindexed to match DataFrame index.\n",
            "  TEs = mm1s_tl_TE[mm1s_tl_TE.tl > i-50][mm1s_tl_TE.tl <= i][:bin]\n",
            "<ipython-input-15-7733e45a5b44>:2: UserWarning: Boolean Series key will be reindexed to match DataFrame index.\n",
            "  bin = len(mm1s_tl_SE[mm1s_tl_SE.tl > i-50][mm1s_tl_SE.tl <= i])\n",
            "<ipython-input-15-7733e45a5b44>:3: UserWarning: Boolean Series key will be reindexed to match DataFrame index.\n",
            "  TEs = mm1s_tl_TE[mm1s_tl_TE.tl > i-50][mm1s_tl_TE.tl <= i][:bin]\n",
            "<ipython-input-15-7733e45a5b44>:2: UserWarning: Boolean Series key will be reindexed to match DataFrame index.\n",
            "  bin = len(mm1s_tl_SE[mm1s_tl_SE.tl > i-50][mm1s_tl_SE.tl <= i])\n",
            "<ipython-input-15-7733e45a5b44>:3: UserWarning: Boolean Series key will be reindexed to match DataFrame index.\n",
            "  TEs = mm1s_tl_TE[mm1s_tl_TE.tl > i-50][mm1s_tl_TE.tl <= i][:bin]\n"
          ]
        }
      ],
      "source": [
        "for i in range(500, 4100, 50):\n",
        "  bin = len(mm1s_tl_SE[mm1s_tl_SE.tl > i-50][mm1s_tl_SE.tl <= i])\n",
        "  TEs = mm1s_tl_TE[mm1s_tl_TE.tl > i-50][mm1s_tl_TE.tl <= i][:bin]\n",
        "  TE_data = pd.concat([TE_data, TEs])"
      ]
    },
    {
      "cell_type": "code",
      "execution_count": 16,
      "metadata": {
        "id": "JP44mBu1GW5B"
      },
      "outputs": [],
      "source": [
        "data_to_save = pd.concat([mm1s_tl_SE, TE_data])"
      ]
    },
    {
      "cell_type": "code",
      "source": [
        "data_to_save"
      ],
      "metadata": {
        "colab": {
          "base_uri": "https://localhost:8080/",
          "height": 424
        },
        "id": "fFbfqi4XUS8H",
        "outputId": "44e052e4-8626-422d-ef88-a9da51f21494"
      },
      "execution_count": 17,
      "outputs": [
        {
          "output_type": "execute_result",
          "data": {
            "text/plain": [
              "      Unnamed: 0                                           sequence  \\\n",
              "0              8  TGTTACCATTAGCAGAAGTTTATTTTTGCAATTCCTCTGGCCTTCT...   \n",
              "1             30  TCTTTAAGCTCTTTAAACTCCAAGTCTCTTCTCTACATGTTCAACT...   \n",
              "2             54  TACAAAAACACTCTATTTTCATATATACATATATATAGAGAGAGAG...   \n",
              "3             83  AATCAGGGGTCACTGGTCCAGGCCAATCGGGGTCTACCTCCTGGAG...   \n",
              "4            100  CAGAACACTATTTTGTGTTTGCAAATAACGTGCTAAAACGCCTTTC...   \n",
              "...          ...                                                ...   \n",
              "1724        1827  TGGTAGAAGGGGCTAGCTAGCTCTCGGGGGCCTCTTTTATAGAGCA...   \n",
              "1725        2046  GACAGATAAATACAAATCTGGGAAGCTCACACATAGATGTACTATC...   \n",
              "1726        2065  AAGAGGGCAGACATACCCAAGGGACAGGCCTCCTCTAGGGACACCC...   \n",
              "1727        2067  TTATCTGTAACACACAGGAATCACTCAATAAATATTGACTACTGTT...   \n",
              "1728        2206  TGAGAATTTCATCTCCTCAATTTCTTCAGATCCCCACTCTTTTGAG...   \n",
              "\n",
              "      SE_presence    tl  \n",
              "0               1  4006  \n",
              "1               1  3634  \n",
              "2               1  1894  \n",
              "3               1  3650  \n",
              "4               1  3966  \n",
              "...           ...   ...  \n",
              "1724            0  4015  \n",
              "1725            0  4038  \n",
              "1726            0  4034  \n",
              "1727            0  4014  \n",
              "1728            0  4007  \n",
              "\n",
              "[1729 rows x 4 columns]"
            ],
            "text/html": [
              "\n",
              "  <div id=\"df-94d8ce6f-4ac3-4b88-bde2-ef6236f31df6\" class=\"colab-df-container\">\n",
              "    <div>\n",
              "<style scoped>\n",
              "    .dataframe tbody tr th:only-of-type {\n",
              "        vertical-align: middle;\n",
              "    }\n",
              "\n",
              "    .dataframe tbody tr th {\n",
              "        vertical-align: top;\n",
              "    }\n",
              "\n",
              "    .dataframe thead th {\n",
              "        text-align: right;\n",
              "    }\n",
              "</style>\n",
              "<table border=\"1\" class=\"dataframe\">\n",
              "  <thead>\n",
              "    <tr style=\"text-align: right;\">\n",
              "      <th></th>\n",
              "      <th>Unnamed: 0</th>\n",
              "      <th>sequence</th>\n",
              "      <th>SE_presence</th>\n",
              "      <th>tl</th>\n",
              "    </tr>\n",
              "  </thead>\n",
              "  <tbody>\n",
              "    <tr>\n",
              "      <th>0</th>\n",
              "      <td>8</td>\n",
              "      <td>TGTTACCATTAGCAGAAGTTTATTTTTGCAATTCCTCTGGCCTTCT...</td>\n",
              "      <td>1</td>\n",
              "      <td>4006</td>\n",
              "    </tr>\n",
              "    <tr>\n",
              "      <th>1</th>\n",
              "      <td>30</td>\n",
              "      <td>TCTTTAAGCTCTTTAAACTCCAAGTCTCTTCTCTACATGTTCAACT...</td>\n",
              "      <td>1</td>\n",
              "      <td>3634</td>\n",
              "    </tr>\n",
              "    <tr>\n",
              "      <th>2</th>\n",
              "      <td>54</td>\n",
              "      <td>TACAAAAACACTCTATTTTCATATATACATATATATAGAGAGAGAG...</td>\n",
              "      <td>1</td>\n",
              "      <td>1894</td>\n",
              "    </tr>\n",
              "    <tr>\n",
              "      <th>3</th>\n",
              "      <td>83</td>\n",
              "      <td>AATCAGGGGTCACTGGTCCAGGCCAATCGGGGTCTACCTCCTGGAG...</td>\n",
              "      <td>1</td>\n",
              "      <td>3650</td>\n",
              "    </tr>\n",
              "    <tr>\n",
              "      <th>4</th>\n",
              "      <td>100</td>\n",
              "      <td>CAGAACACTATTTTGTGTTTGCAAATAACGTGCTAAAACGCCTTTC...</td>\n",
              "      <td>1</td>\n",
              "      <td>3966</td>\n",
              "    </tr>\n",
              "    <tr>\n",
              "      <th>...</th>\n",
              "      <td>...</td>\n",
              "      <td>...</td>\n",
              "      <td>...</td>\n",
              "      <td>...</td>\n",
              "    </tr>\n",
              "    <tr>\n",
              "      <th>1724</th>\n",
              "      <td>1827</td>\n",
              "      <td>TGGTAGAAGGGGCTAGCTAGCTCTCGGGGGCCTCTTTTATAGAGCA...</td>\n",
              "      <td>0</td>\n",
              "      <td>4015</td>\n",
              "    </tr>\n",
              "    <tr>\n",
              "      <th>1725</th>\n",
              "      <td>2046</td>\n",
              "      <td>GACAGATAAATACAAATCTGGGAAGCTCACACATAGATGTACTATC...</td>\n",
              "      <td>0</td>\n",
              "      <td>4038</td>\n",
              "    </tr>\n",
              "    <tr>\n",
              "      <th>1726</th>\n",
              "      <td>2065</td>\n",
              "      <td>AAGAGGGCAGACATACCCAAGGGACAGGCCTCCTCTAGGGACACCC...</td>\n",
              "      <td>0</td>\n",
              "      <td>4034</td>\n",
              "    </tr>\n",
              "    <tr>\n",
              "      <th>1727</th>\n",
              "      <td>2067</td>\n",
              "      <td>TTATCTGTAACACACAGGAATCACTCAATAAATATTGACTACTGTT...</td>\n",
              "      <td>0</td>\n",
              "      <td>4014</td>\n",
              "    </tr>\n",
              "    <tr>\n",
              "      <th>1728</th>\n",
              "      <td>2206</td>\n",
              "      <td>TGAGAATTTCATCTCCTCAATTTCTTCAGATCCCCACTCTTTTGAG...</td>\n",
              "      <td>0</td>\n",
              "      <td>4007</td>\n",
              "    </tr>\n",
              "  </tbody>\n",
              "</table>\n",
              "<p>1729 rows × 4 columns</p>\n",
              "</div>\n",
              "    <div class=\"colab-df-buttons\">\n",
              "\n",
              "  <div class=\"colab-df-container\">\n",
              "    <button class=\"colab-df-convert\" onclick=\"convertToInteractive('df-94d8ce6f-4ac3-4b88-bde2-ef6236f31df6')\"\n",
              "            title=\"Convert this dataframe to an interactive table.\"\n",
              "            style=\"display:none;\">\n",
              "\n",
              "  <svg xmlns=\"http://www.w3.org/2000/svg\" height=\"24px\" viewBox=\"0 -960 960 960\">\n",
              "    <path d=\"M120-120v-720h720v720H120Zm60-500h600v-160H180v160Zm220 220h160v-160H400v160Zm0 220h160v-160H400v160ZM180-400h160v-160H180v160Zm440 0h160v-160H620v160ZM180-180h160v-160H180v160Zm440 0h160v-160H620v160Z\"/>\n",
              "  </svg>\n",
              "    </button>\n",
              "\n",
              "  <style>\n",
              "    .colab-df-container {\n",
              "      display:flex;\n",
              "      gap: 12px;\n",
              "    }\n",
              "\n",
              "    .colab-df-convert {\n",
              "      background-color: #E8F0FE;\n",
              "      border: none;\n",
              "      border-radius: 50%;\n",
              "      cursor: pointer;\n",
              "      display: none;\n",
              "      fill: #1967D2;\n",
              "      height: 32px;\n",
              "      padding: 0 0 0 0;\n",
              "      width: 32px;\n",
              "    }\n",
              "\n",
              "    .colab-df-convert:hover {\n",
              "      background-color: #E2EBFA;\n",
              "      box-shadow: 0px 1px 2px rgba(60, 64, 67, 0.3), 0px 1px 3px 1px rgba(60, 64, 67, 0.15);\n",
              "      fill: #174EA6;\n",
              "    }\n",
              "\n",
              "    .colab-df-buttons div {\n",
              "      margin-bottom: 4px;\n",
              "    }\n",
              "\n",
              "    [theme=dark] .colab-df-convert {\n",
              "      background-color: #3B4455;\n",
              "      fill: #D2E3FC;\n",
              "    }\n",
              "\n",
              "    [theme=dark] .colab-df-convert:hover {\n",
              "      background-color: #434B5C;\n",
              "      box-shadow: 0px 1px 3px 1px rgba(0, 0, 0, 0.15);\n",
              "      filter: drop-shadow(0px 1px 2px rgba(0, 0, 0, 0.3));\n",
              "      fill: #FFFFFF;\n",
              "    }\n",
              "  </style>\n",
              "\n",
              "    <script>\n",
              "      const buttonEl =\n",
              "        document.querySelector('#df-94d8ce6f-4ac3-4b88-bde2-ef6236f31df6 button.colab-df-convert');\n",
              "      buttonEl.style.display =\n",
              "        google.colab.kernel.accessAllowed ? 'block' : 'none';\n",
              "\n",
              "      async function convertToInteractive(key) {\n",
              "        const element = document.querySelector('#df-94d8ce6f-4ac3-4b88-bde2-ef6236f31df6');\n",
              "        const dataTable =\n",
              "          await google.colab.kernel.invokeFunction('convertToInteractive',\n",
              "                                                    [key], {});\n",
              "        if (!dataTable) return;\n",
              "\n",
              "        const docLinkHtml = 'Like what you see? Visit the ' +\n",
              "          '<a target=\"_blank\" href=https://colab.research.google.com/notebooks/data_table.ipynb>data table notebook</a>'\n",
              "          + ' to learn more about interactive tables.';\n",
              "        element.innerHTML = '';\n",
              "        dataTable['output_type'] = 'display_data';\n",
              "        await google.colab.output.renderOutput(dataTable, element);\n",
              "        const docLink = document.createElement('div');\n",
              "        docLink.innerHTML = docLinkHtml;\n",
              "        element.appendChild(docLink);\n",
              "      }\n",
              "    </script>\n",
              "  </div>\n",
              "\n",
              "\n",
              "<div id=\"df-a9bb40ba-8436-4c99-8e69-6b355d01c56c\">\n",
              "  <button class=\"colab-df-quickchart\" onclick=\"quickchart('df-a9bb40ba-8436-4c99-8e69-6b355d01c56c')\"\n",
              "            title=\"Suggest charts\"\n",
              "            style=\"display:none;\">\n",
              "\n",
              "<svg xmlns=\"http://www.w3.org/2000/svg\" height=\"24px\"viewBox=\"0 0 24 24\"\n",
              "     width=\"24px\">\n",
              "    <g>\n",
              "        <path d=\"M19 3H5c-1.1 0-2 .9-2 2v14c0 1.1.9 2 2 2h14c1.1 0 2-.9 2-2V5c0-1.1-.9-2-2-2zM9 17H7v-7h2v7zm4 0h-2V7h2v10zm4 0h-2v-4h2v4z\"/>\n",
              "    </g>\n",
              "</svg>\n",
              "  </button>\n",
              "\n",
              "<style>\n",
              "  .colab-df-quickchart {\n",
              "      --bg-color: #E8F0FE;\n",
              "      --fill-color: #1967D2;\n",
              "      --hover-bg-color: #E2EBFA;\n",
              "      --hover-fill-color: #174EA6;\n",
              "      --disabled-fill-color: #AAA;\n",
              "      --disabled-bg-color: #DDD;\n",
              "  }\n",
              "\n",
              "  [theme=dark] .colab-df-quickchart {\n",
              "      --bg-color: #3B4455;\n",
              "      --fill-color: #D2E3FC;\n",
              "      --hover-bg-color: #434B5C;\n",
              "      --hover-fill-color: #FFFFFF;\n",
              "      --disabled-bg-color: #3B4455;\n",
              "      --disabled-fill-color: #666;\n",
              "  }\n",
              "\n",
              "  .colab-df-quickchart {\n",
              "    background-color: var(--bg-color);\n",
              "    border: none;\n",
              "    border-radius: 50%;\n",
              "    cursor: pointer;\n",
              "    display: none;\n",
              "    fill: var(--fill-color);\n",
              "    height: 32px;\n",
              "    padding: 0;\n",
              "    width: 32px;\n",
              "  }\n",
              "\n",
              "  .colab-df-quickchart:hover {\n",
              "    background-color: var(--hover-bg-color);\n",
              "    box-shadow: 0 1px 2px rgba(60, 64, 67, 0.3), 0 1px 3px 1px rgba(60, 64, 67, 0.15);\n",
              "    fill: var(--button-hover-fill-color);\n",
              "  }\n",
              "\n",
              "  .colab-df-quickchart-complete:disabled,\n",
              "  .colab-df-quickchart-complete:disabled:hover {\n",
              "    background-color: var(--disabled-bg-color);\n",
              "    fill: var(--disabled-fill-color);\n",
              "    box-shadow: none;\n",
              "  }\n",
              "\n",
              "  .colab-df-spinner {\n",
              "    border: 2px solid var(--fill-color);\n",
              "    border-color: transparent;\n",
              "    border-bottom-color: var(--fill-color);\n",
              "    animation:\n",
              "      spin 1s steps(1) infinite;\n",
              "  }\n",
              "\n",
              "  @keyframes spin {\n",
              "    0% {\n",
              "      border-color: transparent;\n",
              "      border-bottom-color: var(--fill-color);\n",
              "      border-left-color: var(--fill-color);\n",
              "    }\n",
              "    20% {\n",
              "      border-color: transparent;\n",
              "      border-left-color: var(--fill-color);\n",
              "      border-top-color: var(--fill-color);\n",
              "    }\n",
              "    30% {\n",
              "      border-color: transparent;\n",
              "      border-left-color: var(--fill-color);\n",
              "      border-top-color: var(--fill-color);\n",
              "      border-right-color: var(--fill-color);\n",
              "    }\n",
              "    40% {\n",
              "      border-color: transparent;\n",
              "      border-right-color: var(--fill-color);\n",
              "      border-top-color: var(--fill-color);\n",
              "    }\n",
              "    60% {\n",
              "      border-color: transparent;\n",
              "      border-right-color: var(--fill-color);\n",
              "    }\n",
              "    80% {\n",
              "      border-color: transparent;\n",
              "      border-right-color: var(--fill-color);\n",
              "      border-bottom-color: var(--fill-color);\n",
              "    }\n",
              "    90% {\n",
              "      border-color: transparent;\n",
              "      border-bottom-color: var(--fill-color);\n",
              "    }\n",
              "  }\n",
              "</style>\n",
              "\n",
              "  <script>\n",
              "    async function quickchart(key) {\n",
              "      const quickchartButtonEl =\n",
              "        document.querySelector('#' + key + ' button');\n",
              "      quickchartButtonEl.disabled = true;  // To prevent multiple clicks.\n",
              "      quickchartButtonEl.classList.add('colab-df-spinner');\n",
              "      try {\n",
              "        const charts = await google.colab.kernel.invokeFunction(\n",
              "            'suggestCharts', [key], {});\n",
              "      } catch (error) {\n",
              "        console.error('Error during call to suggestCharts:', error);\n",
              "      }\n",
              "      quickchartButtonEl.classList.remove('colab-df-spinner');\n",
              "      quickchartButtonEl.classList.add('colab-df-quickchart-complete');\n",
              "    }\n",
              "    (() => {\n",
              "      let quickchartButtonEl =\n",
              "        document.querySelector('#df-a9bb40ba-8436-4c99-8e69-6b355d01c56c button');\n",
              "      quickchartButtonEl.style.display =\n",
              "        google.colab.kernel.accessAllowed ? 'block' : 'none';\n",
              "    })();\n",
              "  </script>\n",
              "</div>\n",
              "\n",
              "  <div id=\"id_c3dd4d68-b915-47d6-80ea-d23d4dcf3f20\">\n",
              "    <style>\n",
              "      .colab-df-generate {\n",
              "        background-color: #E8F0FE;\n",
              "        border: none;\n",
              "        border-radius: 50%;\n",
              "        cursor: pointer;\n",
              "        display: none;\n",
              "        fill: #1967D2;\n",
              "        height: 32px;\n",
              "        padding: 0 0 0 0;\n",
              "        width: 32px;\n",
              "      }\n",
              "\n",
              "      .colab-df-generate:hover {\n",
              "        background-color: #E2EBFA;\n",
              "        box-shadow: 0px 1px 2px rgba(60, 64, 67, 0.3), 0px 1px 3px 1px rgba(60, 64, 67, 0.15);\n",
              "        fill: #174EA6;\n",
              "      }\n",
              "\n",
              "      [theme=dark] .colab-df-generate {\n",
              "        background-color: #3B4455;\n",
              "        fill: #D2E3FC;\n",
              "      }\n",
              "\n",
              "      [theme=dark] .colab-df-generate:hover {\n",
              "        background-color: #434B5C;\n",
              "        box-shadow: 0px 1px 3px 1px rgba(0, 0, 0, 0.15);\n",
              "        filter: drop-shadow(0px 1px 2px rgba(0, 0, 0, 0.3));\n",
              "        fill: #FFFFFF;\n",
              "      }\n",
              "    </style>\n",
              "    <button class=\"colab-df-generate\" onclick=\"generateWithVariable('data_to_save')\"\n",
              "            title=\"Generate code using this dataframe.\"\n",
              "            style=\"display:none;\">\n",
              "\n",
              "  <svg xmlns=\"http://www.w3.org/2000/svg\" height=\"24px\"viewBox=\"0 0 24 24\"\n",
              "       width=\"24px\">\n",
              "    <path d=\"M7,19H8.4L18.45,9,17,7.55,7,17.6ZM5,21V16.75L18.45,3.32a2,2,0,0,1,2.83,0l1.4,1.43a1.91,1.91,0,0,1,.58,1.4,1.91,1.91,0,0,1-.58,1.4L9.25,21ZM18.45,9,17,7.55Zm-12,3A5.31,5.31,0,0,0,4.9,8.1,5.31,5.31,0,0,0,1,6.5,5.31,5.31,0,0,0,4.9,4.9,5.31,5.31,0,0,0,6.5,1,5.31,5.31,0,0,0,8.1,4.9,5.31,5.31,0,0,0,12,6.5,5.46,5.46,0,0,0,6.5,12Z\"/>\n",
              "  </svg>\n",
              "    </button>\n",
              "    <script>\n",
              "      (() => {\n",
              "      const buttonEl =\n",
              "        document.querySelector('#id_c3dd4d68-b915-47d6-80ea-d23d4dcf3f20 button.colab-df-generate');\n",
              "      buttonEl.style.display =\n",
              "        google.colab.kernel.accessAllowed ? 'block' : 'none';\n",
              "\n",
              "      buttonEl.onclick = () => {\n",
              "        google.colab.notebook.generateWithVariable('data_to_save');\n",
              "      }\n",
              "      })();\n",
              "    </script>\n",
              "  </div>\n",
              "\n",
              "    </div>\n",
              "  </div>\n"
            ],
            "application/vnd.google.colaboratory.intrinsic+json": {
              "type": "dataframe",
              "variable_name": "data_to_save",
              "summary": "{\n  \"name\": \"data_to_save\",\n  \"rows\": 1729,\n  \"fields\": [\n    {\n      \"column\": \"Unnamed: 0\",\n      \"properties\": {\n        \"dtype\": \"number\",\n        \"std\": 4147,\n        \"min\": 0,\n        \"max\": 13823,\n        \"num_unique_values\": 1729,\n        \"samples\": [\n          9322,\n          211,\n          9664\n        ],\n        \"semantic_type\": \"\",\n        \"description\": \"\"\n      }\n    },\n    {\n      \"column\": \"sequence\",\n      \"properties\": {\n        \"dtype\": \"string\",\n        \"num_unique_values\": 1729,\n        \"samples\": [\n          \"GTCTACGCTTATGCAATACACACCAGTCTCCCAACCTCACCAAATTCTTACAATTGGTTGGGAGGGGGGTGGCTCTCCACACCTTTTTGAGAATCACTGAACCTGACTTCATGCTCTTCCAGGGAAGAACCATAATGTATTTAGAGTGATCATGTAAATTCATTCAAAAGGGAGATTTAATGGTGATTTAACATGCCAGACCCTAAGTAAGCAAAAGTTAAAGAAAAAAAAAGGAGGCTAGTAGTTCTCAATGTCAAGTACTTAAGAGTTGTTGCATGAATACTGGAGATAGTCAAATGAGCCAGTGGCTCTTTAACAATATAGGGAATTAGGAGCAAGTATGAGATTCTGATTATAAAGTTGTAGGAAAACTAACTTCCCAGAAAAATGCACATAGAATTATGTATACAATGTCAGGCGAGTTATGAACTCTGAAGCCCAATCACCTACCACCAGATCCACAGACCTCAGGTTAAAAACCCACTAAAACTAAGTTCTCGGGGAACAGGAATCGCCAAACTTGCTTACTAATTCTAATTATGCCTTACCCAGGGCAATGTATACAAACACTACTTAGGGAATATTTGCTGATCGATAATTTCCTCATAAAAATAACCATAACACTGGCGAGTCGTTTTTTCCACTAAAGAGCCTTTTAGTCAAATTATTTTAAAAGTCCTAAACCTTTCACTAGTAACACCAATGATCTCGAAAATCATTATTGCGCTATTCACATGTCGACTAAGCTATCACGAATCCAGGTCTTCCAGTTGTCTCTCTACTCCCTTAAAATTTAGGGCTTCCTCCTTCGCATCCCAAAAGCTACACCCGGAGCCCCGCTGCCGCCAGGGAGACAGAAAATGATGCTCCACGAAGCACACAGCTTCAAAACAGGAAAGATGGGATCCAGTGATGGCTACAACTTCCAAACCCTTTTCTCACCAGGTCCAGAGGTGAAGGGATTTACCTCAAGTTCCAGGAAAGCGGTGGCGATTGCTCTCAAATACCTGGTACCTCCCCGTCACCATAGTGACTTCTAAGAGTTACGCTCCCTTCCTCTTCCCGCGATACTTCTACGCGGCACGTCATCCGAGTGGGCCCGAGACCCCGCCTCTCGGCGAGCCCGCCCTCTTCTGAAGAGGCGTTTCTGGACCACTGAGCCCCGCCTCCCACTGTGAGCGGAACCCTACCGTTTTTAAAAAAATCTTTTTCAAAACTTGCCAGGTTGTCTTTCCAAATATTTTTAATAATAGTGCTGCTGCTGTAGACCACAGAGAAAAGAATCCCTCGCTCTTCCTTTTCACTTAGTAGAAACTTCTACCGCGTAGGTCCCGCCAGGAGTTCGCGCATGCGCAGGAGCGACAATAAGATGGCGGTGATAATCGCCGCACTTTTTTTCAAATTAGTGGATCCCAGAAATCATTGCGCGCATTTGTAACGAATTTCCGTTCGAGTTTGTATTTTAGGCGCCATTTTCGAGTGAAGGACCCGGAGCCGAAACACCGGTAGGAGCGGGGAGGTGGGTACTACACAACCGTCTCCAGCCTTGGTCTGAGTGGACTGTCCTGCAGGTAAAGTACTTCTCTTCCTGGTCAGGTTGTCACGCTCTTACTTCCTGCCTTGTCCGCGAGCGCCTGGAAAATAGAGGCCTTGAGCCCGAGCGGCGAAGTCCGGGCTTGAAGCTGCCGCTGGGAGATTTCTCTTGCTGTCACCCCTCCCCCCTCGGCCGCTCCCCGGCGGCCCGGGCTCCCGCGCGCAGCTCCCGGGCGCCACTTTTCCAAGCTACTCAAATGTCTCGGGGAGGCCCTGAGCCTCGCAGATCTTTTCTTTAAAAAATCCTAGTCTCTATCTGGAAAAGGGCGTCTCCCCCTACCCCTCTTCCTTCTGCCAACGGACTAGTCACCGGGTCTCAGCCTTCGCTGGTGACCTTTCATGGTTTACTGTCCAACGGGACTCCGCCTGGGGAGCTGGAGAGACAAACTCTTGCCACTCCAAAATTAGCAAGCGCTGCCAGCGTCCGACTTGAAGTTGCTAGTGGTTAGTCCCAGCCTTCGCCCTTCGCGGTCCGACCGCTGAGAGGAGGGAGACTTCGTTATGCCCCGGGCCGTCAACGGCGCCAGGAGCTAAAGGGCGGGCAGACGAAAGCGGGCGGCGAGTCGCCAGTTAGTCTTCACCGCTCTGGAGAGAGTTGCTAGCCACGGGATCCTGACCCGGACACGAACTCGTTTCTCCACGTCGGTGCGCGCTTGCATCCCTGGCCCCGAAAGCGTGGGAATGTCCGGAAATGCTGGCGTATGGGAGTTCCTTAATTAGAAATGCGTTAGCGAATATTATACGCTTATACTATGGGCGGACGGGTGGAGAGCCTTAAAAACAACAACAACAAACTAAGCAGTTGCTCAATCGTTGATTGATCCTCAGGCACGTCTAGATTTTCCCACTTACATAGGTCTTGTTAAGAAACCAGTCCTGCCTTCTTGCCACTCGTGTCTTTCGATGGCTCCCTTCCCGAAGTCCCGCTGCCTCTAAGCGGAGTGTTAAGCGGGGCTCTCGGAAGCCGGTGGACCGAGATTTCCCCGGGTGGGGCGGGCGCGGTGTAGCGGCCCGCGGGCTGACTTGCTCCCGGCTGTCCCCCGGCCCCAGCGACCATGCCCCGTAAAGGCACCCAGCCCTCCACTGCCCGGCGCAGAGAGGAAGGGCCGCCGCCGCCGTCCCCTGACGGCGCCAGCAGCGACGCGGAGCCTGAGCCGCCGTCCGGCCGCACGGAGAGCCCAGCCACCGCCGCAGGTGAGTGACCCGCCGCGACTCGGCGGGAACGCGCGCTGTGGGACTGGCAGGCAAACGCGCCCAGCCCGAGGCTGGCTGGGGTTGTTGAGCGCGGAGTTGACATCTGAAGGTCCGGTGTCGGTCCGGTAGAGGCTCAGGAAAGCCATTTGGCAACTTTGAGATAGGATTCCCGTGCAATTTTGGTGTAACGGCGCTGGAAGGGATGGGGGCGAGCAAACGGGTTCAGTTGTGAATTTTTGTTTGTGACCTGTGGAATGGTACAGGTCACAAACAAAAATTCAATATCTTTATTGTATTCCCGCTAAAATCGAGACGGTCAATCAAGAGAGCAAGTGGACTTTTTTCCCAGAGACAATCAATATGACTATGTGAGCATGATGAAAAGTTTTTTGACCCTAACCTCACCTCCGTGGTGTTAGATTGCCGTTAAAGAGAAGACGATAATTTATTTGAAGCCACTGTAGCTTTTGTGAGTCCAGGAGTTGGGTGACATTATTAAACCCTCGTGGCAGTGTCGCTGAAGTTCATGAGTTTCCAAAATGAAGGTTCCAGGTGCTCAGCGGTACGGAGAATTGCATCTAGAGCCTTAGGATTTAACCTCCTGTTTAGGATAGGCAGCAGGAAATAGCTTGTTACGGTTTTCCCAGATTTGCTCTATGATGTAGTGTTTTGACTCTTAAGAGGTATAGGTGTATAGAATTTTGTGACCGGTGGCATTTCTTTCAAGAATTTCTTTTTTAGTAAAACCAAGCTGAAGGTTTAGTCACCCCCGTGAGTTTAAGATAATAACATATTTAAGTGGAAAATATAGACTCCTAAGTTTCATAAATAACATCCCTCCATCCCCTACTTTAAAGATGGGCAGTCATTAGTTCTCCGAACTAATTGCACTAATGTAGGCTTTTCCCCCGCCGTTTGCCTTCGTTTTCCTTTCCTTTCACTGACTTAGAGACTGCAAGTGAGGAACTTGATAATAGAAGTTTAGAAGAGATTTTGAACAGCATTCCTCCTCCCCCGCCTCCAGCAATGACCAATGAAGCTGGAGCTCCTCGGCTTATGATAACTCATATTGTAAACCAGAACTTCAAATCCTATGCTGGGGAGAAAATTCTGGGACCTTTCCATAAGGTATTTGTATGGAAATAACTATTTTATAACTTTTTAAATAACTATTGTAAGGTAATACGTTTTTACAAGATGTTTCAGTTTTGTAACTATCCTAAAATTCATTCACTCCCTATTTATCCTGATAGTCTTTCTGTCTCTCTCTCTCACACACACACACACACGTTTCATATGATTTTAACACTGAAATTATCTTTTGTTTATCTGGTTATCTTTGGTACCTCTAGTTACAAAGTTTTCCATTGAATGGAGTCGGTGTGTGTTTCTGTTTGAAAGAGTATTTTCCCTTGGATAATTTTTTTTTCTTAAAGCCTTCTATGGAACCCTTAGATAATTTAACTATAAAATGAGTTTTCTAAAACGTCTGCGTTAGAATTGGAGCATTCTTATTGAATGTTGAAGCTTTTAAGAGAGAACTTGATGTAAGAAAACTCAAGTCGTATGCCTGTGATTAGCAATGAGAACTTTTAAATACTTGCAGTTTTTAACTGCAAGTAAAAAAATCTAACAGTTTCAGTTAAAATCAGTAGTATTAGCATGACCTTATGAACTTTTCCGTGTTTTGTTTTTGTTTTTTTAATGCAGCGCTTTTCCTGTATTATCGGGCCAAATGGCAGTGGCAAATCCAATGTTATTGATTCTATGCTTTTTGTGTTTGGCTATCGAGCACAAAAAATAAGATCTAAAAAACTCTCAGTATTAATACATAATTCTGATGAACACAAGGACATTCAGAGTTGTACAGTAGAAGTTCATTTTCAAAAGATAATTGATAAGGTAAGGGATTTTTACTGTTATTGGCAAGTTCAAGTAAGGAAAATGGACTTAAATGCATTACATATTTTATTTTTGGCTTTAAGAAATTTGTATGTAATTACAGCGGAAAGCATTGGTTTCATTATCTCTGACCGTATTTTATTTTGGGGGAGTGGTGGTGCCTGTTAAAATACTTATTTTTTAGCTAAAGAAATGAAGTATAAATAGTTCATAGTAATCCTTTTTGGAATAAAAGCATTGAGCAGTTTTAGGGTCCTGAGTACTAAATAGGCATTATTTTACTATAAATATTCAGTTCATTTTTAAAGTTATATTTTGATTGCTTTAGAATAAATTAGCTAAACTTGAAAATGTAGCAGTTAGCCGGTTTTACCATCTTCATTATTTCAGTGCATTTTAACTCTAATGTTAGTGGCCCCTGAGTATCTGTGATATGAAAGAGCTTTGCTTCAGTTTGACTACTGCTGTAATTAAGTCCTTTAGAAATGGGGGAAGGACAAGCTAATGTTTGTTTTCTAGAAATGGAGACAACTAGAGGTAAAATGTCTAGATTATTTACCTGTTGAGACTTTTTCTCTTCTGTTTAATAATGTAGGAAATTGATTGTTCAAAAATGACTCGATGGAACCTAAAAATATAGAAAACTAATTACATAATGAAATTGGGAGGTGATTTGTCTTTTGAATTCGTTTTCCTTTTTTTAATACAAAGTGCTTTAATTACACAGAATCATCTATTTTAATTTGGTTTCTTTTGTGCTTTCTATTGTACAAGTTGGGTTGGAAAATAGATTGCCAGGAAATCAGATTTTATTCCATTGCATATTAATTACATTTGATTTATCTAAATTTTAGAAGCCTTTGCTTCAGTATGACAGAACTTTTAAGGTTAAGGGAAAGTGTTAAAGTAGATTTGCAATTGATTTTTTTAAAAATCTGTTTAAAAGAAAATCAAGGGAATTTAGTTGTTATTTCTTTGTGATTCTTTTTACTTTAAATTAACGGCACACTCTTTACCCTCCCACACAAAAAAACTAAAGTGTATCACCCGGTTACTACCTTCCTTCCTTTTTCTTTGAATCATCATTTTAAAAAGCTGCAGCTTTTTAATCTGTCAACATGTTAATAATTTGTGTGGGTTTTGGATATGGTGGGAATCTTGTCTACGTCTTCTCAATCATAAACGTTTTTAGGCTTGTTTGGAGGTGGGTTTTTTCGTTGGCTGGTTGGTTTGGCTTCTTGATTTTTGTGATCTTTGAGAAAGGGACCAAAACAGCATGGAAAAGTATCAATTCTTTGCTAAGTTGGGTTATTAATGAGAACTACTGGCAGTTTGTGTGCATGTTCAATTGAAGTTTTTAATCCATAGAATTAGTTTCAGTATGAAATGAGTGAATTTTGAAGTAGGCCTATGACTTAATACCAACAATTGTTTTCTGGTTTTGTTTTTCCTCAAAACAGGAAGGGGATGATTATGAAGTCATTCCTAACAGTAATTTCTATGTATCCAGAACGGCCTGCAGAGATAATACTTCTGTCTATCACATAAGTGGAAAGAAAAAGACATTTAAGGATGTTGGAAATCTTCTTCGAAGCCATGGAATTGACTTGGACCATAATAGATTTTTAATTTTACAGGTAAGTTTATTAAAGACTTCAAAGATTCTCTTATTCTTGTTACTTTTTTTTCTATAAAGCTAGGTTGGATGAATCCTACATTTTTGAGGCCTTAAAGTACTGTAGCAGCACATCATGGTTTACATGCTACAGTCAAGATGCGAATCATTATTTGCTGCTCTAGAAATTTAAGGAAATTCATTCAAAACTATGTTTTCATCATCAGATGTTCGTTTTATGTTTGGATGAACTGACATACTTGTTCCACTCTAGCAGCACGTAAATATTGGCGTAGTGAAATATATATTAAACACCAATATTACTGTGCTGCTTTAGTGTGACAGGGATACAGCAACTATTTTATCAATTGTTTGTATTTCCCTTTAAGGTAACATTTTAAATGAAATGTATTATATTTTAATCTATCCTTTTCCTTTGTTTTTGTTCTTATTATCTCTTCTGATATATAACCAAAAAATGAAAAAATCTGTACACTTGGTGTTTGATTTACCTAAGCACCTAGTTAATTTAATCTTTGTAACACTTTGGATGGTTAACTTAACCTTTACTCAAGTTGGTTTTTGTTTTGTTGAAAATGACTTACTTGGTGGAACCACTACTACTGAAAGAACGAAACTTTGATATTACATTGTTAAGTATCAGAGCTGTTACAGAGCAAGTCCTTTTAAAGAGATGTAAAAATTAAGTACCTGTGCCAAACTGATTTTTATTAGAAACCCTGTTTTCTTTAAGTAAAAGTATATTCTACCAGCATGGCTTGGTAAGAAAAATCCCCTATCTTTTTTTCCCTGTCCTCAAAATTCAGAATTTTTCGGAAAAAAAAAAAATTAGGGTAAAACCATGGCTTTGTCAAGTTCCTGTTTGATTCGAGGGTATCTTCTTTTCCTGTGTTCTATCCAGAATCACCGAAGCATAATAAAAGCAAAACTATTTTGTGATGCAGAAATGACTGAAATAAGTAGGGAATTTTGTTAGGGTGACTGGATGTTCCTAATAACAAACTTATAAAATGTTAGCCTCTGTTTCCATTTTAGTCTTTATTCTTCAATTGTTTCTAAAAATTATTACTTTTAGACATTCATAGTATACAAGGTAAATCAGTATCATTCTAGGATAACCTTTTTTAATATCTTTTGTTACCAGGCACAGTATATTTGCAATACTTCAACCTAAACTTATTTAAAAATTAATGTTGAGGAAATTAATTGCAGATATATTTCTAAACAAGATTGGAATTTATAGAATGTGGCATTAAAGGATTTTGTGTGTTTTTAAAATCAAATTGAACTGTTTTATTGACTTACATATTCTGGGACTTGGTTTGGTTAATAATGGATAAAAAGTTATGTCCCTATATAATACTAAATTTGATGATGATACCAATTTGCAGGAAATTGTACTTATGTTTATCTTTTGCTTAATCTTTTACCGTCATCCTGGGATAATCAAAGTTTTACATTTATCCAAAGATTCATCAAAATACACTGCATTTTAACCCTTCTAAGGATAATTTTTTTCTCTGTACAGCATCTCTGTACGTAATTCAGTAATAAAGGAAGCTAATGTAATATTGTCCCAACGAAGTAAATAATTTATAAATTGTCAAATTTATATTACATTTGTGCTTCTGAAGTATATGGGATGCTAAAGCCAATTTGTTCACATGATAATCTGAACCTTTTTATGTGATCTTTACAATTGTTTAAAAAACATTTCTTCCCAAATAATACAAAGGTGAATGTTCCAAGTTAACAGATTCAGTTTGACTCAATTAAATTTATAGATAAGGACCTTAGGAACTCACTTGTTAGGAATAAGAAACAGGGATTGGACTACGGTAGAACTAATAGTGCCCAATTAAAACTTTGAGGGAAAGTGACAATGGTTTCTATGGATTGTTTTTTTTAAGTCGCTTATGAAAATCTCAGACTCCTAACTGGCAATTTAAAGCATTTGATGGTAAGTAAAAATGTGATTTTTATTACCTTCTCTCCTACTGAATAACATCTATCTTAAAAACTGATTTGGGAGGCTGAGAAATTGGAAACAGCATCGTAGTATCAACATCCAAGACCTAAATCATTACTTGGAATAAAACATGTAGACTATTTGGCCAGTAATAGTGATTAACAGCAAAAGTAATCTAAATTTAGTAAAAATAAACATTTATTTTTGAGATTAAAAAGAACCAAATTTTTTAGAAGTTCCTAAGAGTAAAATTTTTCAGTGTTAATATATTCGCTTAGCAAATTTTTCAAGTAGGCATTTTTATTACTTAAATCCATTAAAAATTTCATTAATTGGCCATTCAATTGAATTCCTATTAAGGCACTATGCTAAAATGCTGTAAGTAATATTAAGATGGCTAAACCTTATTTCTTGTCCTTAAAGACACATACATGCCTTCAAAAAGTTTGTTGTGATTGACCATTGTGTTTTTTATAATCGTACATTTTCTTTTATATATACCTACTTTGGGAGCCTCGGTCCCGTTGTAAGTCTGTACAAGTAGAGTTTTATTAGCTCTGTATAACATTTCTTGGGTAACTATGACTTATAAATTAGGGGTGCTTTTGCTCCATTCAGGGGTAGAAGAATGGTTAATGTTTTTACTAAAAAGTTGTATTAATGATTGCTGCCTCAGGAATATTTTTGTAAACTCCTCAAAAGCTACAACTATTAGCACAACTTTAATTTTGTCAAAGTTTTCAACTTCATATGCTTTTGTCTTCATATTACAAAATCTAAAGTTTGAAACACGAACCAGGCTGGGTGCATTAGCTCACGCCTATAATCCCAG\",\n          \"ACTTGTTCCACAATAACACAAATGGAATTGCCTAGGGTACAGCACTATTTGCTCTGCGAAGTCAGCTTGGACACCCGGAGTTAGATGCCTCCTGCACTGAACTTTCTGTACCCACAGTGGTTCTTTATGTACACACTAATTTCCTTGGACCTTAATTAATCTAGATCCTGATTGTGTCTTATCTTTGTGTCCTCAAAACCTGGCACCCTGATGTCCACACTAAATATTGAATGTCTTTAGAAACAGGCCACAACACTCATTGTGCATAGACAATGCATCTTATTCATGTTAGGTTGTTTTTGGTTTCTTCCCCCCACCACACACACAAAATGTACTCATTAGAGAGATTTTGGGAAAGAAGGTCACATTTTACCTCAAATATTGAAAGGTATTAATAAATCCACATTCCATATCTTATTTTTAATAAAATTATTAGGATTCTAGCAAGTAAAATTATATCACTTACTGGAATGACTTTGCCTATTTAAAGAGACATTTCTATTATCCCAATTTGAGCTACTAAGAAACTATTTAAGCAGAAGCTATTGACCCAGCTATTTCTATGCTGCTAAGAGTAAAACTCTCTATACTTACAGCTCACAGCTTACTTTCTGGGTAGCAGGACTCCACAGGGAAACAATAAGGGCATCAACATCATGGAACTTACAAGCCTGGAGTCTTGGCTTCTGGGTCAGGTGACCTTGGGGAAGTCACTTCACTTTCCCAGGTATGATTTCCTTATTTGCCGAGCTAAAATAAGGCTGACAAACCGGTCTACAATTCATAAAGCTGTAGTAGCACAGCAAAGACCCCTGAAAAATTCTGCCCTATTCGGAAATGGACAGTTAGCAGGGAACTGGCAAGCTGATGCCTGTAATTAAACGAGTAACTGAAGTTTATTTCTCTCGAAGTTTCTAGATGCTTCCAAGACGGTGCTGTCTGCCTAAATTTTTCTAAACAACTCGAAGCCATCCTTAAAGTGTTTGAGGAATGGACATTCTCAGGCAAAGTCGTTTCCAAGCCCCTTCGGCTCAGCACTGCACCGCAGATCACTGCTTTCTCAAATCAAAGGGGGCCCCCCTGCAGAGTTGGTTTACACCATTAAATTTCCTCCAATGTAAAGCCAGGAGAATTTTTCCAGGTGTTCGAATTCCTAGAGGTTGGGGAAAGTGCCGAGCTCTATATTAGAGCAATACCACGCTAGAGTGAAACACAAAGAACCTTTTTTATGGTGTTGCCCCCTCTGGAGATCTCTATTTAGGGGCTGCCTTGGCAGGGCCCACCAGACCGTCTGTCACTCTCCGCTGACACCGGCTGCCGGAGGAGGGCGGTCCCCGAGGCTCTCGTGCTGGCGGCAGCCCCGCGCTGGCCCCGGGCAAGCCTTGATCCGCCCTGCGCCACGTGGAAGGTGCCTGGACACGGGCTCAGCCGCAGGGGCCCCTAGTACCTCCATCGGGTCTCGTCCCCCACGGCGGGGTCAGAGGGCAAGTCACCGGCCAACCTCCTCCAGGAGCTCTGTTTAAGTGAGAAGCAAAAGAGATTCCAAGGAGAGCCACAGGTTGAAATCGGAGCGAAAGCCTGGGCTTCCCCGAGCCAGGTGAAGAAAGCTGGCAAGGTCACCCACTCAGTCACCAGGTGGTGCATTTAATTTAAAAGGAGTGTTAACCTTGTTTATACAAAATAACACCAATATGCAGAGAAGCAGTAAATCCATTGTCGTTAAACAGCGGGGAGCCGCTGGCGCTGGCAGCCTGCCCACCGGCGACGGTGAACCGGGCTGGCACCGAGCAGGGAGCCGGGCCTGCCAGCCTGTCCGCCTCGCGAGAGGAGGCCCGGGCTCGCCCTCTCTGCCCTCCAGATGACTCTTTGCATTCTTGTCAAATATATTTAGAACAAGAGGTGTCCACTTAAAGAGAAACGTTTGTTAATCACTTAAATGCAGGCGCTTGGCAGCCCTCCAGTTTCACCTTTATAAATATGTAGGATCGGTTTCCAGCTAAGCAGGGAACTCCACAGCGAGTTCCCTTTCTCTCCGCGTCCCCTCGAATTGACCTAAGGTGGATGTCCCTAGCACCTTATTAATTTTCTATCCCAGTGGGCTTTCTGGAGTTAAGGCCAGTCTTCTATCTGGAAGTTGACGGAGATAAATAAATGATGCACCGTGGAGGGAGGGAGAGAGAGAGAATGAGAGGAGTGTTTCTTTAAGTAAGGGACAGATTAAAGTGAAATTCCTGTTGACGGAGGCGCTGGTGTCGACATCCTCCTTGTTTACCAGCAGCTGTCCCTGTTAATGACACTCTGATAACTTTCGGAGGCTGCCCTGCGGTAGTAGGGGAGAAGAAGATAAAGAGGCCTCTGTTTAAATACTCCGGGCCTCGACCCCACTCTTTTTAACTTCCCTTCCTTTAAGAATGGGTGAAACTGTTCAGAAGGGGCAAATCCTGGGTGCAGAGATTTTTGCCCCGGAAATTTTGAGTTCACAGCATAAAAACTCTGCAGAGCTGATGCCTATTCCAGGAGTGGAAACTCAGGGTTGGCGGTGGGGGGCAGAAAAGGCAGCTGGTCTGCAAGGTGAGGAGGTCTGCAGGAGGCCGGAGGAGAACTCTTCCTTTTGTTTTAAAAACCCTGACACTTCCCTGCCCTCCCCCGGCCCCACCCCAAACAAGTCTTACAGAGGTAACTAAGTATGTTAGGGACAAGGTTACAGAATGAAGGTTCTTTGAGGGCCAATGTATCCTTAGCGTTAACCACATGAAAATCACTTTGAACACTTGGAACACTCTCCCTCATGAAATTCTCAGGTTTTGGGGGACCTTGCCGGGCACCCAGGCTAAAACTTTGAATGTGCAGCTGAGAAAGCAGTTCCAGTAGGTGAAGGGACCTGCCTAAAATCACTTAGTAAGTTTTGTGGCAGGATGAGGACTGGAACCCAGTTCCCTGTCCAACGTTCTTTTCAGACAGACAAATAGATATGAAATACTTTATATTTCATATAATACATATAAATATAAATTTATATATTTTTTAAATTTCCACCTCCCATCCTGAGATAGCAGGCAGACGGCGGCAGCTATCTAGTCTTTCACACTGAAAAAAAGCCAAAGCTCTCACTTGGCTCAAGTCCCAGACTGGTAGATGCTTGGGCTTCCCTCAAGACCCACCTCCGCCCCGATTATTTCATGAATACAATTCACTTAAAGATCAACAAACGTGGAATCCCATAATCTTATTCATGCTCTAACCAGTCAGGCAGACATGCCTCCAATAAAGCAAGCACAGAGGACAAATGTTTTCCTGCCTATGGAAAATGAAGATGGTGTGGAACAAATGATCTTGCGTTTTTTTGCACCTCTGTATTTTGTCACCTAAAGCGTGTCCTTTATTCATCTCAAGAGATTTGGGGAGGGAAAAAATAAATTAAATGGCAAAGTATTTTGAGTTCACATGCTCAGAAGAAAGATGTTGACATTTTTGATCCATGTAATTTTCTCTGGAAAGTTCTTTATAATGTTTTTAAAGATCGACGACAATGATGTACTTTCCAGTGGCTTACGGTAACACAAGTTCATCATTTATATTCCACATGGTAGTGACTCCACAACTTTCTCTTTATATATAGTAAGGTATGGTAGAATTATTCTCTCTACAAAATTTTAATTCAGCTTATAATCTGTTTATGGCAATTTGTTAACTACCAATTGTTATGGGTTGAACTGTGTTCCCCCAAAATTCACATGTTGAATTTCTAACCCCCCAGTTATGAGAGTTTATTTGGAGATAGGCTCTTGGCAGAGGTAATCAATTTAAAATAAGTTCACCAACGTGGACCCTAATCCAATATGATTGCTGTTTTCTTAAAAAGGGGAAATTTAGAAACAGAGATATGCATGCATTGATGATATAAAGAGATGTAGGGAGAAAGCCACCATCTTCAAGTCAAGGACAGAGGTCTGGAGAGGATCCCTTCCTCACAGCCATCAGAAGGAACCAGCCCTGTCGACACCTTAAATGTTGACTTATATCCTCCAGAACTGCAAAACAATAAATTTCTGTTGTTGAAGCCATCCAGGCTGTGGTACTTGCTTATGTGAGAACCCTAGCATACCAACCAATTTTAGCCACTCAGTAACTTTAATATCCCCTCAGATCAATATTTCAAAAACATATGAAACCAAATTAAATGGCTTAAAATTATGTTTAAAGTGTCCTATGTAATGGGGAGGCAAAAGGAACTAATACGTATTGTGCATCTATCATATCCTGGGCAGAATTTGGAGAACTTGATATATTTTTGTTGATTTCACACGTATAAACCACTCTTTCAACAATAAAATTTTATCTAATTCAATAGAAACACATCTTGTGCAGAAGAACATTTACAGTAAACATGAGTAATTTAAATGAGTACCAATTAAGGGGATTGTACCTTGCTTAGTATATTTCATCAAATTATACATCATAAGAGGTAGAATCTTCTCTACATCATGAGCAATGGTACTTGTTGAATTCTTCTCCATCATTTCACCCACATTTTTTGATGTATCATATAATTGATGGTTGAAAAGTTTATAGTAGGTTTTGTCAAGGACCCAGTTGTGAACAGAGATTATAAATAAGCACAGTCAATCAAGAAGATTTATCAAGTAGGCGCTCTGTATACGGCACTAGAAGGAGAAGGGGAGGTTGCAGAAGCCACACCGCCTGGTTTGGGCTACGTAAGAGTCTAATTGGTGAGAACAGCTATAAGCAAGTCAAGAAGGCAAATTAATAATATGCTTTGGGGCAATATCTCAGCAATGCAAAAGAAAAGGAACTCAAGACACGGGCCATAAATCCCTGTGTGCCAGTAATAGTCCCAGTTTACACTTGCTGTCTCCGATTAATTGTTAAGAGTGGTTTTTTTTCATTCCCCAAAATGTCTGAGGTTGCTTGAAAAAGTCTGGGGTCACTCTAGCTGGGGACTTCTCGACCGCCACACTACTAAAGTTGGAAGATGGATGATTCTTTGTTGGGGGGCTGTCCTATGCACTGCAGGATGCTTGGCAGTTTCTCTAGCCTCCACCCATGAGATGCCATAAGCAATGCCCTCTCTCCTTTGTGACAACCAAAAATGTCCCCTACAAGGCAAAACCACCCCCAGTTGACAACCACTGTACAGGAACAATGATTACATCACGGAAAACTATCTTCAGAAGATTAGATTTCAGTATCTGTAGATAAAGAACCTGAACTGCCTGAAAAAGGAGGACATTTCCTTTTTCTTTTTTTTTTTTTTGGGGGGGACGGAGTTTCACTCTTGTTGCCCAGGCTGGAGTGCAATGGCGCAATCTCGGCTCACCGCAACCTCTGCCTCCCAGATTCAAGCGATTATCCTGCCTCAGCCTCCCTAGTAGCTGGGATTACAGGCATGTGCCACCACGCCTGGCTCATTTTGTATTTTTAGTAGAGACGGGGTTTCTCCATGTTAGTCAGGCTGGTCTCGACCTCCCGACCTCAGGTGATTCGCCTGCCTTGGCCTCCCAAAGTGCTGGGATTACAGGCATGAGCCACCGTGCCTGGCCAAAAGGAGAACATTTTCTATATAAAAGTATGAAAGTGGAAAACAGCAAGTTGAAGTCAGAAGTCCAAGGGATGGCAGTAACCACGAATAAAGATTGGGGAGTTAAACAAGTTAACCAACCTGTTTACCAAGCTAAAGCTATGTTGATGTACCCCGCAAGAACACTTAAAAACAATAAATTACTAAAATCTCTAATTTCTGGCGCATCCACAGTTCTCGGCACAGTGTATTAGAACTAGACTGTTTACATTGCTTAGCTTCTTAATATTTAGAGAGGCAGAGAGTGACACCCTCCACAATTGTTTTCTGAAAGAAGAAGAGTAGATAAGAGCAGTAATAATAATAGCAGCAGCTATTTATTTGGAGTCTCTTACAACCAAGACCTTTTATAGACATTATCTATTATCTGGTTTAATACCCTGTAGACTTTTTTTTTTCTTTGAGATGGAGTCTTGCTCTGTTGCCCAGGCTGGAATGCAGTGGCGCAATCTTGGCTCACAACACTCACCACAACCTCCACCTCCTGTTCAAGCAATTCTCCTGCCTCAGCCTCCTGAGTAGCTGAGATTACTGGCGCCAGCCACCACTCCCAGCTAATTTTTGTATTTTTAGTAGAGACGGGGTTTCACCATGTTGGTCAGGCTGGTCTTGAACTCCTGACCTCGTGATCTGCCCACCTCAGCCTTCCAAAGTGCTGGGATTACAGGCATGAGCCACCGTGCCCGGCCATCCCTTGAAGACTTTCCCAAGACCAGTATTAACTTCTCTGGGCCTCAGTTTCCTAAGCTGCGACATGAGTGAAGGTAGGTGGTGTCACACATCTATTAAGTGTCAGGGTCATGACTTGAACCCAGGTCCAGCTCCCCTAAGCCTGTGTGTGTTTCCCTTGCCTCACTGCACTGGCTGGCAGAAGAGCAAGCAGAGAAGATTTCACGTAAAAAGAGAACACAACCAGTTAAAGAACACAGTAAACATGATCATTCTTCGTACAGACTCTGAAACACGGGGAGGTGGGGAAAGGCTTTTCTTTTTCAATTTCAAATTAACCTTTAATGACTGAGGGTGTCCTTATTTATCAAAATGAAGTAAGCTTTGTCTGGTGTCTTTCATTTACATTAGGTGATCATTTTGGATTAGGGGTCTTCAGATGTGTTGATGTTTAGTAGAAGTATATCAATATGATTCTGAATGCCGGCCAGGGTAAATTCTCTCAAAATGAAGAGTTAAATGCTGAATTTTTGTTTCAGACTCTTCCAGGTCAAGATTTTCAATATCCAAAGGCAGAATCTCCTCCCATCTTGCTTCATTCTTAGTTCTTCTTTTACTCAGTAAATTTAGCTCACACATGCGGCTGGAAGGAAGTTATTTGGTTACAAGGGGATTTCCATGAAGACGTGAGCAGTATCCATTATTACCATCACTGGTTACTTTCTTTGCCCCACTAAGCTAAATGGGGAAAGACAAAGTACTCACAGTGCCAGGCTAGTGGGAAAAAAAAGAAATTCAGTAAAATGTAGTCATGTGTGATTTGTACCAAAAATAATTATTGCTGGTCAAGGCGGCTCCGGCCTGTAATCTCAGAACTTTGGGAGGCTGAGGCCAGAGGATCACTTTAGCCCAGGAGTTCAAGTCCAGCCTGGGTGCCATAGGGAGATCCCAGTCTCTACAAAATAATAAAAAATTAGCCTTGCATGGTGGTGCATGCCTATAGTCCTTGTTATTTAGGAGGCTGAGGCAGGAGGATCACTTGAGCCTGGGAGGTCAAGGCTGCAGTGAGCTTTGATTGTGCCACTACACTCCAGCCCGGGCAACAGAGTGAGACCCTGTCTCAAAAACAACAACAAGGAAACTTATTATTAATACCCCCACAGAGAGAGGTAGGATTTAAGCCAGGCCAGAGTATATGCTTTTTGTCTATCCGCATTAGAGCAGTATGGTGCTTTTCATCTACTATTTCATTGTATCAACACCCAAACCCAAAGACAGAAGACATATTATGACCCCTCTAACTTAGGGGAAGAAAGAGAGGATCAAGGGAAATTAAATAACCTGCCCAAGGTCGAGTGGCTAGGAAGTAATGTGGCCATGATTCAAACCCAGTTCTACCTGATTCCAAAGCCTGTAGTCTTTCCACTAACACAAGTAATTCAAGAAAAATTTAGCTATATAATTTAAGGAAGTGAGAAGATCAAATTTCCAGCCTATCCCAGAGAAGACAAGGTAAACCCCAGGTCAGTAGAGAGGTACTGAAGGCTTTTGGGCTCCCAGGATGCAGTTTACATCAGCACCGTGCAGTCCACTAAATGACATCCCCTCCCAGAAGAGCAGCAGTTGAACATCACCTTGTCTGGAGGACTTAACAACCCTCCATTTCCAACCCTTGGGAGGTAAACATTATGCTAGATGGTGGCTTTAAATCATCTTTTCCAACATAAATGATATTGCAAAAAGTCCAAGAAGAGGCAGATAAATTCACTGGGATCTGAGCACAGGCTTTTTATTTTGCGGTGCTGAAGTATCATTAGCCAGGCATCTCACAGAGAAGGGAACCTCCAGTGCTCCCCAGCTAGACACAATCCTTGTCCTGGATAGAACACTCATCCACACCCACTGGAGCCTCGTGGAAGGGTCCAGGAGAGCAAGCTGTGAGGAAGTAAGGAGGTTGGAGACTTTCACAGGCTGCCCTTGTGCTCTTCGTTCCTCTTGCTTTTCTAGTACTGTGAGAAGATGTGCAGTAGGAAGAAGGATCTCCTGGGTCCATTTCTACAAGGCAGTCTAAGTGAGGGGGAGTACCAGGAGCAGGTGAAGGGAGCACATAAACTTTCAAATGTGTGCAGGTGTCTATGTATCACTTCAACAAATACATCCAGCATCACTCAGATGCTTTACTGAACAAAACAAAGTGCTGTCCCCCGTGCAGCTTGTAATCTTGCAGGGCAAAAAGAAGACCTGGGAACAAATTTAGGAGGTCATGGGTTGATGAGAATGGGGGAGGTGCAATGTTCTATAGCATTTTCACACAAGGGCTTTCCAAGGAGATGACATAAGAACAGAAAACAAAACAAAGCACAGAAATGAGCCAGAACAATCTCTGAGGAAAGAATCTTCCTGGGAGAGGGAACCACAAGTGCAAATTCTCCAAAGGATGCCAATGTACTAATAGTAAAAGGATGGAGGGGAGAATGCAGACCATGGCAGGCCAATAAACTACTGAGAGACATATCTTATTAATTCTAACTGCTGCACAGTATTACTTGCAGGAATATACCATATTCATTAATTCCTCTATTGACATACATTTAGGTTGTTTCCAGTTATTCACTCATAAGCTATGATGGGATAGTTTTCTCTACGGTACATATAAGTGATATATGGTTTGGCTCTGTGTCCCCACCCAAATCTCATCTTGAATTGTACTCCCATAATTCCCACATGTTGTGGGAGGGATGCGGTGGGAATAATTTTAGTCAGTATGTGATTTCCCCCATACTGTTCTGGTGGTAGCAAATAAGCCTCACAAGATCTGATGGTTTTGTAAGGGGTTTTCACTTTTGCATCTTCCTCATTTTCTCTTGCTGCCGCCATGTAAGATGTGCCTTTCACCTCCCGCCATGATTCTGAGGCCTCCCCAGCCACGTGAAACTGTAAGTTCAATTAAACATCTTTTTCTTCCCAGTCCCGGGTATATCTTTATCAGCAGCATGAAAACAGACTAATACAGTAAGGAAGTACAATTGCTGGTGATAGTGGATGAACATCTTCTGCTTTGTTACATATTACGGAGTCAAAGTCATTCTCCAGAGTGTTTGTTCTAATTTACAGCCCTTACAGTAGTGTATGAAGCTCCATTTTCCTCACATTTTCCCCAATATTTGGTGTTATTTGGTGTTATCGGATTTTTTTGTTGTTGTTTGCTTTTTTTTTTTTTTTGCCATTCTGATGGGTTGGAAACACTCTGTCTTCATCCTTTTAATTTGTATTTCCCTAATATCAAAGTATGAAAGAGGGATGAATTTTTTTTCAAACATTTATTGTTGATTCAAGTTTCCTCTTTTGTGACTGGTCTTTCCTAACCTCTGCTCATTTTTCTCTTTGACTATTTGTCTTTGATAAACATGTAGAACTTCTATGTTCAGAATATGAACTCTTTTGTAAGTATTAAAATATGTTATCCAGGATGTAGGATTTTAAAAATATTTTAGGGTATATGCAACCAAAGAAAAGAATTTTAATAGAATAGATCGAATTTGATTTAATCAAATGTATTAATAGACTTATGATTTGCACTTTTTATATGTTTAAAAATTATTTCCTATCATAATGCCATAAACATATTCTCTTCCTTTTCTGTCTAAGAATGTTAAAGGATTGCTTCCAAATGTTAGTATCTGAAGTTCATTTTATATATATATGTAAAATATATATATAAACATATATATGTAAAAAATATATATAAACATATATATGTAAAATATATATAAACATATGTATGTAAAATATATATAAACATATATATGTAAAATATATATAAACATATATATGTAAAATATATATAAACATATATATATATAAACATATATATATATATATGATATCTATATCTACTTTTTTTGTATGGAAAGCCCATTTCCCCCCACTGGTCTGTAAGACTATTTCTTTTCCATTCTCATATCTATGTAGGTCTGTTCCTGGGATCTTTATTTCTCTACCAGTGTACCACCAGCACACTGTCTTGAATATGATCACTTTAACATCATTCAGTCTCTAACTGCGCATGTGCTTTTTCTTTACTCTCCCTCTTCAAAATCACTATTTTGAGCTATTTGGGGTTCTTGATTCTTCCAGATGAATTAACTAGTTCCACATGAACTGACTAGCTCTGTGAAGAAAAAAATCTGTTGGAGTTTTAATTAAAGTTTTAGATTACTTTTGGGATAATTGATCTATTTAGGAAAATAAATCTTCCCATATATAAAATATCTAAGGCCAGGTGCAGTGACTCTTGGCTGTAATCCCCGTCTCTACTAAAAATACAAAAAAATTAGCCGAGCATGGTGGTGTGTGCCTGTAATCCCAGCTACTCGGGAGGCTGAGGCAAGAGAATCACTTGAACCCAGGAAGCGGAGGTTGCACTGAGCTGAGGCTGCCCCACTGCACTCCAGCCTGGGTGACAGAATGGGACTCCATCTCAAAAACAAAATAAAATAAAATATCCATGTATATGTCGTTTTGTGTCCTTTGACACTGTTGTACAATATTCTTCATACGGGGCATCCATTTCTTACATTTACTCATTGACACCTGGTGCTTATTGGGCATAGAATCCTTTAAAGAATACATTTTCTAATTGGCCACGGTGATATTTAGGGACACAATCAAGTACATGTATTGGTACTTATATATCAACGTTGTATGTGTCAAATTTCCAAAATTCATTGAAAATTTGTATTAAAAATTATACTACCTGTAATCATGACAGTTTCTTCATTCCAATAATTATAGCTCATATTTCTTTTGTGTATTGCACTGTCTAGGACCTAGAAAGAGTAATAAAGGAATGGAATTCATTGTCTTATTCTTCACTTTATAGGAAATGTTCCTTACACATCAGTATCAAATATGATTTTTTGTTTTAAGTATTTGTAGATACTTTATCAAATTAAGAAAGTTCCTTTTTGTTTCCAAAAAGCCCAAGGAATTCTGACACAGTAATGGAAATCCAATTGCAATTCGCATGCTGGCATCAGGCATGTAATAAGTGTGGTCCATTTTTCATCAATAGAATGATAAATGTTGATAATGCAATTGTCTAAATGTTTACAGAGTTTATAGAGGATATTCTTGCCAACTTTCTTCTGTGGGCTAATATTTGGGATTTAGTAGTAGAATAATGTAAAATTTTCTATAAAACAATCTCTTCGGGCTTAAATAATCTCTTTGAGCAGCGTTGCAAGAGTTTAGCTTTAGTCCTTTAGAGTAATGGAGTTCTATCTCTTGCCTAACAAAAGTAATATTATTCTGAGAGCTCAAGATATAGAAAATTATATATTAGAAAATTCTTACAAAAATTATAAACCCAGCAGACCTATACTAACTTCTGTTTCCAAATCTCTTATTCTAACAGCATTTCAGAAATAACTCAGGGATTAAAATGGCCTGTCAGGTTGACATCCACATTTCTAGATTAATTCACTTCACATGAATACATTTTTCAATAACTTTATTGAGAGTTCCAAAAATATTTACAAGGCTTTATTTGATCCTGATTTTACTTTAATCACACTCACTTCTCTAAGGGTAAAAAATGATATGTTTTAACTAAATATAACTGAAATTTTAAAATGATACAATTAAAGGCTTTTCAGAAATGCAATGTAAACTATCTGAAGGAGTGACAGAGAATTATTGGAAGTATATTCAGGAAATGGAAAGATTCAAAGCAATAGCTAAGAAAATAATGCACCCTCAGGAGGCTCAAGGATTAGAGCCAGATGCATGATGTTACTCTTTCTTTTTCTTTCTCCCTCTCTCTCTCTCTTCCTCTCTCTCTTTCTCCTTCCATTCATCCATCCTACTCTCATCTTTGCTCCACTCTCTCAGCCTTCCTCTAGTAGTGCAGAAAATAGACGCTCTCAGGATAAACAGCTAACGCATGCGGGGCTTAAAACCTAGGTGATGGGTTGATGGGTGCAGCAAACCACCACGGCACACATATCCCTACGTAACAAACCTGCACGTTCCGCACATGTATCCCGGAAGTCAAAGTAAAATTAAGAAGAAAATAGATGCTCTACAAAATGCTCAGGAAGTCCCCAAATCCACCCTCAGGTTTAACAATTTATTAGTAGGACTCACAGAACTCAGAAAAGCCCCTACTCTCATGGTTACGATTTATTGCAGTGAAAGGATACAGAGAGGAGGTGCATAGGGTCGGGTCTAGGACATACCAGGCATGGAGTTTCAGTTCTCTCTCAGCAGATAATGCAAACATGATATATTTCTCTCAGCAAGAATATATAGCAATGCACACCGAATATTACCAACCAGGGAAACTCACCCAAGCTTTGTTGTCCAGAGTTTTTACTGGGAGTTGGCCATTCGGACATTCTGTTCACCCATGTGACTACCCTTAGTCTCTAACCCCTCTGGAGCTTGAGTGGTACCACATGTCCAAAGGCCCCCCCACCAAAAGTTACATTGTAAGCACAGACTATCTGGTATTGCTCAAGACCTCCAGTAAACAAAGACACTCCTACAGGCAGAACATTCCAAGGGCTTAGAAATTACAGCCCTGCAGCTGGGAGCAAAAGGGCCAAACCTCTCCAGGGCAAAGTTAATCCTTTACTGCATACCCTGAAGACTGAGGTCACATGCTTACCAACCCAGGAAGGAAGAATTGTTTTCCCTAATACTTGCAGTATAACAAACTCCAGGGAACAATTCTGATTGGCCCAGCTTGGGCCGCATGCTCGTCTCTGCACGAGTCACTGTGGCTCAGGGAATGAGGTAATATGATTGGCCCAGCCTGTGTCATGCACTCAGCTTCGAGGTCAGAGAACCGAACCATTTACCAGAAGAATTTCATGTTTGTCAATGCAAATAACAGCAACTACAACAACAACCACCGTAGACATTAAAAAAACAAAACAAAAAAACGCAATAAACCATCGTCTTGCTCTTCTCACTTTGAATTAAGTTCTGATTTCTAGATCAGGATATCTACAGATCTAAGGGAAGCAGATCTTAAGTTAACTAATTACGTTTGTAGGATATCAGAAACATCCACTCAGCTCTTTCCTATTTATATAATCGGTGGGAAAAATATAATTCAAAACAGCCAAGGGAGTGAGATTTTTATTTTTGAATATTAATTTTTGCCACTCTGATTGTACCCCAAAGTTTTAAACATTTTGTCTTGTATATGATGATTCCTACTTGATGTCGTTACTTGTGATGAGAACAAGGATTAGGGATTTATTATTGCCACTCAAAAATATTATGAGTTTTAAGAAAACAGGAAATTATTAGAAACTGGAGTTTTAAAAAATGTTTGTTATCACAAATATCCTTTCATAACAATCATTTAAATTATTACACTATGGTTTTCATATGCACTTACTAATGCTTTTATGGGGAATAAATCTGAATATGAAAAAAACTGGATAATGGGAAGTTGATTCAAACTTAAAAGAAATATGTCCTTAAAAGCAACGCATTATTTATAAGCAAGCCAACTCCAGATATTCCTTAAAGTGATTACCCAATTAAATTCTGGTATTAGAGGTTACTGAGATTTTTTTTAATATTCCTGACTTGAAAAAATGTCCTAGATTTAATAGGCTATCATAGGACACAGTTCTGTGGCACCTGTGATTTTAGCTGAGTTCACTGGGAAACTAGATGCAACGTAAATATTAGCACATAAACAAAGTTACCTGTTTGTACTTGGCAAAGTACAAACTAAAATATAATAATGATTATAATTATATCACCTAATTTCATAACAATCAGATCATGTGCTTATTTTACAAATGTAAAAGATGCTCTCAAACAGCAGCACGCAGGTGGCCCTAGTGCCATAGGTAGCATATTGATCGTGGAGGGACTGGAATTCACGTCTCACCCCAAAGCTGTATACTTAATCAATCACTAGCCCATTAGGCAACCTGGAAAAGACAGGGTCACCTCATGAAATCATTATTGGTCTCAGTCTCCCACTCAGTACTGGTTTTGCACTACTCACTCCCATCAATGCTGTTCATAAAGTAAATTTTTCTATGATCCCCAGTCTCCCATAATTTTCCATGGTTTGCTAACTGTATGCCTCTAAACAGGTGGAAACTAGTGCCATGCGAGGGGTGGGAGAGGAGGAAGAAAAGAAAATTACTGCACCTGGATAAGAGATAGTATGATCTCATCCAAACATCCTTTAAGGCTCAGTTCAAATCTTACCTTCTTTCGGAGCCTTCCCGATGGTCCCAAAGCACATACTCTTGACTACTTTGCCCAAGACCTACCAGGTTTTTGTTAGCAGACAGCTGGGATTCCTCCATCCTCCGCTCCAAAATGCTTTCAAATGCTAAGCCTCATCTACCCTGAGACTGGCCAGTCCCCTGGCAGTGCAACCATTGCACAGATACGAGCATAATCTATGGCCACTGTTCAATTTAGAGCTTGTTAGTAGTGAAGACATTTTTCTGATAACATTTTTTAAAACCATCTAGTTATTTGTATGTTTTCAAGGAGTTGTATGTTTATTTTTCTTGGTTGCTTAAATTCAATTGTTCCTATTTATCTTACAGAAAGACTAAATATTTTAAAATTTAGAATGACATAGCTGATATGGCCTAAATTCTTTTGCCTTGCCAGGTTTTTATTTTTTTAAATAAGGATACAGTTCGCAAATTTATTTTGGAAAGGCCAGTTGCCTCAGAAAGTAATTCTCTGGCAAAGTGGATTTATAAAACCTCTATTATTTTTAGGCTATCTAATCCTTTTTCCAATACTCTAATGGTCATATGCACAAAAACAGAAAAATAAACAGGCCTGAGACATGTCAAAAATAAAACTTAAGATTTCAAGCTTTTAGAGATTGTCTACCTTCTCACTGGTGTTTTGAAAAAGTTTTAATTTGAGAAAGAAAAATAATTCATCACCAGCGATACTTTGAATTCATGCAGGAATTTTTTATATAGTGCGCAAATAACTTTTCATTTCGTTTCAAGATAAGTAAAATAAATAGTTGTTGATGATTATGATAATATTACTATTAATAATATTAATAATTATTAATTAATATTAATATTAATTATTATTAATAATTAATAATATTAGTATTAATATTAATTATTATTAATAATTAATAATATTAATATAGCAAATATTTCTTACTGTTATGTGTCAGACATTTTACACATATCATCACATTTAATCCTCCCAGAAAAGCTGTTTTAATCAACCACAAAAGAAGGAACTGCGATTTAGAGAGACAGAATAACGTGTTGCAATTACACAGAGGTGATGGAGGGTTGAACCCCGGATGTGTGCCTCTAACCTTAAACAATGTGCTGTGCTGACGATGCCAGGAAGTCTTATGATCAGGGCTGGGGATTGTGGCCTGCAGCAAAGCCTATGATAGGCCATATCAGCTATGTCAGGCTCCCTTTCCACCTGACCTCACATCTGCTGTGGTTTGGATATGGCTTGTGTTTGGACCCATCAAATTTCATGTAGGAATTTGATCTGTGTTGGAGGTGGGGCCTGGCGGGAGGTGTTTGGGTCATGGAGGTAGCTCCTTCATGCATGAATGGCTTGGTGCCATCCTTGTAGTAACGAATGAGTTCTTGAGAGTTCCATCAAGAGCCAGTTGTTAAAAAGAGCCTGGCACAGCTCTCCTGATTCTCACCTCCTGCCCTGTGATCTCTGCAGGCCACCTCCCCTTCACCTTCCACCATGAGTGGAAGCGGACTAAAGCCCTCACCAGATGCAGATACTGAAGCCTTGCTTCTTGTACAGCTGAAAAAGGGCGAGCCAAATGAGCTTCTTTTCTTTATAAATT\",\n          \"TTATGAAGTTGAATCACTATTAGCCCTTTTTAATAGATGAAGAAACAGGCATAGAGAAGGAAAACAATTTTTCCAGTGAGGGGGCAAGGAATAATTCCAGTTTTATTTGACTCAAGAGCCCATGCTCTCAACAAAGGTATATATCAACTCCCTTCATGCCCTGACGAGAGACTTCACATACCCTCAAAGTCACTCACAGCCCTGACTTAAAAGAGCAGTGGATTTGCTCCTCCAACAAGAAGGTCTAAATTAGCAAACATCATGTGGAATAAGTAAATTACAAAGATTGAAACAAGCATCTTCACTTTGACCCTCTTCCATCTAAATTCTAAGAAAGCATGTACATACTCCTCAGATGACTACATCGTTCACTTTCATGTACTTATTTTCATCTGCACTTTCCAATTTCTGAAGAAATAAACACAATTTAGTAAGATTAAATGCTTTTTTTTTTTTTCATTTCCTAGGTTTCCAACAATTGTTCTGGGAAGAATGGGCTCAGTTCTCCCTCTGCTTGTCAGAATGATTAATTAGATTTAATTTCATGCTGTCTCCTCTGCTGTCTTTTCCCTCTCTCCAATGACTAATAACTCTTCTACAAAGTCCAAACAAATGGCCTCCGTATCTAGTTTTTATTTTTGGAAGTTTTCCCCAGCCAAAATGCATAGAACCTCTTCACAGACAGCAGCTTAGAAATTCCTGGCTAGGATTCCTGCCCTTAACAGTCGCACTTGATACGGCTAGATGGCCCGTTGACTGATATCTGGGGTGGCATCATGCCAGCTCAAAAGTTGTCAAGCCATTTGAATCAAGAATCAGCACTAGGCAGTGAAAAATACGGATGGGCAGCCTGCGAAGCAACTCTGTGAGGGGCCATATCTTCTCCAGGAAGTACCCTTGTGCCAGCACTAAAGCATTAACACCACGTGTCTTTTTCTACACTTGACATCTGTGGACACTTAGAGTGTGTGACAAAAGGAGGAAGAGAAGGAGGATAGAAAAGACAAGAGAGTTTATAGGTGTGGCTAGCAAACCATAGAGAGGGATTCTGGTGGGGGCCCAGGAGTCCATTAGGAACCCTGCCTTACTGACTATTTATCATGTTATGTGAGAATAACAGGTGCCTCATTTCAAGGCCAGGGCTTAAGCACAATTGAAGGAAGAGGCTGGGAATGAGCAAGTCAAATCTCTGTTTCTAGCCATGCCACAGACCTTTAAAAAGGGGAAAAGAGTCCATTACTCATTATACCACGTGACCACCAGATGAAACCTTAGGGTGGGAAACAGCCCCTTTCCAAGACACAGACACAAAGAAATCAATTTAAACATGTCATAAACCCAGATCACTGGCATCCTGAGTAGGTGAGAAGACACAGCTGTTTGGACAGTCCCAGACATCCAGATGAATTTGACATAGCTTTAATAAATTCATCAGTAAAATGAAGATATCTGGTAGTCTAAATATGTGTGTAAGCATGGAAGGACTTCAGATTCAGGCTTTGTGGGGCTGAAACACTGCCTTGTGGCTAATTTAAGGCTCACAAAGTTTAACAACTGGCCAAGTGTCATTTTTCAGATAATCCTCAATTTCCTCAACTGTAAACTGAGAATAAAACTAAAACATACCTCACAGTGTTGTGATTAGGCTCAAATGAGATGATTTCTACAGAGCACTTATTAAATGGTAAAGTCCATACAAATGTATCATTGAGCATTTTAGAGTAGCTCACTCCTTTGTAAACATGACTTATGATACTAATCTCTATCACTGATAATTTTTCAAAATCATATACAAAACACAGCTTATGAATCATGACTCTAGTATTGGTACTACAATTGTTTTTAAACTGGTAATGTTTCAAAAGTAGTCATCTTGGGATACCATGTCTTCAATTTTTTTTTTTTTTTTTTAAACAAGATCTCACTCTGTTGCCCAGGCTGGAGTGCAGTGGTGCAATCATGGCTCACTGTAGCCTTGACATCCTGAAATCAGGTAATCTTCCCACCTGAGCCTCCCAAGTAGCTAAAACTACAGTCTCACACCACCGTGCCTGGGTAATTTTTATTTTGGGTAGAAATAAGGTCTCCCTATGTTGTCCAGGCTGGTCTCAAACTGCTGGGCTCAAGTAATCCTCTTGCTTCGGCCTCCCAAAGTGTTGGGATTACAGGCATGAACCACCACGCCCCATTGAGATACCATGTCTTCAGACTAACAAGGAAGTCATTTCACTTCTTAAAAGTCATCCTGTTGAGTTACCTTTGGAATCTATATACAAACTGAGGAAAAAAATCAATGCTCACTTATGACCCAAAATAGCATCCACCCTATTTACCTGACAATACTTTGTATGCCTTTTGGCTCAGATCCAAAAATCAAGTTTATACTCAAAGGAAGATAATTTATATTATGCTTCATGGTTACAATGTCACATAACCTTACCATTTGTATCTACTTGCAATTCTTTAGACTAGGCTGGTTAGGTTCAACCAAGCCTGGCTTATAAAGAACCTGAGGGAGAGAGAGAGAAAGAAAGAGAAAGAGAACGAGTCTATACACTCTGATGCAAACTCTGATTTTTCTGTCTCCAAGGGGATTTCTTATCCCAGAGAGGAATTTTCCCCGTTCCTTGGGTTGTTCTCCTAATCTATCAAATCCTCAAATCATTAAGTCAGTTCTAAAGTGTGGTTGCAAAAAATGCTTTGAACAATGGTAACACCGTTGGCATGTGAATATAGTCTCCCAGAAAAGCCATATTCAAATTTCTGACATTTTCACAAGTGTAAGTTCTGATATATTCATTTAAAAGTCTGTTCGAATTTGTATCTTAAAACAACCTTGTGTGTTATTTCTAAATCTCTTATTTTCAAAAGAAACAGGCTCAGAAGGTTTAGGGACTATAAATATTCATTGACATTGGTTCAATTGCCAAATCAGTATTACAGTAAGTCAGTATCAAATCATGAAGAAATACACAATGAACTCAGAAGCATGGTGGAAAAAAAAAAAAGCCCCTATGTGTATGGCGTTATCAATGTAAGGTTATTTTCGCATTTTGGACATATTTTTCAAACTCAGAAATTCATTCCATATTGATTCTGTTTTTTCATAACATGCCAAAATGAAATTCTAAAAACTCAATGTTACCTCTTCAGAGAAGCCTTTATTCTCTCTGTCCCTCCAGACTATAAATGGTTTCTTTCTGTGTTCCACCAACACTTGGCTTATGACTTTTTTTTAACATTGCCACATTACTTTCTAGTTGTTTATTTGTATCAATCTCCAATTTATACACTATGAGTTCCTTGAGGGCAGGGGCCCCTTCTGGTTCCTCTTTTCTAGCCCATAGCATGGTGCCCAGTACATAATAATATGTTCAACAAATGTTTGATGATTGAATATATGCAGAAAATTTAAATTATGAGACAGTGTAAATAAATAAAAAGGAAAAGGAGTTTACAACATATAAACACACAGCCAGCCCAATCAAATGATTATCTATCTATCGTCTTCTCTTTATCTCTCAGAAAAGTGTCAGGCATTTTGATTCAGAAATTCTAAACAGCATGCAGCCATAGCCACCTCAGAAGGACCTGAGCTGAGGACACCACCTGAGGATTATGGTTGTTAATAGAATTATTTTTAGTCCCTCTGTTTAGCTGAATGCATTCCTTTGTGGGGAATTTAAAGTGCTTCATTCACATGTCCGCTTAATTGTCACAATCCTGTGGCTGTGTAGGGACAAGATTAGCACTGCATTTCATGAATGAGGAAGCTGGAGAAGGTTGACTCATTCAATGCCACTCAGGTAGCTCTTAGGAAAGAGAAGATTGGAAATGCTTTTCTTATTCTTGGTGTTTCTGCTGTGTGGAACTGCCACTGATTTTAGCATCAGAGTAATCAAAGCTTGACTGCCACTGAGAGATCCAAACATTCACAAACCTGAGAGTCTTGGTGGCTAAACTGCCACAACCAAGAACATACTGAGTCAGATCCTTTTTACCTCCTAATATGTGAGGCCTGAAGCTCAGTTTCTGTGAATTCCTTCCTTGGAAACAGCTACATAATTTTCAGGGCCCTGTGCAAAGTAAAACTGCATGCTCCTTGTTCAAAAAGTATGAAGAATTTTAGGAATCTTTCTGCAGATCATTCAATGAAGCATGCAGGGCATTTCTGAGGTTCCTCATTCAGGCAAGTAGCTTTTTTCTTGCTCTTCTATCATCGCCCAGATCTTCATCAAGTTTTACTGAACTATTACTCCTAATATCTTCTATCTTCTTTACTTGTTTTCAGTAACATTATTCAGTGAACCTCTATGCTGGCATTGGGATGAAATTCCTAAAATAAAAATCTGTTGAGGTCATTACCTTGTTAAAAATCTTTCAAAGATTATTTCTTATCTCCTGGGTAAAGTAAAACTTCTTATGCTTCTCTTTCGGTTATTTACTGGCATATAAAAAAACACCCAAAACTCAGTAGCTTAAAACAGTCACTATGTATTTGCTCACAATTCTGGGTTTGGCAGTTGAAGAAGAGATCAGCTGGGATACTTTGTCCCTGCTCCCTAGGGTATTGCTGGGCTCACTTATGTATTTTGTGGTCAGGTGACAGTTCAGCTAGCGACTAGCTGGTCCCAGATGGCAGTTGACTAGGGCTTTCAACTAGTGTGCCTCAGTTTCCCTCCACATGGGCTCTCCAGCGAGCTGGCTGGGATCTTCTCATAAGGGAGCTGGATTTTAAGATAGTAAAACTGAAAGCTGGAAATGCCTCTTGAGGCTTCAGCTCATAAATTGCACAATGTCACCTCTGCCACATTTTATTCATCAAAACAGATCATGAGACCAGCCCAGATTCAAGATGTTGGAGAAATAAATTTTACCTCCTGAAGGAAGGAACAGCAACATTACATTGCAAAGAGGATGTCTACAGGGTTGTGAGAAATTTGTGGCTGTATTTTGTAATACCTTAGTAACACCTTGCCTTGCATTCTTCATGACCTACACTTACTGACCTTTCCTTCTTTGTCTCCCGTTACTCTCAAAACACAATATTGTTTTGGTAATTATGATGATAATGATAACAACAACAGATACAGACATTGATATTATCTTTGTGTCAGGCATCATAGCTCATGTGCATGTATCATGGCATTTTATCCTCCAAATTCCCTATAATGCAAGTAAATGGATATTTTATCCCCATTTTAGAGATGAGGAAACCGAGACATTCAGGAGCTTACTAGGTCTCACAACAAAAAAGAACCTAAACTGGGATTCAAACTCAGGTATGCATGATTCCGACATTCGTTAACATTGTATCATGCCACACAGCTATACCAAAGTGTTTCTCTTACTTAATGTGTACTCACATGCCTTTATGACATTCACATGCTATTCCCTTTGCCTGAAAAAGCCTATATCTATCTCTTTCCTTGTCTTCCTTTTCTGTTTCATCCCCTTCTTCACACACAACAGAAAAGCACATACACAACTCTTTATGAAAACGTTTCTGATTCTCCCAGGCAGAGTTAGGTGTCCCACTGTGTGCAGATCTGCTTATCTGTTTCTTCTTGAGCATTTACCTTTTGACATAGGAATATTGTCTTATTTTTCTTTCTTTTTTTTTTTTTTTTTTGAGATGGAGGCTCACTCTGTCACCCAGGCTGGAGTGCAGTGGTGTGATCTTGGTTCACTGCAACCTCTGCCTCCCGGGTTCAAGTAATTCTCCTGCCTCAGCCTACTGAGTAGCTGGGATTACAGGCGCGTGACACCTCACCGGCTAATTTTTGTATTTTTAGTAGAGACGGGGTTTCACTATGTTGGTCAGGCTGGTCTCGAACTCCTGACCTCGTGATCCACCCGCCTCGGCCTCCCAAAGTCCTGGGATTACAGGCGTGAGCCACCGCACCCAGCCTAAATATTGTCTTATTTTTCTATGCAACTCTCAGGATTAGTATTTACCTTATAGTCATTGTTTAATAAATGATTATTGAATGGAACTTTTTAAAGCATGCTAACTTTGATAATAATTAAGATTATAGTCAGGCTTGTTGATAATTTTTACTGAAATAAGCAATCGAAGTAGTTGAAATAGCCAAAACAATTGTCCATGTAGAGTTTCAGACAATCTTTTGCCGGTGCCAGTTGCATTAGACCATTCATTCATTTATTCAATTATTCAGGCTTTTACAGGACATTGTGTACTTTGACAAGGCATTCATGCATTCAGTCACACATTAAGAAAATTAACAGATGTAAAAATGAACCAGTCTTATGTTTAAATAACACTGGATTTTCTATTTTGCTTTGTTTTGTTTTTGTAATCAATATAAACTACAGTCTAGATTAGCTAACTTAACACCCATTCCCAACCCTGTTCTTTGCTTGATTACCTTCACTATCGAGGCTATAAATACTATGTACTCACTTTCTTAGCCTCGCTTGCAGATGTGGGTAGTCATGTGGTACAGTCTTGTCAATGACACATAATTTGAAATACGTTAGAAATTGTTTTGTGAAAATTTTATTTTCCTCTTTAAATAAAGACTAGACACTCATTTCCCTTTCTCCCTGCTGTGAGTACAGACATAGTGCCAGGAGTTGTAGCAACCATCCTATAACCATGACAAACAACCATCATGCTATGCACTGCAAAGTATTAAGACAGAAAAAAACTAAATCCCCCATGACACAGTTGAGCTGCTGTATAAGCCTCCTGACTCTCTACATACAGACTTTATGCCAAGTGAAAAGGGAGAGCTCTATTTGTTTAAACCACGATTGGTCAAATTTTTTTCTTACTTGTAGCCAAATATATCCCTACCTAAGGCACATACAGTTTGGCAATACAGTGTGGAAATTACCTAAAAGGATGTGTGTGTTTTGGGGGAGGGGATTATTTTATTTAAACAACAACAGTGTAACATGAGTCTATAAGGGCAAAGATACTTGTTTTGTTTTGTTTTTATTCACTGTAATATCTCCACAACTTAGAGTAGTAACTGGCACATAGTAGGCATTCAATAAATATTTGCTGGCTGAGTTAATAGTATAAATGAGGAGCTGCCTCTTGAATTGTGTATCCTAGCTTCGCTTCTGCAAGGTGTATTTTAGCTGTATACCTTAAATGGCTTTCTGAAACCTAACAGCAACAAAAGTTTCATGCAGCCTCTGACCATAAGAAGAAGCTTCAGGCATCCTCAGAAGAAGTCAATAACTATAAGAGCTTCTAAATCTGGTGAAATCCTATTCCCGTTTTATTATAATATCATAAAAGTCAATTTAAGGGGATACCTGCAAAGGATCTGAAATCACAGCTATAGTGATGTTACATTTGACCTGGGTTCACCTGCTGCATGACTCCGTGTGCACAAATCCCTCATGCTATCTCTCCGACAGGATGTGATCTGGTAAGGAGGCTTTGGAAATGTAGTCATAACATTTGCAGTTTATTGCCTTCTCTCTGTATTCTTCATCAGAGAGATGACAGAGGTTCATGAGGCAGAGAAGTGTTACTTGTTGAACTTTGGGCTTTATGTATGTATACGCAGGTATTTTACTATCTTTCGCATCCAACAACTCTCACTAGATCAGAAGCAACAGATGACATTTGAGTGAATTCTATACTTAAATAATTCATCATGATGCATTATTTCTTCATCTATCTTCAAGAGATATTTTTTAAAGAAGGATCCTTCCTCTTGTTGATCCACTCTAACAAAAATATCTTGCTTTATTTTCAGCACGTAATAGGTCTTTGAGAAAATACTTGTTGTGTGCACAACTAAATTATAAGCTGTCAATGTAAAGAAAAATATGTTAATGTTAATTTAAATAACTAAGAATGAAGTTCATTATCGTGTCAACAATTCATTTGTCACCTTCTGAAAAAAATATTGTCAGAATCACTATTATTCCTCCTTATTAGAGATTTCTAATAAAAGGTCCATGATGATCCTTTAAAACTAGTCCTTTGCCTATCTTCATAACGACTTTTGCTTTATAGAAAACAATACTAGTTATGTGATTCAAAGTGGATTTTTCTTCTAGAATAGTCCTGCCTATAATGTCCAAGGAAGAGCAATTACTCTTTCGAGAACCATCTGAACTAGTCCAACAATTTGCTTGAGGAAAGCTTGAAGTATTAACCTGTTCTCACTTTGTTTTTTAAAAATAAAAACACATGTGGTAGTAAGAATTCAGTTTCCATGAATGTGCTGCATGCTGGTCAGAAGACATGAAGTCCTTAGATTTTTTTATAAGAATTAATACGCATTATGAAGGCCTTTTAGTTCTCCATTTACCTTGGGAGCTCACTAGCTCTAATAAGTGCAATAGTAAACTTTGACATTTCTCTAAATTGTGCCAGGATGTTAGCTATGAGAAACATGTTTGGAGGTTATTTGCCTCATTTTTCTCCTTCCTTTTGCTTTCCACTCAGTTTTCCCCACCTTGCACACAGGTCTGTTTACCTAACTTCGGAGAATTTGTGCTTGGTTTGCTTCAGCAAAGAAGTAGTTGGATTCCTCTATTGATTTTTGACCCCCATTCTAACCTCAACCATCACCCTTCTCTAGCCCAAGGGAGACCTGAGCTTTGTTTTTAAGGGAAAGGGCAATGAAAAGTCAACGCACAGGTCAGGGACAGGCAGTAATGAAACACTGGGATCAGGTGGCAGCAGCTTCAGCTCCTTTCACAGGACACTGAGCAAGAATGAAGACTCAAGGACACCATTCAGAGAAAAGCAGATGGTTTGTATCAAGCGCTTGGTTATGCTCAATCTCCTATCAGCCATTGTTGTCTTGCAGAAACATTTCCAGCTACGCAACTGGCCTGTTTTATGGAGGGACAGAGCAGTTTATGGTAGAGATGCTCTGTAAACTATTTTTATAACCTTGAAGGACATTAGATATAATCTATGAAGCAATGAAAGGTATGAGTGTTTTGGAGATTATCCCCCAACATTAGCTTCCCAGGAGTACCCCTTTTACAAGTCTGTGGTTTATGCTCCTTTGGGCATGGATGTCGGATCACTATTTTGGGAACTGACAACAATAACAGCCAGCTTGACTGTGTTCATACTCTCGAGTGTATATAAGCATCCACAAAATTTGGCTTCTTAATGTGAAATGACACCTGATATGAAACTGTCCCCTAAGAAGGTGTCAAACACAAAAATTCAACGGAAGCTAGGAAGCATGCGTCCAGCTGAATGTGCACACTGAGAAAAGGCTTTTTCAAATGTAGTAAAAGGAACTAATACAACTGAACTCTGTAATGAATTTAAATCTAATACAAGTGAACTCTGTAATGAATTTAAATAGTCTACCGTATGTTTTATTAGAAGAATGTCATTTGGGGCTTGGTTGGTGGATAGAAAGTTTTCTAGAGGCCGTGTCAAAAAAAAATACAAAAATATATAAAAGAATTTCTGATGTTTATTTAGTGTTTGTGAAGGTCCAGATACTATGTTAAATATTTTTCAAGCCTCATAGGTTCATAATTAAATTCTTTAAGGAAAGAAAGCACTATTATGATCTCCATTTTACTGTAAAGGAAATTGAAGTTTAGAAAGGCCAACTAACAAATGAATGCTTAACCCAGGTCTATCTGAATCTAGTGCCCTAAAATCTTAACTGATAGGCATTGTTGAATATTTACCTATGATTTCAAAGCCAGGCATTATACTAAATGAAACTAAGAGATAATAACCTGGAAAATGTGAATAGTCAGAACTATTCCATTAAACAGCCAGTCAGAGTTGAGTTATACAAGGATTCAAAGAAATGTATATGTGTGCTTCACACAGAAATTAATTTCGGAATGGCCAGTTTGTCAAAAATGATAGCTTTTTTTTTTTTTTTTAAACAAGAGTCTTGCTCTGTGGCCCAGGCTGGAGTGCAGTGGCATGATCTCAGCTCACTGCAACCTCTGCCTCCCGGGTTCAAGCAATTATCCTGCCTCAGCCTCCCAAGTAGCTGGGATTACAGGTGCCTGCCACCACACCAGGCTAATTTTTTTGTATTTTTAGTAGAGACAGGGTTTCACCATGTTGGACAGGCTGGTCTCCAACTCCTGACCTCAGGTGATCCGCCCACCTTGGCCTCCCAAAGTTCTGGGATTACAGGCGTGAGCTACCGTGCTGAGCCAGCACTCTTTTTGAAATACTAATTTTTAAAAATAGATGAACTGTGCCTTTTTTCTTCTTTTTTTGCATTTTATCACAAGCTCATGGATCTATGCTATACTACAAGCCCATTTCTTTCATCTATTCAGTGGTTTCTGATGACCTAACACTGTTAGGTAAAGGTGCATGTGTTGCCAGTAATTTTCTCACCAAGAATTACTTTAACTTATGTGGTTAAAGGTGTCAATACCTTCCCAGGAAAAGCACTGAGTGGGTTAGTGGAAGGCACACACTTATCAAGCAGCAGTTCTTGAGCAGCAATGCTTGTTGTAAAAGTGCTAATATTTATTTTCCACACTAGAGGACAGTGCTTGAAAGAGTAACAGTCCTTACCTCAAAGGTTAGGCAGCACCAAGACTGGAACAATCAGACCATTATTAGCTTCCCTAACCCACGTGCAGAGCACATAAAGATTTTATTTCTTTGGGAGAAAAAAAGAGAAATAAATATGTTTGCTCTAACATGCGGCAGTAATCAATGATGATGCTGTATTAACTTCCTGGGCACAGAGAAAGAGAAATGCCAGTAAAATTTACTAATTAGAATTGCCAAAGAATGAATGAAAGAAGACATCTTTATAAATGCACATGAAATCCTTTCACAATAAGCTCTTAAAGAAAGAATTTTTGTTGAAGCTGTGACTAAATGCTCAGAAAAATAATCTGATGTTTTGGGTTGATTATCATTAGAATTCAGTGATGAAAAACTTATTTACGTAAACATCTTGTTTTCTCTCATCAGTATAATAGTCATACATGCTGTAGGGTACAAAATACAAGGCCCAAAACATATATGTAATGTTATTTGATGGTTAAGTTTTGCCCTTGGAAGCAGGAGATGGGTGTTGGAGAGGGAGTGGTTAGTGGTGTTTGAAGATGGATTTCAATACTATAGAAACCCCTTTTGGTTTTACCTGCATGAATCTTCAAGCAAGAGTATCACTAACTACATAGACTGTCAAAAGGGAGGCATTGTTTCCTTAAGCCATAATTAAAGACAGTCCCTCGCCTTGACGTTTGCTTGAACAAGGACCATTGGGACCCTGAGGGATTAACTCAGCATTCATACTTTTCAAAAGGGGCTGGTGGGAGTAAGAAAGAGGAGGAATATGAGAGACTAATGAAAGATTTCATTGAAGGGCACCAAATCCAAGACTTCTCATTGTTCCTGGAGCCAGCCCAGGTGATTCACCAATCAGCCAGTGGAAGGGGCTCTGTTTTACTGAACTGAGGTGGGTGTAGTAACCTCTACTTTCCCATTCTCAACATCTGACCCTTTTCTACTTCACTGTTACCCTCATCTTCTGTTTATATTGATTGCCTACAGTGTCACAGAATTGAAAAATACTGGGGAGCCCAGCACACTCCTGGGTACTACAGCAGATTACACCAATTTTAAATCTTCTCCCTGCCCTGAAGGATATATGGATACACTCGGTAATAGAAAAGCTTACCGTCTAGTGGAGAAGATGCCCCGATACCCAATCAACCATCCCCTCTCCTAGCGTGAGAACAGCCCTATCTGAGCAGTACTAGGTATTCACTCCTATTCATTTTCTACCCCTGACTTGAGGACACAGTCCTGGGGACAGTGACCCCAAGATTTCTCTCTTTCTTTCCTTCCTTCCTTCCTTCCTTCCCTCCCTCTCTCTCTCCGTCGCTCCCTCTCTCTCTTTCTTTTCTTTGAGTCTTGCTCTGTTGTCCAGGCTGGAATGCAGTGGCGCTATCTCAGCTCACTGCAAACTCCGCCTCCCAGGTTCACTCCATTCTCTGGGACTACAGGCGCCCGCCACCATGCCAGGCTAATTTTTTTTGTATTTTTAGTAGAGACGGGGTTTCATTATGTTGGCCAGACTGGTCTCAAACTCCTGACCTCGTGATTCACCCACCTCGGCCTCCCAAAGTGCCGTGACCCCAAGATTTCTAACAAAAATCACCACAGTCTGGAATATCGAGAATTTTGTTCAGCCCTCTGTAGCTATGTGACCCTGTACAGCCCTGCCCAAGACAACTAACTACTCTGTACAACACAGTTTCCTCTTTGCAGAATGAAATTACAGATGTAACCACATCACGGGATTAGTGTGTGAGTGGAAAGGAAATAAGGGTGGGAACGACCCTGATGCCCATCACAGAGCTCTTTCTGTTGTGGATCCTTCATGAGCTCATAAAAGTCACTAATTTCAAAAGAACAGGCTTTATTCAGCCTTCATTTGGGATGTACAAAATTTTGGCCCCGGATGGAGACCTGATTATTTACATTCCAAAGGATCTTCAACTTTAAAACCTTAACATAGCATTTTTTTTAAAATGAATTAGCTGGAGTTGTAGAATACTAGATCTGGTTTAGATTTTAGAGCTGTTTTAGGTAGTCTCCTGGTGATCCACCTCCATATATAAATAAGGAAATAGCAATTGGGATGTTTTCCTTGGGCTAAGAGCAATTTTTTGGAAGAGCTAGTCTTAAAACCAAATCTTCTGATTCTCAGCCCTGTTGGTTGGTCAGCTAATAACTGTAAACACGAGATTAGAATCAGACATATATAATGATAAAGTGGCCTAAAACCATCACATTATTCAATGAGATTTGCTTATTAAAGAAATCTACATTGCATACCCATTCAGAAATATATTTATAAGAAATACTGAAGTACAAACAGCAAGAGGAACCAAAAATGTGTGCACAAATGCAACCAACATCAATATGCCATCACCAGCCATCCAGGTTATTTCTAGTCTTATCAAAATCAACATAGCAATAAAATGTCTCCTTGTCCTTTCAACCTCCTTATTAAAATGCATTAAATTTGTTTTTTTCATACATAGAAAGATAAGGTTATTAATTACAGGAACTGCTTATCAGCAAAATGTAAAATAGCAGGAAAGTCATTTGATGGTTTAGCTAAGAAGAAAAAGGAATAATGGGAAGAAAGAAATTCAGATGAAAGAAGTTGAAGGAAATGAATATTAAATTCATATTCATAAATGATTTAATTTTTTAAATTGAAACATTTCCTAGAAAGAAATCACATATTTTAAAAGAAAGTCGATTATGAAGTATACAAGTATATATATATGTATGTAAATTGCCATTTAAAATTAAAAGAATAAACTGTTGTATATTTTACTAGACCTTTTACAAATAAAAAGGATCACCTCACCTCCAGAATGGTCCTGGCAGGATTGCAGGTAGCTGGGGTCAGCAGAGGTGTGAGGGAGAGGTGATCTCGGCATCTACTCCAAACGCCTCGCTTTGATTCCTATATAACCTTGTTGATAACTGGAGTTTTGGGGAATCTTAGGTTTTAAGAACTTCATTTCACAGGTACTTAAAATTAATATCCTGCAAATAGAAGGTAGAGGATTACCTTCTCTTCAGAAAGCAGAAAAATGGAGCAGTCAATTCTATCAACATAGCCTGTATTTGGAGCACGGCTTTTAAACAGACAGCCAGGTCTCTGCTGTTGTGTTGTCTTGCCTGTCAATCAAAGTGTTTGGGAAATGGATTCTCAACGTTATGTGTCAGTCAATAACCTCAGTCTTGAAACAGAAGACCATAACAAGACTGGATTTATTTGCATTTAATTTCAATGAATTTACATGTCATGGTCACAAGTTTTAATTTCCTTCACAAAATAAATTAGTGAAAGTCACTTGTACAGTATTGATAGGAACAAAGATTTTCAGCCTAATTTATCTGAAATATACATATAAATTTAGTAAATTTAAACACAACCCCTAATTTAGAGGAACAGATAGACACTAGGTATTTGGGAGCCATTATTCTTTTTCATTTTAGTAGGAAGTAATTTTTTTCTTTTTTCTTTTTTTTTGAAATGGAGTCTTGCTCTGTCGCCTAGGCTGGAGCGGTGCAGTGGTGTGATCTCTGCTCACTGCAACTTCCACCTCCCAGGTTCAAGCAATTCTCGTGCCTCAGCCTCCCGAGTAGCTGTGATTACAAGCATCTGCCACCACGCCCAGCTCATTTGTGTTTTTAGTAGAGACAGTGTTTCAACATGTTGGCCAGGCTGGTGTCAAACTCCTGACCTCAAGTGATCTGCCCACCTCCGCCTCCCAAAGCGCTGGGATTACAGGTGTGAGCCACTGCGCCACTTTTCCTCAAGTACAAAGTAATATATTTAATATTTGGTGTTGATGAAGGAGGAGTTTAAATTCACAAAGCCTTATGGGGAAGCAGCAGCTTTTGTAGAATATAATATTCTGTTTATATTACCTATCAATCATCTATCTACCTATCTTCTATTTATTGAGTAGTTTTCCAAAACCTTTTCAGCTATAGAACACTTAAAAAAAAAAAAAACTCATCTGAAAAAGTCATATTAAAAACAAAGGTGTTCTGGCTGTGTTTGGGGTGAAGCCCGTGCCCAGGCCCACTCTGCTGCATCCTCATTTGTGGGTTGAAAGGAGAGACGTGTGTTTCTGGGAAAGGGGCAGTACTGGCTGAAGGAATTGCTGTGACCCCATGGCAGCTGCCCTTGGCAATCTCAGGAGGAAATGCCTGCAAACCAGGCTGTGTAACAATAGCCAAACAGGCTGCTTTAGCCTTTGCCAACACCAGAAATAAAGAATTCATTATGACTAATTAATTAATAAAATATGCAATGCTTCCTTTAAGGCTGTCCTGACTGGAAACACTGTAACAAAATTAGCAAACACTCTAAACCATGAGTCCCATGTGTTAAACATCCCCCAAATCATATCTGATAAATAAAAAAGCATACCTTCTAAGCCAGTGAAGGGTCGAATATTTCAGGAAGGATCCATTGTTAACCAGTTGAAAATACCTCGATTATATTCCATACTGCAGTGGGAAGGAGTGATTTACTCTTACTTTATTGGCTTGCATTTTAATTTGAATCTATTTTTAAAAACCTACTTTGGTTGTGGTTCAATACTTGCATAGTTGGCCAAGTGATGTTTAATCATGCATTTGAGTCGGTTGGGGACTGCAAGCTCTCAGAGGACGGGACTCAGCTGCTTAACTTCAATCCTCTGCCAACTGCTCTATGTTGTCAGGTGCCTAGGGATGGCCTTGCAGCCAGAGCTTTTTCTGTGGCTTCCTTTTCCTCTTCATTCTATCTCTAGTCCCCATTCAGACTTTTTAATAAGAGCAAACTACTTCCCTCGGTAGAAAGATTCCATCTGCAGAATTTTCCTGTTGAGCATATGTCACGCATAACCAAAAATTGTATCAAATGAAGAGGATGTTTGACTTCAGCCAAAACCATTCTAAGAGACTTTGAAGTTATGGCGGCTCCACTAGTTGTACTCCACTAGAAAAGTTTTTTTTTTTTTTTAATGACACATTGAACCCTAAAACTAGCTCATCAGATCATTCAAATAGCCTGGCTGATTAGACGTTACAGTCCCAGTGACAACATTTTATAGTAAATGTCAGAAACAGAAAAGATAGGTGGACAGATGAGTTACGATTCTCTATGACAAATGGAACGATGAGGTTGAGTATCTTCTTAAACATGAGCTCAACTTTCCTCTGAAACCTTTGCAGATTACATTTGATTGCTGTCTAGATCAGAAAGGATGATGTTACCAAAGATCCATTCTTTAATTGCTGCTTCAAGCTAGGGAGTCCTTGTGCTTTCAAAAATCCCTTCCAGTTTCCAGGGAAAAGGATCATTCTTTGAACTTTACATGTCTCTTAGTAAATTTGAATCCATGATTTGGTCCTAGACATGATCGCAGTTTTCAGTTCTTGGGCAATCAAATCAACCCAAAATAAATTTCTCTTCTTACATGTATGTATTGGGAAGGATGGAGTAACAGATGGGGGAAGGCTACTGAAATAGAATATCGCTTAATCTCAGATATCAGGGTCCTTAAAGCTTCAAATGAGCACTTACTTGGAATAATTGGTAATCCATTTACTCATTCACTAATTCATTCCATAGACGTTTACTGTGTGCTTGAGATCTACCAGGCACTGGGCCAGGTTTGGGTAACAATGAACACAACGCATCTCCTTTCCTCAAGGTTAGTGCTACAGACACAGAGATAAACAATAAGGACTGATCATGTACAGGCAACAAGGCACAGGATCCTGAGGGGGAACAGAGAAGGGAGACCTAAAGCAGTCTTGGAGGGGAGGGTGGCATTGAGATGAGCCAGCCTGGGGAAGGTGGGTGTGAGAGAATGGCAAAAGGTAAGAAGGGAAAGCAAATCAAGCACCAGGTTTTGAAGGGCTTTGTGCATCAAATAAGTTTATCTGATCTTGATCTGCTTTTGCCTTTCTCAGACTTTGATATCCTGGTGGCCATATTGCAAAACCACAGGATAAACAAGAAATATCTTCCTGGAGCATTGTTTTTGCTAAGTGTTGAGTAATTTAAAATATTTATTACTAAAGAAGTAGAGTGCAAAATCTGCATACATTTGTAAGATAAATTATAAAACTCCTAAGATATTTTGTACTTGTGACAGGGAACTTCAGATCCCAGGCCTGCTCTCTCCTTTGCCATTGGGGAAATGCTTGTGGAAAAGTTTGCAAAGCAGATCGTAATGGGGAGCTACTTAAGAGTTTTAAGGAGACCAATGACAGGAGCCAGTTTGCAAGTTAGAAAGACTTCAGACTGCCAGGCAGATAACGATTTAGAGAAGAGTGAGAGTGGAAGCAGGAAGAGCTGCTTCAGGAGGCTCTGCGTGGTGGCTCATGCCTGTAATCCCAGCAGTTTGGGAGGCCGAGGTGAGTGGATCACCTGAGGTCAGAAGTTCGAGACCAATGAATAACCTGAGGTCAGGAGTTCGAGACCAGCCTGGCCAACATGGTGAAACCCCATCTATACTAAAAATATATATAAAAAAATTAGCCGGGCATGGTAGTGGGCGCCTGTAATCCCAGCTACTCAGGAGGCTGAGGCAGAAGAATTGCTTGAACCCAGGAGATGGAGGTTGCAGTGAGCCAACATGGTCCCACTGCACTCCAGCCCGGGTCTCAACAAAAAAAAAGAGAAGAGCTGCTTAGAGGCTATTGTAGTCACAGATATGAGAAATATACTGGCTCTAACTAGGGTGGCAGCAGCAGGGATTTAAAAAAGTGATTTGCAAGACATTAAGGCAATAGCATCAATGAGACAGTTTTTGATTCATTCATGTAGTTAATAAACTTTTACCGGGTTTATAAGTAACAATGCCTATGTTCCAGGTATTGTTCTAGGTTCACAGCAGGGAAAAACACAGAAAAGAACCCTACCTTCTTGGGGCTTATATTCTAGAGGAAAGAGGCAGATGAAACAAAGTAAATAAGCAGTTAACCCCATAGCATAAATCAGTGATAAATGTCCCAGTGGAAATGAATTGGTCAATGTGATGATTCCCTGGGGAGCAGATAAGGTGGTCAGAAATGGGATTTGAAGAGTGAAAAGAGAAGAAGGCAAACATGATGAGTGAATGACAGTGTGCTATACTGAGACATGGAACATAAGAAGAAAGGAATATTTGAGAGGGAATGAATGATACTGAGTTCAGTTTGGGAGATCCAGGAGAATATACCCATAAGAGAATTGCCTTGGAATCTGTGCTTAAAATATAAAGAGATAGATAGATGATAGATAGATGATAGATAGATAGATAGATAGATAGATAGATAGGTATAAAAAACATACAT\"\n        ],\n        \"semantic_type\": \"\",\n        \"description\": \"\"\n      }\n    },\n    {\n      \"column\": \"SE_presence\",\n      \"properties\": {\n        \"dtype\": \"number\",\n        \"std\": 0,\n        \"min\": 0,\n        \"max\": 1,\n        \"num_unique_values\": 2,\n        \"samples\": [\n          0,\n          1\n        ],\n        \"semantic_type\": \"\",\n        \"description\": \"\"\n      }\n    },\n    {\n      \"column\": \"tl\",\n      \"properties\": {\n        \"dtype\": \"number\",\n        \"std\": 1050,\n        \"min\": 516,\n        \"max\": 4098,\n        \"num_unique_values\": 1227,\n        \"samples\": [\n          2983,\n          3877\n        ],\n        \"semantic_type\": \"\",\n        \"description\": \"\"\n      }\n    }\n  ]\n}"
            }
          },
          "metadata": {},
          "execution_count": 17
        }
      ]
    },
    {
      "cell_type": "code",
      "execution_count": 18,
      "metadata": {
        "colab": {
          "base_uri": "https://localhost:8080/",
          "height": 499
        },
        "outputId": "a71f284c-4e01-4882-bf42-63274c1aa05e",
        "id": "aqKj7qfcGW5B"
      },
      "outputs": [
        {
          "output_type": "stream",
          "name": "stderr",
          "text": [
            "<ipython-input-18-a1d577796d8e>:2: UserWarning: Boolean Series key will be reindexed to match DataFrame index.\n",
            "  for i in data_to_save[data_to_save['SE_presence']==1][data_to_save.tl>=500]['tl']:\n",
            "<ipython-input-18-a1d577796d8e>:7: UserWarning: Boolean Series key will be reindexed to match DataFrame index.\n",
            "  for i in data_to_save[data_to_save['SE_presence']==0][data_to_save.tl>=500]['tl']:\n"
          ]
        },
        {
          "output_type": "display_data",
          "data": {
            "text/plain": [
              "<Figure size 640x480 with 1 Axes>"
            ],
            "image/png": "[encoded data removed]"
          },
          "metadata": {}
        }
      ],
      "source": [
        "SE_tokens = []\n",
        "for i in data_to_save[data_to_save['SE_presence']==1][data_to_save.tl>=500]['tl']:\n",
        "  SE_tokens.append(i)\n",
        "SE_tokens = np.array(SE_tokens)\n",
        "\n",
        "TE_tokens = []\n",
        "for i in data_to_save[data_to_save['SE_presence']==0][data_to_save.tl>=500]['tl']:\n",
        "  TE_tokens.append(i)\n",
        "TE_tokens = np.array(TE_tokens)\n",
        "\n",
        "bins = np.linspace(500, 4200, 50)\n",
        "plt.hist([TE_tokens, SE_tokens], bins, label=['TE', 'SE'], density = True)\n",
        "plt.legend(loc='upper left')\n",
        "plt.show()"
      ]
    },
    {
      "cell_type": "code",
      "execution_count": null,
      "metadata": {
        "id": "WScE2fO0GW5B"
      },
      "outputs": [],
      "source": [
        "data_to_save.to_csv('/content/drive/MyDrive/neural_networks/data/MM1S/MM1S.csv')"
      ]
    },
    {
      "cell_type": "markdown",
      "source": [
        "##Integrative"
      ],
      "metadata": {
        "id": "wYWgM8zEqcOX"
      }
    },
    {
      "cell_type": "code",
      "source": [
        "data1 = pd.read_csv('/content/drive/MyDrive/SE_annotation_project/H2171/data/H2171.csv').sample(frac=1)[:800]\n",
        "data2 = pd.read_csv('/content/drive/MyDrive/SE_annotation_project/HEK293/data/HEK293.csv').sample(frac=1)[:800]\n",
        "data3 = pd.read_csv('/content/drive/MyDrive/neural_networks/data/HeLa/HeLa.csv').sample(frac=1)[:800]\n",
        "data4 = pd.read_csv('/content/drive/MyDrive/neural_networks/data/MM1S/MM1S.csv').sample(frac=1)[:800]\n",
        "data5 = pd.read_csv('/content/drive/MyDrive/SE_annotation_project/Jurkat/data/Jurkat.csv').sample(frac=1)[:800]\n",
        "data6 = pd.read_csv('/content/drive/MyDrive/SE_annotation_project/K562/data/K562.csv').sample(frac=1)[:800]\n",
        "data7 = pd.read_csv('/content/drive/MyDrive/SE_annotation_project/u87/data/u87.csv').sample(frac=1)[:800]"
      ],
      "metadata": {
        "id": "yZ40R-X5q5Qp"
      },
      "execution_count": null,
      "outputs": []
    },
    {
      "cell_type": "code",
      "source": [
        "data = pd.concat([data1, data2, data3, data4, data5, data6, data7]).sample(frac=1)"
      ],
      "metadata": {
        "id": "ggYUUh8YrVk6"
      },
      "execution_count": null,
      "outputs": []
    },
    {
      "cell_type": "code",
      "source": [
        "data = data[:2500]"
      ],
      "metadata": {
        "id": "L2DdtnZDrY8x"
      },
      "execution_count": null,
      "outputs": []
    },
    {
      "cell_type": "code",
      "source": [
        "data.to_csv('/content/drive/MyDrive/neural_networks/data/integrative/integrative.csv')"
      ],
      "metadata": {
        "id": "87gWY8MI2vmy"
      },
      "execution_count": null,
      "outputs": []
    },
    {
      "cell_type": "code",
      "source": [
        "integrative_tl = data.copy()\n",
        "tokens = []\n",
        "for i in integrative_tl['sequence']:\n",
        "  tokens.append(len(tokenizer.tokenize(i)))\n",
        "tokens = np.array(tokens)\n",
        "\n",
        "trainintegrative\n",
        "integrative_tl_SE = integrative_tl[integrative_tl.SE_presence == 1]\n",
        "integrative_tl_TE = integrative_tl[integrative_tl.SE_presence == 0]"
      ],
      "metadata": {
        "id": "AEPGTU614r_a"
      },
      "execution_count": null,
      "outputs": []
    },
    {
      "cell_type": "code",
      "source": [
        "SE_tokens = []\n",
        "for i in integrative_tl_SE.tl:\n",
        "  SE_tokens.append(i)\n",
        "SE_tokens = np.array(SE_tokens)\n",
        "\n",
        "TE_tokens = []\n",
        "for i in integrative_tl_TE.tl:\n",
        "  TE_tokens.append(i)\n",
        "TE_tokens = np.array(TE_tokens)\n",
        "\n",
        "bins = np.linspace(500, 4200, 50)\n",
        "plt.hist([TE_tokens, SE_tokens], bins, label=['TE', 'SE'], density = True)\n",
        "plt.legend(loc='upper left')\n",
        "plt.show()"
      ],
      "metadata": {
        "colab": {
          "base_uri": "https://localhost:8080/",
          "height": 430
        },
        "id": "cgHNnTPq4yJa",
        "outputId": "77de2d89-2708-424b-8574-442c3d7f734a"
      },
      "execution_count": null,
      "outputs": [
        {
          "output_type": "display_data",
          "data": {
            "text/plain": [
              "<Figure size 640x480 with 1 Axes>"
            ],
            "image/png": "[encoded data removed]"
          },
          "metadata": {}
        }
      ]
    }
  ],
  "metadata": {
    "accelerator": "GPU",
    "colab": {
      "collapsed_sections": [
        "i19fIeilyxJR",
        "IOiF-GfAKcYV",
        "Rn68s8Chh3ES"
      ],
      "machine_shape": "hm",
      "provenance": [],
      "gpuType": "T4",
      "toc_visible": true
    },
    "kernelspec": {
      "display_name": "Python 3",
      "name": "python3"
    },
    "language_info": {
      "name": "python"
    },
    "widgets": {
      "application/vnd.jupyter.widget-state+json": {
        "98a2212919e844f686e2e403efafb14c": {
          "model_module": "@jupyter-widgets/controls",
          "model_name": "HBoxModel",
          "model_module_version": "1.5.0",
          "state": {
            "_dom_classes": [],
            "_model_module": "@jupyter-widgets/controls",
            "_model_module_version": "1.5.0",
            "_model_name": "HBoxModel",
            "_view_count": null,
            "_view_module": "@jupyter-widgets/controls",
            "_view_module_version": "1.5.0",
            "_view_name": "HBoxView",
            "box_style": "",
            "children": [
              "IPY_MODEL_4e695f2ab8d0431f83667412bc0c2c90",
              "IPY_MODEL_d957361346964d7eaac834cb96458a67",
              "IPY_MODEL_8382fc401bd94607bd575c0c739b51b0"
            ],
            "layout": "IPY_MODEL_f505cebed78f4ac2be326a2bb74839b6"
          }
        },
        "4e695f2ab8d0431f83667412bc0c2c90": {
          "model_module": "@jupyter-widgets/controls",
          "model_name": "HTMLModel",
          "model_module_version": "1.5.0",
          "state": {
            "_dom_classes": [],
            "_model_module": "@jupyter-widgets/controls",
            "_model_module_version": "1.5.0",
            "_model_name": "HTMLModel",
            "_view_count": null,
            "_view_module": "@jupyter-widgets/controls",
            "_view_module_version": "1.5.0",
            "_view_name": "HTMLView",
            "description": "",
            "description_tooltip": null,
            "layout": "IPY_MODEL_9d91e290480a488b84ad8aa2d96101f6",
            "placeholder": "​",
            "style": "IPY_MODEL_26b3435bce4942ed98e314ffbd638fa3",
            "value": "tokenizer_config.json: 100%"
          }
        },
        "d957361346964d7eaac834cb96458a67": {
          "model_module": "@jupyter-widgets/controls",
          "model_name": "FloatProgressModel",
          "model_module_version": "1.5.0",
          "state": {
            "_dom_classes": [],
            "_model_module": "@jupyter-widgets/controls",
            "_model_module_version": "1.5.0",
            "_model_name": "FloatProgressModel",
            "_view_count": null,
            "_view_module": "@jupyter-widgets/controls",
            "_view_module_version": "1.5.0",
            "_view_name": "ProgressView",
            "bar_style": "success",
            "description": "",
            "description_tooltip": null,
            "layout": "IPY_MODEL_08c1e05dfbb3456eb73894dcf779ed14",
            "max": 46,
            "min": 0,
            "orientation": "horizontal",
            "style": "IPY_MODEL_e3b5fc699475446eb1e192051dcfe5a2",
            "value": 46
          }
        },
        "8382fc401bd94607bd575c0c739b51b0": {
          "model_module": "@jupyter-widgets/controls",
          "model_name": "HTMLModel",
          "model_module_version": "1.5.0",
          "state": {
            "_dom_classes": [],
            "_model_module": "@jupyter-widgets/controls",
            "_model_module_version": "1.5.0",
            "_model_name": "HTMLModel",
            "_view_count": null,
            "_view_module": "@jupyter-widgets/controls",
            "_view_module_version": "1.5.0",
            "_view_name": "HTMLView",
            "description": "",
            "description_tooltip": null,
            "layout": "IPY_MODEL_06f03cc3e1a445faaa60a8ea1a81bc35",
            "placeholder": "​",
            "style": "IPY_MODEL_f9f0677fada4476b9b66e19e63fec5d5",
            "value": " 46.0/46.0 [00:00&lt;00:00, 2.75kB/s]"
          }
        },
        "f505cebed78f4ac2be326a2bb74839b6": {
          "model_module": "@jupyter-widgets/base",
          "model_name": "LayoutModel",
          "model_module_version": "1.2.0",
          "state": {
            "_model_module": "@jupyter-widgets/base",
            "_model_module_version": "1.2.0",
            "_model_name": "LayoutModel",
            "_view_count": null,
            "_view_module": "@jupyter-widgets/base",
            "_view_module_version": "1.2.0",
            "_view_name": "LayoutView",
            "align_content": null,
            "align_items": null,
            "align_self": null,
            "border": null,
            "bottom": null,
            "display": null,
            "flex": null,
            "flex_flow": null,
            "grid_area": null,
            "grid_auto_columns": null,
            "grid_auto_flow": null,
            "grid_auto_rows": null,
            "grid_column": null,
            "grid_gap": null,
            "grid_row": null,
            "grid_template_areas": null,
            "grid_template_columns": null,
            "grid_template_rows": null,
            "height": null,
            "justify_content": null,
            "justify_items": null,
            "left": null,
            "margin": null,
            "max_height": null,
            "max_width": null,
            "min_height": null,
            "min_width": null,
            "object_fit": null,
            "object_position": null,
            "order": null,
            "overflow": null,
            "overflow_x": null,
            "overflow_y": null,
            "padding": null,
            "right": null,
            "top": null,
            "visibility": null,
            "width": null
          }
        },
        "9d91e290480a488b84ad8aa2d96101f6": {
          "model_module": "@jupyter-widgets/base",
          "model_name": "LayoutModel",
          "model_module_version": "1.2.0",
          "state": {
            "_model_module": "@jupyter-widgets/base",
            "_model_module_version": "1.2.0",
            "_model_name": "LayoutModel",
            "_view_count": null,
            "_view_module": "@jupyter-widgets/base",
            "_view_module_version": "1.2.0",
            "_view_name": "LayoutView",
            "align_content": null,
            "align_items": null,
            "align_self": null,
            "border": null,
            "bottom": null,
            "display": null,
            "flex": null,
            "flex_flow": null,
            "grid_area": null,
            "grid_auto_columns": null,
            "grid_auto_flow": null,
            "grid_auto_rows": null,
            "grid_column": null,
            "grid_gap": null,
            "grid_row": null,
            "grid_template_areas": null,
            "grid_template_columns": null,
            "grid_template_rows": null,
            "height": null,
            "justify_content": null,
            "justify_items": null,
            "left": null,
            "margin": null,
            "max_height": null,
            "max_width": null,
            "min_height": null,
            "min_width": null,
            "object_fit": null,
            "object_position": null,
            "order": null,
            "overflow": null,
            "overflow_x": null,
            "overflow_y": null,
            "padding": null,
            "right": null,
            "top": null,
            "visibility": null,
            "width": null
          }
        },
        "26b3435bce4942ed98e314ffbd638fa3": {
          "model_module": "@jupyter-widgets/controls",
          "model_name": "DescriptionStyleModel",
          "model_module_version": "1.5.0",
          "state": {
            "_model_module": "@jupyter-widgets/controls",
            "_model_module_version": "1.5.0",
            "_model_name": "DescriptionStyleModel",
            "_view_count": null,
            "_view_module": "@jupyter-widgets/base",
            "_view_module_version": "1.2.0",
            "_view_name": "StyleView",
            "description_width": ""
          }
        },
        "08c1e05dfbb3456eb73894dcf779ed14": {
          "model_module": "@jupyter-widgets/base",
          "model_name": "LayoutModel",
          "model_module_version": "1.2.0",
          "state": {
            "_model_module": "@jupyter-widgets/base",
            "_model_module_version": "1.2.0",
            "_model_name": "LayoutModel",
            "_view_count": null,
            "_view_module": "@jupyter-widgets/base",
            "_view_module_version": "1.2.0",
            "_view_name": "LayoutView",
            "align_content": null,
            "align_items": null,
            "align_self": null,
            "border": null,
            "bottom": null,
            "display": null,
            "flex": null,
            "flex_flow": null,
            "grid_area": null,
            "grid_auto_columns": null,
            "grid_auto_flow": null,
            "grid_auto_rows": null,
            "grid_column": null,
            "grid_gap": null,
            "grid_row": null,
            "grid_template_areas": null,
            "grid_template_columns": null,
            "grid_template_rows": null,
            "height": null,
            "justify_content": null,
            "justify_items": null,
            "left": null,
            "margin": null,
            "max_height": null,
            "max_width": null,
            "min_height": null,
            "min_width": null,
            "object_fit": null,
            "object_position": null,
            "order": null,
            "overflow": null,
            "overflow_x": null,
            "overflow_y": null,
            "padding": null,
            "right": null,
            "top": null,
            "visibility": null,
            "width": null
          }
        },
        "e3b5fc699475446eb1e192051dcfe5a2": {
          "model_module": "@jupyter-widgets/controls",
          "model_name": "ProgressStyleModel",
          "model_module_version": "1.5.0",
          "state": {
            "_model_module": "@jupyter-widgets/controls",
            "_model_module_version": "1.5.0",
            "_model_name": "ProgressStyleModel",
            "_view_count": null,
            "_view_module": "@jupyter-widgets/base",
            "_view_module_version": "1.2.0",
            "_view_name": "StyleView",
            "bar_color": null,
            "description_width": ""
          }
        },
        "06f03cc3e1a445faaa60a8ea1a81bc35": {
          "model_module": "@jupyter-widgets/base",
          "model_name": "LayoutModel",
          "model_module_version": "1.2.0",
          "state": {
            "_model_module": "@jupyter-widgets/base",
            "_model_module_version": "1.2.0",
            "_model_name": "LayoutModel",
            "_view_count": null,
            "_view_module": "@jupyter-widgets/base",
            "_view_module_version": "1.2.0",
            "_view_name": "LayoutView",
            "align_content": null,
            "align_items": null,
            "align_self": null,
            "border": null,
            "bottom": null,
            "display": null,
            "flex": null,
            "flex_flow": null,
            "grid_area": null,
            "grid_auto_columns": null,
            "grid_auto_flow": null,
            "grid_auto_rows": null,
            "grid_column": null,
            "grid_gap": null,
            "grid_row": null,
            "grid_template_areas": null,
            "grid_template_columns": null,
            "grid_template_rows": null,
            "height": null,
            "justify_content": null,
            "justify_items": null,
            "left": null,
            "margin": null,
            "max_height": null,
            "max_width": null,
            "min_height": null,
            "min_width": null,
            "object_fit": null,
            "object_position": null,
            "order": null,
            "overflow": null,
            "overflow_x": null,
            "overflow_y": null,
            "padding": null,
            "right": null,
            "top": null,
            "visibility": null,
            "width": null
          }
        },
        "f9f0677fada4476b9b66e19e63fec5d5": {
          "model_module": "@jupyter-widgets/controls",
          "model_name": "DescriptionStyleModel",
          "model_module_version": "1.5.0",
          "state": {
            "_model_module": "@jupyter-widgets/controls",
            "_model_module_version": "1.5.0",
            "_model_name": "DescriptionStyleModel",
            "_view_count": null,
            "_view_module": "@jupyter-widgets/base",
            "_view_module_version": "1.2.0",
            "_view_name": "StyleView",
            "description_width": ""
          }
        },
        "0f3a60077ff546849721c1eb33e010e1": {
          "model_module": "@jupyter-widgets/controls",
          "model_name": "HBoxModel",
          "model_module_version": "1.5.0",
          "state": {
            "_dom_classes": [],
            "_model_module": "@jupyter-widgets/controls",
            "_model_module_version": "1.5.0",
            "_model_name": "HBoxModel",
            "_view_count": null,
            "_view_module": "@jupyter-widgets/controls",
            "_view_module_version": "1.5.0",
            "_view_name": "HBoxView",
            "box_style": "",
            "children": [
              "IPY_MODEL_98e594a1539b46be8b06b25fb3f492a9",
              "IPY_MODEL_be54a1d8d7054e6fb58e4268844981f4",
              "IPY_MODEL_32aa91564bed4defa18ee1f296925803"
            ],
            "layout": "IPY_MODEL_7b19cdc6d3f14e49904a2fed71e03b75"
          }
        },
        "98e594a1539b46be8b06b25fb3f492a9": {
          "model_module": "@jupyter-widgets/controls",
          "model_name": "HTMLModel",
          "model_module_version": "1.5.0",
          "state": {
            "_dom_classes": [],
            "_model_module": "@jupyter-widgets/controls",
            "_model_module_version": "1.5.0",
            "_model_name": "HTMLModel",
            "_view_count": null,
            "_view_module": "@jupyter-widgets/controls",
            "_view_module_version": "1.5.0",
            "_view_name": "HTMLView",
            "description": "",
            "description_tooltip": null,
            "layout": "IPY_MODEL_59b07939988d4431bce3a4184a7c8f97",
            "placeholder": "​",
            "style": "IPY_MODEL_6f57271022544db38a97ee1b8376de3e",
            "value": "tokenizer.json: 100%"
          }
        },
        "be54a1d8d7054e6fb58e4268844981f4": {
          "model_module": "@jupyter-widgets/controls",
          "model_name": "FloatProgressModel",
          "model_module_version": "1.5.0",
          "state": {
            "_dom_classes": [],
            "_model_module": "@jupyter-widgets/controls",
            "_model_module_version": "1.5.0",
            "_model_name": "FloatProgressModel",
            "_view_count": null,
            "_view_module": "@jupyter-widgets/controls",
            "_view_module_version": "1.5.0",
            "_view_name": "ProgressView",
            "bar_style": "success",
            "description": "",
            "description_tooltip": null,
            "layout": "IPY_MODEL_966f066908bd4b7d9d14a6e864773646",
            "max": 1476210,
            "min": 0,
            "orientation": "horizontal",
            "style": "IPY_MODEL_4a1f4c6495cc4b4f8040c9d6e45fd394",
            "value": 1476210
          }
        },
        "32aa91564bed4defa18ee1f296925803": {
          "model_module": "@jupyter-widgets/controls",
          "model_name": "HTMLModel",
          "model_module_version": "1.5.0",
          "state": {
            "_dom_classes": [],
            "_model_module": "@jupyter-widgets/controls",
            "_model_module_version": "1.5.0",
            "_model_name": "HTMLModel",
            "_view_count": null,
            "_view_module": "@jupyter-widgets/controls",
            "_view_module_version": "1.5.0",
            "_view_name": "HTMLView",
            "description": "",
            "description_tooltip": null,
            "layout": "IPY_MODEL_a5976c5e85a044939a8efc537b4cd47f",
            "placeholder": "​",
            "style": "IPY_MODEL_1ba6418b517c4aef91e0ceff14deab07",
            "value": " 1.48M/1.48M [00:01&lt;00:00, 1.38MB/s]"
          }
        },
        "7b19cdc6d3f14e49904a2fed71e03b75": {
          "model_module": "@jupyter-widgets/base",
          "model_name": "LayoutModel",
          "model_module_version": "1.2.0",
          "state": {
            "_model_module": "@jupyter-widgets/base",
            "_model_module_version": "1.2.0",
            "_model_name": "LayoutModel",
            "_view_count": null,
            "_view_module": "@jupyter-widgets/base",
            "_view_module_version": "1.2.0",
            "_view_name": "LayoutView",
            "align_content": null,
            "align_items": null,
            "align_self": null,
            "border": null,
            "bottom": null,
            "display": null,
            "flex": null,
            "flex_flow": null,
            "grid_area": null,
            "grid_auto_columns": null,
            "grid_auto_flow": null,
            "grid_auto_rows": null,
            "grid_column": null,
            "grid_gap": null,
            "grid_row": null,
            "grid_template_areas": null,
            "grid_template_columns": null,
            "grid_template_rows": null,
            "height": null,
            "justify_content": null,
            "justify_items": null,
            "left": null,
            "margin": null,
            "max_height": null,
            "max_width": null,
            "min_height": null,
            "min_width": null,
            "object_fit": null,
            "object_position": null,
            "order": null,
            "overflow": null,
            "overflow_x": null,
            "overflow_y": null,
            "padding": null,
            "right": null,
            "top": null,
            "visibility": null,
            "width": null
          }
        },
        "59b07939988d4431bce3a4184a7c8f97": {
          "model_module": "@jupyter-widgets/base",
          "model_name": "LayoutModel",
          "model_module_version": "1.2.0",
          "state": {
            "_model_module": "@jupyter-widgets/base",
            "_model_module_version": "1.2.0",
            "_model_name": "LayoutModel",
            "_view_count": null,
            "_view_module": "@jupyter-widgets/base",
            "_view_module_version": "1.2.0",
            "_view_name": "LayoutView",
            "align_content": null,
            "align_items": null,
            "align_self": null,
            "border": null,
            "bottom": null,
            "display": null,
            "flex": null,
            "flex_flow": null,
            "grid_area": null,
            "grid_auto_columns": null,
            "grid_auto_flow": null,
            "grid_auto_rows": null,
            "grid_column": null,
            "grid_gap": null,
            "grid_row": null,
            "grid_template_areas": null,
            "grid_template_columns": null,
            "grid_template_rows": null,
            "height": null,
            "justify_content": null,
            "justify_items": null,
            "left": null,
            "margin": null,
            "max_height": null,
            "max_width": null,
            "min_height": null,
            "min_width": null,
            "object_fit": null,
            "object_position": null,
            "order": null,
            "overflow": null,
            "overflow_x": null,
            "overflow_y": null,
            "padding": null,
            "right": null,
            "top": null,
            "visibility": null,
            "width": null
          }
        },
        "6f57271022544db38a97ee1b8376de3e": {
          "model_module": "@jupyter-widgets/controls",
          "model_name": "DescriptionStyleModel",
          "model_module_version": "1.5.0",
          "state": {
            "_model_module": "@jupyter-widgets/controls",
            "_model_module_version": "1.5.0",
            "_model_name": "DescriptionStyleModel",
            "_view_count": null,
            "_view_module": "@jupyter-widgets/base",
            "_view_module_version": "1.2.0",
            "_view_name": "StyleView",
            "description_width": ""
          }
        },
        "966f066908bd4b7d9d14a6e864773646": {
          "model_module": "@jupyter-widgets/base",
          "model_name": "LayoutModel",
          "model_module_version": "1.2.0",
          "state": {
            "_model_module": "@jupyter-widgets/base",
            "_model_module_version": "1.2.0",
            "_model_name": "LayoutModel",
            "_view_count": null,
            "_view_module": "@jupyter-widgets/base",
            "_view_module_version": "1.2.0",
            "_view_name": "LayoutView",
            "align_content": null,
            "align_items": null,
            "align_self": null,
            "border": null,
            "bottom": null,
            "display": null,
            "flex": null,
            "flex_flow": null,
            "grid_area": null,
            "grid_auto_columns": null,
            "grid_auto_flow": null,
            "grid_auto_rows": null,
            "grid_column": null,
            "grid_gap": null,
            "grid_row": null,
            "grid_template_areas": null,
            "grid_template_columns": null,
            "grid_template_rows": null,
            "height": null,
            "justify_content": null,
            "justify_items": null,
            "left": null,
            "margin": null,
            "max_height": null,
            "max_width": null,
            "min_height": null,
            "min_width": null,
            "object_fit": null,
            "object_position": null,
            "order": null,
            "overflow": null,
            "overflow_x": null,
            "overflow_y": null,
            "padding": null,
            "right": null,
            "top": null,
            "visibility": null,
            "width": null
          }
        },
        "4a1f4c6495cc4b4f8040c9d6e45fd394": {
          "model_module": "@jupyter-widgets/controls",
          "model_name": "ProgressStyleModel",
          "model_module_version": "1.5.0",
          "state": {
            "_model_module": "@jupyter-widgets/controls",
            "_model_module_version": "1.5.0",
            "_model_name": "ProgressStyleModel",
            "_view_count": null,
            "_view_module": "@jupyter-widgets/base",
            "_view_module_version": "1.2.0",
            "_view_name": "StyleView",
            "bar_color": null,
            "description_width": ""
          }
        },
        "a5976c5e85a044939a8efc537b4cd47f": {
          "model_module": "@jupyter-widgets/base",
          "model_name": "LayoutModel",
          "model_module_version": "1.2.0",
          "state": {
            "_model_module": "@jupyter-widgets/base",
            "_model_module_version": "1.2.0",
            "_model_name": "LayoutModel",
            "_view_count": null,
            "_view_module": "@jupyter-widgets/base",
            "_view_module_version": "1.2.0",
            "_view_name": "LayoutView",
            "align_content": null,
            "align_items": null,
            "align_self": null,
            "border": null,
            "bottom": null,
            "display": null,
            "flex": null,
            "flex_flow": null,
            "grid_area": null,
            "grid_auto_columns": null,
            "grid_auto_flow": null,
            "grid_auto_rows": null,
            "grid_column": null,
            "grid_gap": null,
            "grid_row": null,
            "grid_template_areas": null,
            "grid_template_columns": null,
            "grid_template_rows": null,
            "height": null,
            "justify_content": null,
            "justify_items": null,
            "left": null,
            "margin": null,
            "max_height": null,
            "max_width": null,
            "min_height": null,
            "min_width": null,
            "object_fit": null,
            "object_position": null,
            "order": null,
            "overflow": null,
            "overflow_x": null,
            "overflow_y": null,
            "padding": null,
            "right": null,
            "top": null,
            "visibility": null,
            "width": null
          }
        },
        "1ba6418b517c4aef91e0ceff14deab07": {
          "model_module": "@jupyter-widgets/controls",
          "model_name": "DescriptionStyleModel",
          "model_module_version": "1.5.0",
          "state": {
            "_model_module": "@jupyter-widgets/controls",
            "_model_module_version": "1.5.0",
            "_model_name": "DescriptionStyleModel",
            "_view_count": null,
            "_view_module": "@jupyter-widgets/base",
            "_view_module_version": "1.2.0",
            "_view_name": "StyleView",
            "description_width": ""
          }
        },
        "47969090d03b481681d3684c15cd7120": {
          "model_module": "@jupyter-widgets/controls",
          "model_name": "HBoxModel",
          "model_module_version": "1.5.0",
          "state": {
            "_dom_classes": [],
            "_model_module": "@jupyter-widgets/controls",
            "_model_module_version": "1.5.0",
            "_model_name": "HBoxModel",
            "_view_count": null,
            "_view_module": "@jupyter-widgets/controls",
            "_view_module_version": "1.5.0",
            "_view_name": "HBoxView",
            "box_style": "",
            "children": [
              "IPY_MODEL_f9be223b5aae431abd60703ec9e15369",
              "IPY_MODEL_66491e93affb41bdb18aa982bc29e775",
              "IPY_MODEL_a95e8dabc24142008070d99299df4426"
            ],
            "layout": "IPY_MODEL_6837a77df74d4e8b929a1aa294199a72"
          }
        },
        "f9be223b5aae431abd60703ec9e15369": {
          "model_module": "@jupyter-widgets/controls",
          "model_name": "HTMLModel",
          "model_module_version": "1.5.0",
          "state": {
            "_dom_classes": [],
            "_model_module": "@jupyter-widgets/controls",
            "_model_module_version": "1.5.0",
            "_model_name": "HTMLModel",
            "_view_count": null,
            "_view_module": "@jupyter-widgets/controls",
            "_view_module_version": "1.5.0",
            "_view_name": "HTMLView",
            "description": "",
            "description_tooltip": null,
            "layout": "IPY_MODEL_fc85e2f3373e4d01af9e63be48defb48",
            "placeholder": "​",
            "style": "IPY_MODEL_e161c66683f44958a13e00160fd371a3",
            "value": "special_tokens_map.json: 100%"
          }
        },
        "66491e93affb41bdb18aa982bc29e775": {
          "model_module": "@jupyter-widgets/controls",
          "model_name": "FloatProgressModel",
          "model_module_version": "1.5.0",
          "state": {
            "_dom_classes": [],
            "_model_module": "@jupyter-widgets/controls",
            "_model_module_version": "1.5.0",
            "_model_name": "FloatProgressModel",
            "_view_count": null,
            "_view_module": "@jupyter-widgets/controls",
            "_view_module_version": "1.5.0",
            "_view_name": "ProgressView",
            "bar_style": "success",
            "description": "",
            "description_tooltip": null,
            "layout": "IPY_MODEL_3438e2da15194393ade88e0cacdde381",
            "max": 112,
            "min": 0,
            "orientation": "horizontal",
            "style": "IPY_MODEL_4fff7f7a186d4c1daaa7aaefb5b6e5ce",
            "value": 112
          }
        },
        "a95e8dabc24142008070d99299df4426": {
          "model_module": "@jupyter-widgets/controls",
          "model_name": "HTMLModel",
          "model_module_version": "1.5.0",
          "state": {
            "_dom_classes": [],
            "_model_module": "@jupyter-widgets/controls",
            "_model_module_version": "1.5.0",
            "_model_name": "HTMLModel",
            "_view_count": null,
            "_view_module": "@jupyter-widgets/controls",
            "_view_module_version": "1.5.0",
            "_view_name": "HTMLView",
            "description": "",
            "description_tooltip": null,
            "layout": "IPY_MODEL_f554248050f9427a9d91b98a22618169",
            "placeholder": "​",
            "style": "IPY_MODEL_d0820122f8be476d805f630e6e6ebeb1",
            "value": " 112/112 [00:00&lt;00:00, 9.53kB/s]"
          }
        },
        "6837a77df74d4e8b929a1aa294199a72": {
          "model_module": "@jupyter-widgets/base",
          "model_name": "LayoutModel",
          "model_module_version": "1.2.0",
          "state": {
            "_model_module": "@jupyter-widgets/base",
            "_model_module_version": "1.2.0",
            "_model_name": "LayoutModel",
            "_view_count": null,
            "_view_module": "@jupyter-widgets/base",
            "_view_module_version": "1.2.0",
            "_view_name": "LayoutView",
            "align_content": null,
            "align_items": null,
            "align_self": null,
            "border": null,
            "bottom": null,
            "display": null,
            "flex": null,
            "flex_flow": null,
            "grid_area": null,
            "grid_auto_columns": null,
            "grid_auto_flow": null,
            "grid_auto_rows": null,
            "grid_column": null,
            "grid_gap": null,
            "grid_row": null,
            "grid_template_areas": null,
            "grid_template_columns": null,
            "grid_template_rows": null,
            "height": null,
            "justify_content": null,
            "justify_items": null,
            "left": null,
            "margin": null,
            "max_height": null,
            "max_width": null,
            "min_height": null,
            "min_width": null,
            "object_fit": null,
            "object_position": null,
            "order": null,
            "overflow": null,
            "overflow_x": null,
            "overflow_y": null,
            "padding": null,
            "right": null,
            "top": null,
            "visibility": null,
            "width": null
          }
        },
        "fc85e2f3373e4d01af9e63be48defb48": {
          "model_module": "@jupyter-widgets/base",
          "model_name": "LayoutModel",
          "model_module_version": "1.2.0",
          "state": {
            "_model_module": "@jupyter-widgets/base",
            "_model_module_version": "1.2.0",
            "_model_name": "LayoutModel",
            "_view_count": null,
            "_view_module": "@jupyter-widgets/base",
            "_view_module_version": "1.2.0",
            "_view_name": "LayoutView",
            "align_content": null,
            "align_items": null,
            "align_self": null,
            "border": null,
            "bottom": null,
            "display": null,
            "flex": null,
            "flex_flow": null,
            "grid_area": null,
            "grid_auto_columns": null,
            "grid_auto_flow": null,
            "grid_auto_rows": null,
            "grid_column": null,
            "grid_gap": null,
            "grid_row": null,
            "grid_template_areas": null,
            "grid_template_columns": null,
            "grid_template_rows": null,
            "height": null,
            "justify_content": null,
            "justify_items": null,
            "left": null,
            "margin": null,
            "max_height": null,
            "max_width": null,
            "min_height": null,
            "min_width": null,
            "object_fit": null,
            "object_position": null,
            "order": null,
            "overflow": null,
            "overflow_x": null,
            "overflow_y": null,
            "padding": null,
            "right": null,
            "top": null,
            "visibility": null,
            "width": null
          }
        },
        "e161c66683f44958a13e00160fd371a3": {
          "model_module": "@jupyter-widgets/controls",
          "model_name": "DescriptionStyleModel",
          "model_module_version": "1.5.0",
          "state": {
            "_model_module": "@jupyter-widgets/controls",
            "_model_module_version": "1.5.0",
            "_model_name": "DescriptionStyleModel",
            "_view_count": null,
            "_view_module": "@jupyter-widgets/base",
            "_view_module_version": "1.2.0",
            "_view_name": "StyleView",
            "description_width": ""
          }
        },
        "3438e2da15194393ade88e0cacdde381": {
          "model_module": "@jupyter-widgets/base",
          "model_name": "LayoutModel",
          "model_module_version": "1.2.0",
          "state": {
            "_model_module": "@jupyter-widgets/base",
            "_model_module_version": "1.2.0",
            "_model_name": "LayoutModel",
            "_view_count": null,
            "_view_module": "@jupyter-widgets/base",
            "_view_module_version": "1.2.0",
            "_view_name": "LayoutView",
            "align_content": null,
            "align_items": null,
            "align_self": null,
            "border": null,
            "bottom": null,
            "display": null,
            "flex": null,
            "flex_flow": null,
            "grid_area": null,
            "grid_auto_columns": null,
            "grid_auto_flow": null,
            "grid_auto_rows": null,
            "grid_column": null,
            "grid_gap": null,
            "grid_row": null,
            "grid_template_areas": null,
            "grid_template_columns": null,
            "grid_template_rows": null,
            "height": null,
            "justify_content": null,
            "justify_items": null,
            "left": null,
            "margin": null,
            "max_height": null,
            "max_width": null,
            "min_height": null,
            "min_width": null,
            "object_fit": null,
            "object_position": null,
            "order": null,
            "overflow": null,
            "overflow_x": null,
            "overflow_y": null,
            "padding": null,
            "right": null,
            "top": null,
            "visibility": null,
            "width": null
          }
        },
        "4fff7f7a186d4c1daaa7aaefb5b6e5ce": {
          "model_module": "@jupyter-widgets/controls",
          "model_name": "ProgressStyleModel",
          "model_module_version": "1.5.0",
          "state": {
            "_model_module": "@jupyter-widgets/controls",
            "_model_module_version": "1.5.0",
            "_model_name": "ProgressStyleModel",
            "_view_count": null,
            "_view_module": "@jupyter-widgets/base",
            "_view_module_version": "1.2.0",
            "_view_name": "StyleView",
            "bar_color": null,
            "description_width": ""
          }
        },
        "f554248050f9427a9d91b98a22618169": {
          "model_module": "@jupyter-widgets/base",
          "model_name": "LayoutModel",
          "model_module_version": "1.2.0",
          "state": {
            "_model_module": "@jupyter-widgets/base",
            "_model_module_version": "1.2.0",
            "_model_name": "LayoutModel",
            "_view_count": null,
            "_view_module": "@jupyter-widgets/base",
            "_view_module_version": "1.2.0",
            "_view_name": "LayoutView",
            "align_content": null,
            "align_items": null,
            "align_self": null,
            "border": null,
            "bottom": null,
            "display": null,
            "flex": null,
            "flex_flow": null,
            "grid_area": null,
            "grid_auto_columns": null,
            "grid_auto_flow": null,
            "grid_auto_rows": null,
            "grid_column": null,
            "grid_gap": null,
            "grid_row": null,
            "grid_template_areas": null,
            "grid_template_columns": null,
            "grid_template_rows": null,
            "height": null,
            "justify_content": null,
            "justify_items": null,
            "left": null,
            "margin": null,
            "max_height": null,
            "max_width": null,
            "min_height": null,
            "min_width": null,
            "object_fit": null,
            "object_position": null,
            "order": null,
            "overflow": null,
            "overflow_x": null,
            "overflow_y": null,
            "padding": null,
            "right": null,
            "top": null,
            "visibility": null,
            "width": null
          }
        },
        "d0820122f8be476d805f630e6e6ebeb1": {
          "model_module": "@jupyter-widgets/controls",
          "model_name": "DescriptionStyleModel",
          "model_module_version": "1.5.0",
          "state": {
            "_model_module": "@jupyter-widgets/controls",
            "_model_module_version": "1.5.0",
            "_model_name": "DescriptionStyleModel",
            "_view_count": null,
            "_view_module": "@jupyter-widgets/base",
            "_view_module_version": "1.2.0",
            "_view_name": "StyleView",
            "description_width": ""
          }
        }
      }
    }
  },
  "nbformat": 4,
  "nbformat_minor": 0
}